{
 "cells": [
  {
   "cell_type": "code",
   "execution_count": 1,
   "id": "3a05736f",
   "metadata": {},
   "outputs": [],
   "source": [
    "df=data.frame(emp_id=c(1,2,3,4,5,6),emp_name=c(\"Harish\",\"Balaji\",\"Suiya\",\"veeramani\",\"sabari\",\"rohi\"),\n",
    "              emp_date=as.Date(c(\"2019-09-26\",\"2019-08-23\",\"2019-07-26\",\"2022-09-20\",\"2000-01-01\",\"1990-09-10\")),\n",
    "              gender=factor(c(\"m\",\"m\",\"f\",\"f\",\"f\",\"f\")))"
   ]
  },
  {
   "cell_type": "code",
   "execution_count": 2,
   "id": "a5b8256d",
   "metadata": {},
   "outputs": [
    {
     "data": {
      "text/html": [
       "<table class=\"dataframe\">\n",
       "<caption>A data.frame: 6 × 4</caption>\n",
       "<thead>\n",
       "\t<tr><th scope=col>emp_id</th><th scope=col>emp_name</th><th scope=col>emp_date</th><th scope=col>gender</th></tr>\n",
       "\t<tr><th scope=col>&lt;dbl&gt;</th><th scope=col>&lt;chr&gt;</th><th scope=col>&lt;date&gt;</th><th scope=col>&lt;fct&gt;</th></tr>\n",
       "</thead>\n",
       "<tbody>\n",
       "\t<tr><td>1</td><td>Harish   </td><td>2019-09-26</td><td>m</td></tr>\n",
       "\t<tr><td>2</td><td>Balaji   </td><td>2019-08-23</td><td>m</td></tr>\n",
       "\t<tr><td>3</td><td>Suiya    </td><td>2019-07-26</td><td>f</td></tr>\n",
       "\t<tr><td>4</td><td>veeramani</td><td>2022-09-20</td><td>f</td></tr>\n",
       "\t<tr><td>5</td><td>sabari   </td><td>2000-01-01</td><td>f</td></tr>\n",
       "\t<tr><td>6</td><td>rohi     </td><td>1990-09-10</td><td>f</td></tr>\n",
       "</tbody>\n",
       "</table>\n"
      ],
      "text/latex": [
       "A data.frame: 6 × 4\n",
       "\\begin{tabular}{llll}\n",
       " emp\\_id & emp\\_name & emp\\_date & gender\\\\\n",
       " <dbl> & <chr> & <date> & <fct>\\\\\n",
       "\\hline\n",
       "\t 1 & Harish    & 2019-09-26 & m\\\\\n",
       "\t 2 & Balaji    & 2019-08-23 & m\\\\\n",
       "\t 3 & Suiya     & 2019-07-26 & f\\\\\n",
       "\t 4 & veeramani & 2022-09-20 & f\\\\\n",
       "\t 5 & sabari    & 2000-01-01 & f\\\\\n",
       "\t 6 & rohi      & 1990-09-10 & f\\\\\n",
       "\\end{tabular}\n"
      ],
      "text/markdown": [
       "\n",
       "A data.frame: 6 × 4\n",
       "\n",
       "| emp_id &lt;dbl&gt; | emp_name &lt;chr&gt; | emp_date &lt;date&gt; | gender &lt;fct&gt; |\n",
       "|---|---|---|---|\n",
       "| 1 | Harish    | 2019-09-26 | m |\n",
       "| 2 | Balaji    | 2019-08-23 | m |\n",
       "| 3 | Suiya     | 2019-07-26 | f |\n",
       "| 4 | veeramani | 2022-09-20 | f |\n",
       "| 5 | sabari    | 2000-01-01 | f |\n",
       "| 6 | rohi      | 1990-09-10 | f |\n",
       "\n"
      ],
      "text/plain": [
       "  emp_id emp_name  emp_date   gender\n",
       "1 1      Harish    2019-09-26 m     \n",
       "2 2      Balaji    2019-08-23 m     \n",
       "3 3      Suiya     2019-07-26 f     \n",
       "4 4      veeramani 2022-09-20 f     \n",
       "5 5      sabari    2000-01-01 f     \n",
       "6 6      rohi      1990-09-10 f     "
      ]
     },
     "metadata": {},
     "output_type": "display_data"
    }
   ],
   "source": [
    "df"
   ]
  },
  {
   "cell_type": "code",
   "execution_count": 18,
   "id": "65b48bf5",
   "metadata": {},
   "outputs": [
    {
     "data": {
      "text/html": [
       "<table class=\"dataframe\">\n",
       "<caption>A data.frame: 6 × 5</caption>\n",
       "<thead>\n",
       "\t<tr><th></th><th scope=col>emp_id</th><th scope=col>emp_name</th><th scope=col>emp_date</th><th scope=col>gender</th><th scope=col>dept</th></tr>\n",
       "\t<tr><th></th><th scope=col>&lt;dbl&gt;</th><th scope=col>&lt;chr&gt;</th><th scope=col>&lt;date&gt;</th><th scope=col>&lt;fct&gt;</th><th scope=col>&lt;chr&gt;</th></tr>\n",
       "</thead>\n",
       "<tbody>\n",
       "\t<tr><th scope=row>1</th><td>1</td><td>Harish   </td><td>2019-09-26</td><td>m</td><td>cse </td></tr>\n",
       "\t<tr><th scope=row>2</th><td>2</td><td>Balaji   </td><td>2019-08-23</td><td>m</td><td>phy </td></tr>\n",
       "\t<tr><th scope=row>3</th><td>3</td><td>Suiya    </td><td>2019-07-26</td><td>f</td><td>che </td></tr>\n",
       "\t<tr><th scope=row>4</th><td>4</td><td>veeramani</td><td>2022-09-20</td><td>f</td><td>eng </td></tr>\n",
       "\t<tr><th scope=row>5</th><td>5</td><td>sabari   </td><td>2000-01-01</td><td>f</td><td>tam </td></tr>\n",
       "\t<tr><th scope=row>6</th><td>6</td><td>rohi     </td><td>1990-09-10</td><td>f</td><td>math</td></tr>\n",
       "</tbody>\n",
       "</table>\n"
      ],
      "text/latex": [
       "A data.frame: 6 × 5\n",
       "\\begin{tabular}{r|lllll}\n",
       "  & emp\\_id & emp\\_name & emp\\_date & gender & dept\\\\\n",
       "  & <dbl> & <chr> & <date> & <fct> & <chr>\\\\\n",
       "\\hline\n",
       "\t1 & 1 & Harish    & 2019-09-26 & m & cse \\\\\n",
       "\t2 & 2 & Balaji    & 2019-08-23 & m & phy \\\\\n",
       "\t3 & 3 & Suiya     & 2019-07-26 & f & che \\\\\n",
       "\t4 & 4 & veeramani & 2022-09-20 & f & eng \\\\\n",
       "\t5 & 5 & sabari    & 2000-01-01 & f & tam \\\\\n",
       "\t6 & 6 & rohi      & 1990-09-10 & f & math\\\\\n",
       "\\end{tabular}\n"
      ],
      "text/markdown": [
       "\n",
       "A data.frame: 6 × 5\n",
       "\n",
       "| <!--/--> | emp_id &lt;dbl&gt; | emp_name &lt;chr&gt; | emp_date &lt;date&gt; | gender &lt;fct&gt; | dept &lt;chr&gt; |\n",
       "|---|---|---|---|---|---|\n",
       "| 1 | 1 | Harish    | 2019-09-26 | m | cse  |\n",
       "| 2 | 2 | Balaji    | 2019-08-23 | m | phy  |\n",
       "| 3 | 3 | Suiya     | 2019-07-26 | f | che  |\n",
       "| 4 | 4 | veeramani | 2022-09-20 | f | eng  |\n",
       "| 5 | 5 | sabari    | 2000-01-01 | f | tam  |\n",
       "| 6 | 6 | rohi      | 1990-09-10 | f | math |\n",
       "\n"
      ],
      "text/plain": [
       "  emp_id emp_name  emp_date   gender dept\n",
       "1 1      Harish    2019-09-26 m      cse \n",
       "2 2      Balaji    2019-08-23 m      phy \n",
       "3 3      Suiya     2019-07-26 f      che \n",
       "4 4      veeramani 2022-09-20 f      eng \n",
       "5 5      sabari    2000-01-01 f      tam \n",
       "6 6      rohi      1990-09-10 f      math"
      ]
     },
     "metadata": {},
     "output_type": "display_data"
    }
   ],
   "source": [
    "# adding new column\n",
    "\n",
    "df$dept=c('cse','phy','che','eng','tam','math')   #df $ column name\n",
    "df"
   ]
  },
  {
   "cell_type": "code",
   "execution_count": 4,
   "id": "3309d2ac",
   "metadata": {},
   "outputs": [],
   "source": [
    "# adding new row \n",
    "newr=data.frame(emp_id=c(7),emp_name=c(\"shiva\"),emp_date=as.Date(c(\"2002-09-20\")),gender=factor(c(\"f\")),dept=c(\"java\"))"
   ]
  },
  {
   "cell_type": "code",
   "execution_count": 5,
   "id": "c7ce455d",
   "metadata": {},
   "outputs": [
    {
     "data": {
      "text/html": [
       "<table class=\"dataframe\">\n",
       "<caption>A data.frame: 1 × 5</caption>\n",
       "<thead>\n",
       "\t<tr><th scope=col>emp_id</th><th scope=col>emp_name</th><th scope=col>emp_date</th><th scope=col>gender</th><th scope=col>dept</th></tr>\n",
       "\t<tr><th scope=col>&lt;dbl&gt;</th><th scope=col>&lt;chr&gt;</th><th scope=col>&lt;date&gt;</th><th scope=col>&lt;fct&gt;</th><th scope=col>&lt;chr&gt;</th></tr>\n",
       "</thead>\n",
       "<tbody>\n",
       "\t<tr><td>7</td><td>shiva</td><td>2002-09-20</td><td>f</td><td>java</td></tr>\n",
       "</tbody>\n",
       "</table>\n"
      ],
      "text/latex": [
       "A data.frame: 1 × 5\n",
       "\\begin{tabular}{lllll}\n",
       " emp\\_id & emp\\_name & emp\\_date & gender & dept\\\\\n",
       " <dbl> & <chr> & <date> & <fct> & <chr>\\\\\n",
       "\\hline\n",
       "\t 7 & shiva & 2002-09-20 & f & java\\\\\n",
       "\\end{tabular}\n"
      ],
      "text/markdown": [
       "\n",
       "A data.frame: 1 × 5\n",
       "\n",
       "| emp_id &lt;dbl&gt; | emp_name &lt;chr&gt; | emp_date &lt;date&gt; | gender &lt;fct&gt; | dept &lt;chr&gt; |\n",
       "|---|---|---|---|---|\n",
       "| 7 | shiva | 2002-09-20 | f | java |\n",
       "\n"
      ],
      "text/plain": [
       "  emp_id emp_name emp_date   gender dept\n",
       "1 7      shiva    2002-09-20 f      java"
      ]
     },
     "metadata": {},
     "output_type": "display_data"
    }
   ],
   "source": [
    "newr"
   ]
  },
  {
   "cell_type": "code",
   "execution_count": 6,
   "id": "47309c11",
   "metadata": {},
   "outputs": [
    {
     "data": {
      "text/html": [
       "<table class=\"dataframe\">\n",
       "<caption>A data.frame: 7 × 5</caption>\n",
       "<thead>\n",
       "\t<tr><th scope=col>emp_id</th><th scope=col>emp_name</th><th scope=col>emp_date</th><th scope=col>gender</th><th scope=col>dept</th></tr>\n",
       "\t<tr><th scope=col>&lt;dbl&gt;</th><th scope=col>&lt;chr&gt;</th><th scope=col>&lt;date&gt;</th><th scope=col>&lt;fct&gt;</th><th scope=col>&lt;chr&gt;</th></tr>\n",
       "</thead>\n",
       "<tbody>\n",
       "\t<tr><td>1</td><td>Harish   </td><td>2019-09-26</td><td>m</td><td>cse </td></tr>\n",
       "\t<tr><td>2</td><td>Balaji   </td><td>2019-08-23</td><td>m</td><td>phy </td></tr>\n",
       "\t<tr><td>3</td><td>Suiya    </td><td>2019-07-26</td><td>f</td><td>che </td></tr>\n",
       "\t<tr><td>4</td><td>veeramani</td><td>2022-09-20</td><td>f</td><td>eng </td></tr>\n",
       "\t<tr><td>5</td><td>sabari   </td><td>2000-01-01</td><td>f</td><td>tam </td></tr>\n",
       "\t<tr><td>6</td><td>rohi     </td><td>1990-09-10</td><td>f</td><td>math</td></tr>\n",
       "\t<tr><td>7</td><td>shiva    </td><td>2002-09-20</td><td>f</td><td>java</td></tr>\n",
       "</tbody>\n",
       "</table>\n"
      ],
      "text/latex": [
       "A data.frame: 7 × 5\n",
       "\\begin{tabular}{lllll}\n",
       " emp\\_id & emp\\_name & emp\\_date & gender & dept\\\\\n",
       " <dbl> & <chr> & <date> & <fct> & <chr>\\\\\n",
       "\\hline\n",
       "\t 1 & Harish    & 2019-09-26 & m & cse \\\\\n",
       "\t 2 & Balaji    & 2019-08-23 & m & phy \\\\\n",
       "\t 3 & Suiya     & 2019-07-26 & f & che \\\\\n",
       "\t 4 & veeramani & 2022-09-20 & f & eng \\\\\n",
       "\t 5 & sabari    & 2000-01-01 & f & tam \\\\\n",
       "\t 6 & rohi      & 1990-09-10 & f & math\\\\\n",
       "\t 7 & shiva     & 2002-09-20 & f & java\\\\\n",
       "\\end{tabular}\n"
      ],
      "text/markdown": [
       "\n",
       "A data.frame: 7 × 5\n",
       "\n",
       "| emp_id &lt;dbl&gt; | emp_name &lt;chr&gt; | emp_date &lt;date&gt; | gender &lt;fct&gt; | dept &lt;chr&gt; |\n",
       "|---|---|---|---|---|\n",
       "| 1 | Harish    | 2019-09-26 | m | cse  |\n",
       "| 2 | Balaji    | 2019-08-23 | m | phy  |\n",
       "| 3 | Suiya     | 2019-07-26 | f | che  |\n",
       "| 4 | veeramani | 2022-09-20 | f | eng  |\n",
       "| 5 | sabari    | 2000-01-01 | f | tam  |\n",
       "| 6 | rohi      | 1990-09-10 | f | math |\n",
       "| 7 | shiva     | 2002-09-20 | f | java |\n",
       "\n"
      ],
      "text/plain": [
       "  emp_id emp_name  emp_date   gender dept\n",
       "1 1      Harish    2019-09-26 m      cse \n",
       "2 2      Balaji    2019-08-23 m      phy \n",
       "3 3      Suiya     2019-07-26 f      che \n",
       "4 4      veeramani 2022-09-20 f      eng \n",
       "5 5      sabari    2000-01-01 f      tam \n",
       "6 6      rohi      1990-09-10 f      math\n",
       "7 7      shiva     2002-09-20 f      java"
      ]
     },
     "metadata": {},
     "output_type": "display_data"
    }
   ],
   "source": [
    "rbind(df,newr)    # r bind used to add new new row in data frame"
   ]
  },
  {
   "cell_type": "code",
   "execution_count": 19,
   "id": "34de66b4",
   "metadata": {},
   "outputs": [],
   "source": [
    "#removing column or drop columns\n",
    "\n",
    "df=subset(df,select=-c(dept))  # removing dept column"
   ]
  },
  {
   "cell_type": "code",
   "execution_count": 20,
   "id": "afdba67b",
   "metadata": {},
   "outputs": [
    {
     "data": {
      "text/html": [
       "<table class=\"dataframe\">\n",
       "<caption>A data.frame: 6 × 4</caption>\n",
       "<thead>\n",
       "\t<tr><th></th><th scope=col>emp_id</th><th scope=col>emp_name</th><th scope=col>emp_date</th><th scope=col>gender</th></tr>\n",
       "\t<tr><th></th><th scope=col>&lt;dbl&gt;</th><th scope=col>&lt;chr&gt;</th><th scope=col>&lt;date&gt;</th><th scope=col>&lt;fct&gt;</th></tr>\n",
       "</thead>\n",
       "<tbody>\n",
       "\t<tr><th scope=row>1</th><td>1</td><td>Harish   </td><td>2019-09-26</td><td>m</td></tr>\n",
       "\t<tr><th scope=row>2</th><td>2</td><td>Balaji   </td><td>2019-08-23</td><td>m</td></tr>\n",
       "\t<tr><th scope=row>3</th><td>3</td><td>Suiya    </td><td>2019-07-26</td><td>f</td></tr>\n",
       "\t<tr><th scope=row>4</th><td>4</td><td>veeramani</td><td>2022-09-20</td><td>f</td></tr>\n",
       "\t<tr><th scope=row>5</th><td>5</td><td>sabari   </td><td>2000-01-01</td><td>f</td></tr>\n",
       "\t<tr><th scope=row>6</th><td>6</td><td>rohi     </td><td>1990-09-10</td><td>f</td></tr>\n",
       "</tbody>\n",
       "</table>\n"
      ],
      "text/latex": [
       "A data.frame: 6 × 4\n",
       "\\begin{tabular}{r|llll}\n",
       "  & emp\\_id & emp\\_name & emp\\_date & gender\\\\\n",
       "  & <dbl> & <chr> & <date> & <fct>\\\\\n",
       "\\hline\n",
       "\t1 & 1 & Harish    & 2019-09-26 & m\\\\\n",
       "\t2 & 2 & Balaji    & 2019-08-23 & m\\\\\n",
       "\t3 & 3 & Suiya     & 2019-07-26 & f\\\\\n",
       "\t4 & 4 & veeramani & 2022-09-20 & f\\\\\n",
       "\t5 & 5 & sabari    & 2000-01-01 & f\\\\\n",
       "\t6 & 6 & rohi      & 1990-09-10 & f\\\\\n",
       "\\end{tabular}\n"
      ],
      "text/markdown": [
       "\n",
       "A data.frame: 6 × 4\n",
       "\n",
       "| <!--/--> | emp_id &lt;dbl&gt; | emp_name &lt;chr&gt; | emp_date &lt;date&gt; | gender &lt;fct&gt; |\n",
       "|---|---|---|---|---|\n",
       "| 1 | 1 | Harish    | 2019-09-26 | m |\n",
       "| 2 | 2 | Balaji    | 2019-08-23 | m |\n",
       "| 3 | 3 | Suiya     | 2019-07-26 | f |\n",
       "| 4 | 4 | veeramani | 2022-09-20 | f |\n",
       "| 5 | 5 | sabari    | 2000-01-01 | f |\n",
       "| 6 | 6 | rohi      | 1990-09-10 | f |\n",
       "\n"
      ],
      "text/plain": [
       "  emp_id emp_name  emp_date   gender\n",
       "1 1      Harish    2019-09-26 m     \n",
       "2 2      Balaji    2019-08-23 m     \n",
       "3 3      Suiya     2019-07-26 f     \n",
       "4 4      veeramani 2022-09-20 f     \n",
       "5 5      sabari    2000-01-01 f     \n",
       "6 6      rohi      1990-09-10 f     "
      ]
     },
     "metadata": {},
     "output_type": "display_data"
    }
   ],
   "source": [
    "df"
   ]
  },
  {
   "cell_type": "code",
   "execution_count": 6,
   "id": "913ce766",
   "metadata": {},
   "outputs": [
    {
     "data": {
      "text/html": [
       "<table class=\"dataframe\">\n",
       "<caption>A data.frame: 5 × 4</caption>\n",
       "<thead>\n",
       "\t<tr><th></th><th scope=col>emp_id</th><th scope=col>emp_name</th><th scope=col>emp_date</th><th scope=col>gender</th></tr>\n",
       "\t<tr><th></th><th scope=col>&lt;dbl&gt;</th><th scope=col>&lt;chr&gt;</th><th scope=col>&lt;date&gt;</th><th scope=col>&lt;fct&gt;</th></tr>\n",
       "</thead>\n",
       "<tbody>\n",
       "\t<tr><th scope=row>1</th><td>1</td><td>Harish   </td><td>2019-09-26</td><td>m</td></tr>\n",
       "\t<tr><th scope=row>3</th><td>3</td><td>Suiya    </td><td>2019-07-26</td><td>f</td></tr>\n",
       "\t<tr><th scope=row>4</th><td>4</td><td>veeramani</td><td>2022-09-20</td><td>f</td></tr>\n",
       "\t<tr><th scope=row>5</th><td>5</td><td>sabari   </td><td>2000-01-01</td><td>f</td></tr>\n",
       "\t<tr><th scope=row>6</th><td>6</td><td>rohi     </td><td>1990-09-10</td><td>f</td></tr>\n",
       "</tbody>\n",
       "</table>\n"
      ],
      "text/latex": [
       "A data.frame: 5 × 4\n",
       "\\begin{tabular}{r|llll}\n",
       "  & emp\\_id & emp\\_name & emp\\_date & gender\\\\\n",
       "  & <dbl> & <chr> & <date> & <fct>\\\\\n",
       "\\hline\n",
       "\t1 & 1 & Harish    & 2019-09-26 & m\\\\\n",
       "\t3 & 3 & Suiya     & 2019-07-26 & f\\\\\n",
       "\t4 & 4 & veeramani & 2022-09-20 & f\\\\\n",
       "\t5 & 5 & sabari    & 2000-01-01 & f\\\\\n",
       "\t6 & 6 & rohi      & 1990-09-10 & f\\\\\n",
       "\\end{tabular}\n"
      ],
      "text/markdown": [
       "\n",
       "A data.frame: 5 × 4\n",
       "\n",
       "| <!--/--> | emp_id &lt;dbl&gt; | emp_name &lt;chr&gt; | emp_date &lt;date&gt; | gender &lt;fct&gt; |\n",
       "|---|---|---|---|---|\n",
       "| 1 | 1 | Harish    | 2019-09-26 | m |\n",
       "| 3 | 3 | Suiya     | 2019-07-26 | f |\n",
       "| 4 | 4 | veeramani | 2022-09-20 | f |\n",
       "| 5 | 5 | sabari    | 2000-01-01 | f |\n",
       "| 6 | 6 | rohi      | 1990-09-10 | f |\n",
       "\n"
      ],
      "text/plain": [
       "  emp_id emp_name  emp_date   gender\n",
       "1 1      Harish    2019-09-26 m     \n",
       "3 3      Suiya     2019-07-26 f     \n",
       "4 4      veeramani 2022-09-20 f     \n",
       "5 5      sabari    2000-01-01 f     \n",
       "6 6      rohi      1990-09-10 f     "
      ]
     },
     "metadata": {},
     "output_type": "display_data"
    }
   ],
   "source": [
    "# removing row \n",
    "df[-c(2),]"
   ]
  },
  {
   "cell_type": "code",
   "execution_count": 10,
   "id": "179663da",
   "metadata": {},
   "outputs": [
    {
     "data": {
      "text/html": [
       "<table>\n",
       "<thead><tr><th scope=col>StudentId</th><th scope=col>Product</th></tr></thead>\n",
       "<tbody>\n",
       "\t<tr><td>101              </td><td>Hindi            </td></tr>\n",
       "\t<tr><td>102              </td><td>English          </td></tr>\n",
       "\t<tr><td>103              </td><td>Maths            </td></tr>\n",
       "\t<tr><td>104              </td><td>Science          </td></tr>\n",
       "\t<tr><td>105              </td><td>Political Science</td></tr>\n",
       "\t<tr><td>106              </td><td>Physics          </td></tr>\n",
       "</tbody>\n",
       "</table>\n"
      ],
      "text/latex": [
       "\\begin{tabular}{r|ll}\n",
       " StudentId & Product\\\\\n",
       "\\hline\n",
       "\t 101               & Hindi            \\\\\n",
       "\t 102               & English          \\\\\n",
       "\t 103               & Maths            \\\\\n",
       "\t 104               & Science          \\\\\n",
       "\t 105               & Political Science\\\\\n",
       "\t 106               & Physics          \\\\\n",
       "\\end{tabular}\n"
      ],
      "text/markdown": [
       "\n",
       "| StudentId | Product |\n",
       "|---|---|\n",
       "| 101               | Hindi             |\n",
       "| 102               | English           |\n",
       "| 103               | Maths             |\n",
       "| 104               | Science           |\n",
       "| 105               | Political Science |\n",
       "| 106               | Physics           |\n",
       "\n"
      ],
      "text/plain": [
       "  StudentId Product          \n",
       "1 101       Hindi            \n",
       "2 102       English          \n",
       "3 103       Maths            \n",
       "4 104       Science          \n",
       "5 105       Political Science\n",
       "6 106       Physics          "
      ]
     },
     "metadata": {},
     "output_type": "display_data"
    },
    {
     "data": {
      "text/html": [
       "<table>\n",
       "<thead><tr><th scope=col>StudentId</th><th scope=col>State</th></tr></thead>\n",
       "<tbody>\n",
       "\t<tr><td>102      </td><td>Mangalore</td></tr>\n",
       "\t<tr><td>104      </td><td>Mysore   </td></tr>\n",
       "\t<tr><td>106      </td><td>Pune     </td></tr>\n",
       "\t<tr><td>107      </td><td>Dehradun </td></tr>\n",
       "\t<tr><td>108      </td><td>Dehli    </td></tr>\n",
       "</tbody>\n",
       "</table>\n"
      ],
      "text/latex": [
       "\\begin{tabular}{r|ll}\n",
       " StudentId & State\\\\\n",
       "\\hline\n",
       "\t 102       & Mangalore\\\\\n",
       "\t 104       & Mysore   \\\\\n",
       "\t 106       & Pune     \\\\\n",
       "\t 107       & Dehradun \\\\\n",
       "\t 108       & Dehli    \\\\\n",
       "\\end{tabular}\n"
      ],
      "text/markdown": [
       "\n",
       "| StudentId | State |\n",
       "|---|---|\n",
       "| 102       | Mangalore |\n",
       "| 104       | Mysore    |\n",
       "| 106       | Pune      |\n",
       "| 107       | Dehradun  |\n",
       "| 108       | Dehli     |\n",
       "\n"
      ],
      "text/plain": [
       "  StudentId State    \n",
       "1 102       Mangalore\n",
       "2 104       Mysore   \n",
       "3 106       Pune     \n",
       "4 107       Dehradun \n",
       "5 108       Dehli    "
      ]
     },
     "metadata": {},
     "output_type": "display_data"
    }
   ],
   "source": [
    "df1=data.frame(StudentId=c(101,102,103,104,105,106),Product=c(\"Hindi\",\"English\",\"Maths\",\"Science\",\"Political Science\",\"Physics\"))\n",
    "df1\n",
    "\n",
    "df2=data.frame(StudentId=c(102,104,106,107,108),State=c(\"Mangalore\",\"Mysore\",\"Pune\",\"Dehradun\",\"Dehli\"))\n",
    "df2"
   ]
  },
  {
   "cell_type": "code",
   "execution_count": 11,
   "id": "2dd2c75a",
   "metadata": {},
   "outputs": [
    {
     "data": {
      "text/html": [
       "<table>\n",
       "<thead><tr><th scope=col>StudentId</th><th scope=col>Product</th><th scope=col>State</th></tr></thead>\n",
       "<tbody>\n",
       "\t<tr><td>101              </td><td>Hindi            </td><td>NA               </td></tr>\n",
       "\t<tr><td>102              </td><td>English          </td><td>Mangalore        </td></tr>\n",
       "\t<tr><td>103              </td><td>Maths            </td><td>NA               </td></tr>\n",
       "\t<tr><td>104              </td><td>Science          </td><td>Mysore           </td></tr>\n",
       "\t<tr><td>105              </td><td>Political Science</td><td>NA               </td></tr>\n",
       "\t<tr><td>106              </td><td>Physics          </td><td>Pune             </td></tr>\n",
       "</tbody>\n",
       "</table>\n"
      ],
      "text/latex": [
       "\\begin{tabular}{r|lll}\n",
       " StudentId & Product & State\\\\\n",
       "\\hline\n",
       "\t 101               & Hindi             & NA               \\\\\n",
       "\t 102               & English           & Mangalore        \\\\\n",
       "\t 103               & Maths             & NA               \\\\\n",
       "\t 104               & Science           & Mysore           \\\\\n",
       "\t 105               & Political Science & NA               \\\\\n",
       "\t 106               & Physics           & Pune             \\\\\n",
       "\\end{tabular}\n"
      ],
      "text/markdown": [
       "\n",
       "| StudentId | Product | State |\n",
       "|---|---|---|\n",
       "| 101               | Hindi             | NA                |\n",
       "| 102               | English           | Mangalore         |\n",
       "| 103               | Maths             | NA                |\n",
       "| 104               | Science           | Mysore            |\n",
       "| 105               | Political Science | NA                |\n",
       "| 106               | Physics           | Pune              |\n",
       "\n"
      ],
      "text/plain": [
       "  StudentId Product           State    \n",
       "1 101       Hindi             NA       \n",
       "2 102       English           Mangalore\n",
       "3 103       Maths             NA       \n",
       "4 104       Science           Mysore   \n",
       "5 105       Political Science NA       \n",
       "6 106       Physics           Pune     "
      ]
     },
     "metadata": {},
     "output_type": "display_data"
    },
    {
     "data": {
      "text/html": [
       "<table>\n",
       "<thead><tr><th scope=col>StudentId</th><th scope=col>Product</th><th scope=col>State</th></tr></thead>\n",
       "<tbody>\n",
       "\t<tr><td>102      </td><td>English  </td><td>Mangalore</td></tr>\n",
       "\t<tr><td>104      </td><td>Science  </td><td>Mysore   </td></tr>\n",
       "\t<tr><td>106      </td><td>Physics  </td><td>Pune     </td></tr>\n",
       "\t<tr><td>107      </td><td>NA       </td><td>Dehradun </td></tr>\n",
       "\t<tr><td>108      </td><td>NA       </td><td>Dehli    </td></tr>\n",
       "</tbody>\n",
       "</table>\n"
      ],
      "text/latex": [
       "\\begin{tabular}{r|lll}\n",
       " StudentId & Product & State\\\\\n",
       "\\hline\n",
       "\t 102       & English   & Mangalore\\\\\n",
       "\t 104       & Science   & Mysore   \\\\\n",
       "\t 106       & Physics   & Pune     \\\\\n",
       "\t 107       & NA        & Dehradun \\\\\n",
       "\t 108       & NA        & Dehli    \\\\\n",
       "\\end{tabular}\n"
      ],
      "text/markdown": [
       "\n",
       "| StudentId | Product | State |\n",
       "|---|---|---|\n",
       "| 102       | English   | Mangalore |\n",
       "| 104       | Science   | Mysore    |\n",
       "| 106       | Physics   | Pune      |\n",
       "| 107       | NA        | Dehradun  |\n",
       "| 108       | NA        | Dehli     |\n",
       "\n"
      ],
      "text/plain": [
       "  StudentId Product State    \n",
       "1 102       English Mangalore\n",
       "2 104       Science Mysore   \n",
       "3 106       Physics Pune     \n",
       "4 107       NA      Dehradun \n",
       "5 108       NA      Dehli    "
      ]
     },
     "metadata": {},
     "output_type": "display_data"
    },
    {
     "data": {
      "text/html": [
       "<table>\n",
       "<thead><tr><th scope=col>StudentId</th><th scope=col>Product</th><th scope=col>State</th></tr></thead>\n",
       "<tbody>\n",
       "\t<tr><td>102      </td><td>English  </td><td>Mangalore</td></tr>\n",
       "\t<tr><td>104      </td><td>Science  </td><td>Mysore   </td></tr>\n",
       "\t<tr><td>106      </td><td>Physics  </td><td>Pune     </td></tr>\n",
       "</tbody>\n",
       "</table>\n"
      ],
      "text/latex": [
       "\\begin{tabular}{r|lll}\n",
       " StudentId & Product & State\\\\\n",
       "\\hline\n",
       "\t 102       & English   & Mangalore\\\\\n",
       "\t 104       & Science   & Mysore   \\\\\n",
       "\t 106       & Physics   & Pune     \\\\\n",
       "\\end{tabular}\n"
      ],
      "text/markdown": [
       "\n",
       "| StudentId | Product | State |\n",
       "|---|---|---|\n",
       "| 102       | English   | Mangalore |\n",
       "| 104       | Science   | Mysore    |\n",
       "| 106       | Physics   | Pune      |\n",
       "\n"
      ],
      "text/plain": [
       "  StudentId Product State    \n",
       "1 102       English Mangalore\n",
       "2 104       Science Mysore   \n",
       "3 106       Physics Pune     "
      ]
     },
     "metadata": {},
     "output_type": "display_data"
    },
    {
     "data": {
      "text/html": [
       "<table>\n",
       "<thead><tr><th scope=col>StudentId</th><th scope=col>Product</th><th scope=col>State</th></tr></thead>\n",
       "<tbody>\n",
       "\t<tr><td>101              </td><td>Hindi            </td><td>NA               </td></tr>\n",
       "\t<tr><td>102              </td><td>English          </td><td>Mangalore        </td></tr>\n",
       "\t<tr><td>103              </td><td>Maths            </td><td>NA               </td></tr>\n",
       "\t<tr><td>104              </td><td>Science          </td><td>Mysore           </td></tr>\n",
       "\t<tr><td>105              </td><td>Political Science</td><td>NA               </td></tr>\n",
       "\t<tr><td>106              </td><td>Physics          </td><td>Pune             </td></tr>\n",
       "\t<tr><td>107              </td><td>NA               </td><td>Dehradun         </td></tr>\n",
       "\t<tr><td>108              </td><td>NA               </td><td>Dehli            </td></tr>\n",
       "</tbody>\n",
       "</table>\n"
      ],
      "text/latex": [
       "\\begin{tabular}{r|lll}\n",
       " StudentId & Product & State\\\\\n",
       "\\hline\n",
       "\t 101               & Hindi             & NA               \\\\\n",
       "\t 102               & English           & Mangalore        \\\\\n",
       "\t 103               & Maths             & NA               \\\\\n",
       "\t 104               & Science           & Mysore           \\\\\n",
       "\t 105               & Political Science & NA               \\\\\n",
       "\t 106               & Physics           & Pune             \\\\\n",
       "\t 107               & NA                & Dehradun         \\\\\n",
       "\t 108               & NA                & Dehli            \\\\\n",
       "\\end{tabular}\n"
      ],
      "text/markdown": [
       "\n",
       "| StudentId | Product | State |\n",
       "|---|---|---|\n",
       "| 101               | Hindi             | NA                |\n",
       "| 102               | English           | Mangalore         |\n",
       "| 103               | Maths             | NA                |\n",
       "| 104               | Science           | Mysore            |\n",
       "| 105               | Political Science | NA                |\n",
       "| 106               | Physics           | Pune              |\n",
       "| 107               | NA                | Dehradun          |\n",
       "| 108               | NA                | Dehli             |\n",
       "\n"
      ],
      "text/plain": [
       "  StudentId Product           State    \n",
       "1 101       Hindi             NA       \n",
       "2 102       English           Mangalore\n",
       "3 103       Maths             NA       \n",
       "4 104       Science           Mysore   \n",
       "5 105       Political Science NA       \n",
       "6 106       Physics           Pune     \n",
       "7 107       NA                Dehradun \n",
       "8 108       NA                Dehli    "
      ]
     },
     "metadata": {},
     "output_type": "display_data"
    }
   ],
   "source": [
    "#left join\n",
    "df=merge(x=df1,y=df2,by=\"StudentId\",all.x=TRUE)\n",
    "df\n",
    "\n",
    "#right join\n",
    "df=merge(x=df1,y=df2,by=\"StudentId\",all.y=TRUE)\n",
    "df\n",
    "\n",
    "#natural join\n",
    "df=merge(x=df1,y=df2,by=\"StudentId\",all=FALSE)  # common values only get printed\n",
    "df\n",
    "\n",
    "#full outer join\n",
    "df=merge(x=df1,y=df2,by=\"StudentId\",all=TRUE)\n",
    "df"
   ]
  },
  {
   "cell_type": "code",
   "execution_count": 7,
   "id": "95188a4e",
   "metadata": {},
   "outputs": [
    {
     "name": "stdout",
     "output_type": "stream",
     "text": [
      "enter a value 12\n",
      "[1] \"even\"\n"
     ]
    }
   ],
   "source": [
    "# looping \n",
    "# entry check loop,exit check loop\n",
    "# looping statements break and next\n",
    "#conditional statemnets\n",
    "\n",
    "a=as.integer(readline(\"enter a value \"))\n",
    "if(a%%2==0)\n",
    "    {\n",
    "    print(\"even\")\n",
    "}else\n",
    "    {\n",
    "    print(\"odd\")\n",
    "}"
   ]
  },
  {
   "cell_type": "code",
   "execution_count": 22,
   "id": "b015f8d5",
   "metadata": {},
   "outputs": [
    {
     "name": "stdout",
     "output_type": "stream",
     "text": [
      "[1] 1\n",
      "[1] 2\n",
      "[1] 3\n",
      "[1] 5\n"
     ]
    }
   ],
   "source": [
    "l=list(1,2,3,4,5)\n",
    "for(x in l)\n",
    "    {\n",
    "    if(x==4)\n",
    "        {                                                # next (continue)\n",
    "        next\n",
    "    }\n",
    "    print(x)\n",
    "}"
   ]
  },
  {
   "cell_type": "code",
   "execution_count": 23,
   "id": "c9a2e65b",
   "metadata": {},
   "outputs": [
    {
     "name": "stdout",
     "output_type": "stream",
     "text": [
      "[1] 1\n",
      "[1] 2\n",
      "[1] 3\n"
     ]
    }
   ],
   "source": [
    "l=list(1,2,3,4,5)\n",
    "for(x in l)\n",
    "    {\n",
    "    if(x==4)\n",
    "        {\n",
    "        break                                                      #break\n",
    "    }                                                       \n",
    "    print(x)\n",
    "}"
   ]
  },
  {
   "cell_type": "code",
   "execution_count": 15,
   "id": "f1c7af18",
   "metadata": {},
   "outputs": [
    {
     "name": "stdout",
     "output_type": "stream",
     "text": [
      "[1] 1\n",
      "[1] 2\n",
      "[1] 3\n",
      "[1] 4\n",
      "[1] 5\n"
     ]
    }
   ],
   "source": [
    "# for loop\n",
    "\n",
    "l=list(1,2,3,4,5)\n",
    "for(x in l)\n",
    "    {\n",
    "    \n",
    "    print(x)\n",
    "}"
   ]
  },
  {
   "cell_type": "code",
   "execution_count": 20,
   "id": "cbee4856",
   "metadata": {},
   "outputs": [
    {
     "name": "stdout",
     "output_type": "stream",
     "text": [
      "Enter a number:123\n"
     ]
    },
    {
     "data": {
      "text/html": [
       "<span style=white-space:pre-wrap>'The sum of cube of the digits is  36'</span>"
      ],
      "text/latex": [
       "'The sum of cube of the digits is  36'"
      ],
      "text/markdown": [
       "<span style=white-space:pre-wrap>'The sum of cube of the digits is  36'</span>"
      ],
      "text/plain": [
       "[1] \"The sum of cube of the digits is  36\""
      ]
     },
     "metadata": {},
     "output_type": "display_data"
    },
    {
     "data": {
      "text/html": [
       "'It is not a Armstrong number'"
      ],
      "text/latex": [
       "'It is not a Armstrong number'"
      ],
      "text/markdown": [
       "'It is not a Armstrong number'"
      ],
      "text/plain": [
       "[1] \"It is not a Armstrong number\""
      ]
     },
     "metadata": {},
     "output_type": "display_data"
    }
   ],
   "source": [
    "# while - amstrong number (153= 1 cube + 5 cube + 3 cube =153)\n",
    "\n",
    "num=as.numeric(readline(\"Enter a number:\"))\n",
    "arm=num   # cause at end of loop num will be differ \n",
    "sum=0\n",
    "while(num>0){\n",
    "    digit=num%%10\n",
    "    sum=sum+(digit^3)\n",
    "    num=floor(num/10)\n",
    "}\n",
    "paste(\"The sum of cube of the digits is \",sum)\n",
    "if(arm==sum){\n",
    "    paste(\"It is Armstrong number\")\n",
    "}else{\n",
    "    paste(\"It is not a Armstrong number\")\n",
    "}"
   ]
  },
  {
   "cell_type": "code",
   "execution_count": 19,
   "id": "aa6990e1",
   "metadata": {},
   "outputs": [
    {
     "name": "stdout",
     "output_type": "stream",
     "text": [
      "Enter a number:123\n"
     ]
    },
    {
     "data": {
      "text/html": [
       "<span style=white-space:pre-wrap>'The sum  of the digits is  6'</span>"
      ],
      "text/latex": [
       "'The sum  of the digits is  6'"
      ],
      "text/markdown": [
       "<span style=white-space:pre-wrap>'The sum  of the digits is  6'</span>"
      ],
      "text/plain": [
       "[1] \"The sum  of the digits is  6\""
      ]
     },
     "metadata": {},
     "output_type": "display_data"
    }
   ],
   "source": [
    "# while - sum of digits\n",
    "\n",
    "num=as.numeric(readline(\"Enter a number:\"))\n",
    "arm=num\n",
    "sum=0\n",
    "while(num>0){\n",
    "    digit=num%%10\n",
    "    sum=sum+digit\n",
    "    num=floor(num/10)\n",
    "}\n",
    "paste(\"The sum  of the digits is \",sum)"
   ]
  },
  {
   "cell_type": "code",
   "execution_count": 3,
   "id": "709d9b75",
   "metadata": {},
   "outputs": [
    {
     "name": "stdout",
     "output_type": "stream",
     "text": [
      "Enter a number:123\n"
     ]
    },
    {
     "data": {
      "text/html": [
       "<span style=white-space:pre-wrap>'The reverse  of the digits is  321'</span>"
      ],
      "text/latex": [
       "'The reverse  of the digits is  321'"
      ],
      "text/markdown": [
       "<span style=white-space:pre-wrap>'The reverse  of the digits is  321'</span>"
      ],
      "text/plain": [
       "[1] \"The reverse  of the digits is  321\""
      ]
     },
     "metadata": {},
     "output_type": "display_data"
    }
   ],
   "source": [
    "#reverse of number\n",
    "\n",
    "\n",
    "num=as.numeric(readline(\"Enter a number:\"))\n",
    "rev=0\n",
    "rem=0\n",
    "temp=num\n",
    "while(num>0){\n",
    "    digit=num%%10\n",
    "    rev=rev*10+digit\n",
    "    num=floor(num/10)\n",
    "}\n",
    "paste(\"The reverse  of the digits is \",rev)"
   ]
  },
  {
   "cell_type": "code",
   "execution_count": 23,
   "id": "72f07981",
   "metadata": {},
   "outputs": [
    {
     "name": "stdout",
     "output_type": "stream",
     "text": [
      "Enter a number:131\n"
     ]
    },
    {
     "data": {
      "text/html": [
       "<span style=white-space:pre-wrap>'The Reverse of the number is  131'</span>"
      ],
      "text/latex": [
       "'The Reverse of the number is  131'"
      ],
      "text/markdown": [
       "<span style=white-space:pre-wrap>'The Reverse of the number is  131'</span>"
      ],
      "text/plain": [
       "[1] \"The Reverse of the number is  131\""
      ]
     },
     "metadata": {},
     "output_type": "display_data"
    },
    {
     "data": {
      "text/html": [
       "'The number is palindrome'"
      ],
      "text/latex": [
       "'The number is palindrome'"
      ],
      "text/markdown": [
       "'The number is palindrome'"
      ],
      "text/plain": [
       "[1] \"The number is palindrome\""
      ]
     },
     "metadata": {},
     "output_type": "display_data"
    }
   ],
   "source": [
    "#Reverse/palindrome of the Digits\n",
    "num=as.numeric(readline(\"Enter a number:\"))\n",
    "rev=0\n",
    "pal=num\n",
    "while(num>0){\n",
    "    digit=num%%10\n",
    "    rev=rev*10+digit\n",
    "    num=floor(num/10)\n",
    "}\n",
    "paste(\"The Reverse of the number is \",rev)\n",
    "if(pal==rev){\n",
    "    paste(\"The number is palindrome\")\n",
    "}else{\n",
    "    paste(\"The number is not a palindrome\")\n",
    "}"
   ]
  },
  {
   "cell_type": "code",
   "execution_count": 1,
   "id": "f19daeca",
   "metadata": {},
   "outputs": [
    {
     "data": {
      "text/html": [
       "1"
      ],
      "text/latex": [
       "1"
      ],
      "text/markdown": [
       "1"
      ],
      "text/plain": [
       "[1] 1"
      ]
     },
     "metadata": {},
     "output_type": "display_data"
    }
   ],
   "source": [
    "1%%10"
   ]
  },
  {
   "cell_type": "code",
   "execution_count": 2,
   "id": "95eda766",
   "metadata": {},
   "outputs": [
    {
     "data": {
      "text/html": [
       "0.1"
      ],
      "text/latex": [
       "0.1"
      ],
      "text/markdown": [
       "0.1"
      ],
      "text/plain": [
       "[1] 0.1"
      ]
     },
     "metadata": {},
     "output_type": "display_data"
    }
   ],
   "source": [
    "1/10"
   ]
  },
  {
   "cell_type": "code",
   "execution_count": null,
   "id": "6fda1e5f",
   "metadata": {},
   "outputs": [],
   "source": []
  }
 ],
 "metadata": {
  "kernelspec": {
   "display_name": "R",
   "language": "R",
   "name": "ir"
  },
  "language_info": {
   "codemirror_mode": "r",
   "file_extension": ".r",
   "mimetype": "text/x-r-source",
   "name": "R",
   "pygments_lexer": "r",
   "version": "4.1.3"
  }
 },
 "nbformat": 4,
 "nbformat_minor": 5
}
