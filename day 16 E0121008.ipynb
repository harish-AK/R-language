{
 "cells": [
  {
   "cell_type": "code",
   "execution_count": 3,
   "id": "78c94a9d",
   "metadata": {
    "collapsed": true
   },
   "outputs": [
    {
     "data": {
      "text/plain": [
       "\n",
       "\tOne Sample t-test\n",
       "\n",
       "data:  a\n",
       "t = -1.6848, df = 11, p-value = 0.1201\n",
       "alternative hypothesis: true mean is not equal to 15\n",
       "5 percent confidence interval:\n",
       " 14.30795 14.35872\n",
       "sample estimates:\n",
       "mean of x \n",
       " 14.33333 \n"
      ]
     },
     "metadata": {},
     "output_type": "display_data"
    }
   ],
   "source": [
    "# one sample t-test\n",
    "a=c(14,14,16,13,12,17,15,14,15,13,15,14)  # in R code one tail- greater or lesser \n",
    "# first mu-hypothesis mean  ,   second alternative= (one tail-lesses or greater),(two tail-two.sided)\n",
    "t.test(a,mu=15,conf.level=0.05,alternative=\"two.sided\")"
   ]
  },
  {
   "cell_type": "code",
   "execution_count": 10,
   "id": "d06db7f7",
   "metadata": {},
   "outputs": [
    {
     "data": {
      "text/plain": [
       "\n",
       "\tWelch Two Sample t-test\n",
       "\n",
       "data:  a and b\n",
       "t = 0.89803, df = 5.7596, p-value = 0.4051\n",
       "alternative hypothesis: true difference in means is not equal to 0\n",
       "1 percent confidence interval:\n",
       " 2.463568 2.536432\n",
       "sample estimates:\n",
       "mean of x mean of y \n",
       "     10.5       8.0 \n"
      ]
     },
     "metadata": {},
     "output_type": "display_data"
    }
   ],
   "source": [
    "a=c(14,8,7,13)\n",
    "b=c(8,6,4,14)\n",
    "t.test(a,b,paired=FALSE,conf.level=0.01)  # paird is true means the datas are not in same group so that pad=TRUE"
   ]
  },
  {
   "cell_type": "code",
   "execution_count": 12,
   "id": "6b543da3",
   "metadata": {},
   "outputs": [
    {
     "data": {
      "text/plain": [
       "\n",
       "\tPaired t-test\n",
       "\n",
       "data:  c and d\n",
       "t = 3.5973, df = 9, p-value = 0.005773\n",
       "alternative hypothesis: true difference in means is not equal to 0\n",
       "5 percent confidence interval:\n",
       " 1.669529 1.730471\n",
       "sample estimates:\n",
       "mean of the differences \n",
       "                    1.7 \n"
      ]
     },
     "metadata": {},
     "output_type": "display_data"
    }
   ],
   "source": [
    "c=c(9,10,7,5,7,5,9,6,8,7)\n",
    "d=c(7,6,5,4,4,6,7,5,5,7)\n",
    "t.test(c,d,paired=TRUE,conf.level=0.05)"
   ]
  },
  {
   "cell_type": "code",
   "execution_count": 1,
   "id": "d3dd20e7",
   "metadata": {},
   "outputs": [
    {
     "data": {
      "text/html": [
       "0.92744450048"
      ],
      "text/latex": [
       "0.92744450048"
      ],
      "text/markdown": [
       "0.92744450048"
      ],
      "text/plain": [
       "[1] 0.9274445"
      ]
     },
     "metadata": {},
     "output_type": "display_data"
    }
   ],
   "source": [
    "pbinom(4,size=12,prob=0.2)        #binomal distributions\n",
    "#1/5=0.2 "
   ]
  },
  {
   "cell_type": "code",
   "execution_count": 2,
   "id": "bfb1c66a",
   "metadata": {},
   "outputs": [
    {
     "data": {
      "text/html": [
       "0.898708992560162"
      ],
      "text/latex": [
       "0.898708992560162"
      ],
      "text/markdown": [
       "0.898708992560162"
      ],
      "text/plain": [
       "[1] 0.898709"
      ]
     },
     "metadata": {},
     "output_type": "display_data"
    }
   ],
   "source": [
    "ppois(16,lambda=12)      # poison distribution "
   ]
  },
  {
   "cell_type": "code",
   "execution_count": 4,
   "id": "bc5d2952",
   "metadata": {},
   "outputs": [
    {
     "data": {
      "image/png": "[encoded data removed]",
      "text/plain": [
       "Plot with title \"density.default(x = a)\""
      ]
     },
     "metadata": {
      "image/png": {
       "height": 420,
       "width": 420
      }
     },
     "output_type": "display_data"
    }
   ],
   "source": [
    "a=runif(10,min=1,max=5)      # continuous uniform distribution\n",
    "plot(density(a))"
   ]
  },
  {
   "cell_type": "code",
   "execution_count": 5,
   "id": "66a0c55b",
   "metadata": {},
   "outputs": [
    {
     "data": {
      "text/html": [
       "0.486582880967408"
      ],
      "text/latex": [
       "0.486582880967408"
      ],
      "text/markdown": [
       "0.486582880967408"
      ],
      "text/plain": [
       "[1] 0.4865829"
      ]
     },
     "metadata": {},
     "output_type": "display_data"
    }
   ],
   "source": [
    "pexp(2,rate=1/3)      # exponentional distribution"
   ]
  },
  {
   "cell_type": "code",
   "execution_count": 8,
   "id": "c8179164",
   "metadata": {},
   "outputs": [
    {
     "data": {
      "text/html": [
       "78.5082397688728"
      ],
      "text/latex": [
       "78.5082397688728"
      ],
      "text/markdown": [
       "78.5082397688728"
      ],
      "text/plain": [
       "[1] 78.50824"
      ]
     },
     "metadata": {},
     "output_type": "display_data"
    }
   ],
   "source": [
    "pnorm(84,mean=72,sd=15.2)*100  # normal distribution"
   ]
  },
  {
   "cell_type": "code",
   "execution_count": null,
   "id": "6d3b8261",
   "metadata": {},
   "outputs": [],
   "source": []
  }
 ],
 "metadata": {
  "kernelspec": {
   "display_name": "R",
   "language": "R",
   "name": "ir"
  },
  "language_info": {
   "codemirror_mode": "r",
   "file_extension": ".r",
   "mimetype": "text/x-r-source",
   "name": "R",
   "pygments_lexer": "r",
   "version": "4.1.3"
  }
 },
 "nbformat": 4,
 "nbformat_minor": 5
}
