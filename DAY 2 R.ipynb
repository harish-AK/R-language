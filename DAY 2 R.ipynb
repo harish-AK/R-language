{
 "cells": [
  {
   "cell_type": "code",
   "execution_count": 2,
   "id": "25efc5ac",
   "metadata": {},
   "outputs": [
    {
     "data": {
      "text/html": [
       "<ol class=list-inline>\n",
       "\t<li>1</li>\n",
       "\t<li>2</li>\n",
       "\t<li>3</li>\n",
       "\t<li>100</li>\n",
       "\t<li>200</li>\n",
       "\t<li>300</li>\n",
       "\t<li>400</li>\n",
       "</ol>\n"
      ],
      "text/latex": [
       "\\begin{enumerate*}\n",
       "\\item 1\n",
       "\\item 2\n",
       "\\item 3\n",
       "\\item 100\n",
       "\\item 200\n",
       "\\item 300\n",
       "\\item 400\n",
       "\\end{enumerate*}\n"
      ],
      "text/markdown": [
       "1. 1\n",
       "2. 2\n",
       "3. 3\n",
       "4. 100\n",
       "5. 200\n",
       "6. 300\n",
       "7. 400\n",
       "\n",
       "\n"
      ],
      "text/plain": [
       "[1]   1   2   3 100 200 300 400"
      ]
     },
     "metadata": {},
     "output_type": "display_data"
    }
   ],
   "source": [
    "#DAY 2\n",
    "\n",
    "a=c(1,2,3,100,200,300,400)\n",
    "a"
   ]
  },
  {
   "cell_type": "code",
   "execution_count": 3,
   "id": "554f0cf8",
   "metadata": {},
   "outputs": [
    {
     "data": {
      "text/html": [
       "<ol class=list-inline>\n",
       "\t<li>1</li>\n",
       "\t<li>3</li>\n",
       "\t<li>200</li>\n",
       "</ol>\n"
      ],
      "text/latex": [
       "\\begin{enumerate*}\n",
       "\\item 1\n",
       "\\item 3\n",
       "\\item 200\n",
       "\\end{enumerate*}\n"
      ],
      "text/markdown": [
       "1. 1\n",
       "2. 3\n",
       "3. 200\n",
       "\n",
       "\n"
      ],
      "text/plain": [
       "[1]   1   3 200"
      ]
     },
     "metadata": {},
     "output_type": "display_data"
    }
   ],
   "source": [
    "a[c(1,3,5)]"
   ]
  },
  {
   "cell_type": "code",
   "execution_count": 4,
   "id": "ceef306b",
   "metadata": {},
   "outputs": [
    {
     "data": {
      "text/html": [
       "<ol class=list-inline>\n",
       "\t<li>1</li>\n",
       "\t<li>2</li>\n",
       "\t<li>3</li>\n",
       "</ol>\n"
      ],
      "text/latex": [
       "\\begin{enumerate*}\n",
       "\\item 1\n",
       "\\item 2\n",
       "\\item 3\n",
       "\\end{enumerate*}\n"
      ],
      "text/markdown": [
       "1. 1\n",
       "2. 2\n",
       "3. 3\n",
       "\n",
       "\n"
      ],
      "text/plain": [
       "[1] 1 2 3"
      ]
     },
     "metadata": {},
     "output_type": "display_data"
    }
   ],
   "source": [
    "a[1:3] # indexing"
   ]
  },
  {
   "cell_type": "code",
   "execution_count": 5,
   "id": "6d92a7c0",
   "metadata": {},
   "outputs": [],
   "source": [
    "a[2]=2000"
   ]
  },
  {
   "cell_type": "code",
   "execution_count": 6,
   "id": "a1831778",
   "metadata": {},
   "outputs": [
    {
     "data": {
      "text/html": [
       "<ol class=list-inline>\n",
       "\t<li>1</li>\n",
       "\t<li>2000</li>\n",
       "\t<li>3</li>\n",
       "\t<li>100</li>\n",
       "\t<li>200</li>\n",
       "\t<li>300</li>\n",
       "\t<li>400</li>\n",
       "</ol>\n"
      ],
      "text/latex": [
       "\\begin{enumerate*}\n",
       "\\item 1\n",
       "\\item 2000\n",
       "\\item 3\n",
       "\\item 100\n",
       "\\item 200\n",
       "\\item 300\n",
       "\\item 400\n",
       "\\end{enumerate*}\n"
      ],
      "text/markdown": [
       "1. 1\n",
       "2. 2000\n",
       "3. 3\n",
       "4. 100\n",
       "5. 200\n",
       "6. 300\n",
       "7. 400\n",
       "\n",
       "\n"
      ],
      "text/plain": [
       "[1]    1 2000    3  100  200  300  400"
      ]
     },
     "metadata": {},
     "output_type": "display_data"
    }
   ],
   "source": [
    "a"
   ]
  },
  {
   "cell_type": "code",
   "execution_count": 7,
   "id": "d5404657",
   "metadata": {},
   "outputs": [
    {
     "data": {
      "text/html": [
       "<ol class=list-inline>\n",
       "\t<li>50</li>\n",
       "\t<li>2000</li>\n",
       "\t<li>50</li>\n",
       "\t<li>100</li>\n",
       "\t<li>200</li>\n",
       "\t<li>300</li>\n",
       "\t<li>400</li>\n",
       "</ol>\n"
      ],
      "text/latex": [
       "\\begin{enumerate*}\n",
       "\\item 50\n",
       "\\item 2000\n",
       "\\item 50\n",
       "\\item 100\n",
       "\\item 200\n",
       "\\item 300\n",
       "\\item 400\n",
       "\\end{enumerate*}\n"
      ],
      "text/markdown": [
       "1. 50\n",
       "2. 2000\n",
       "3. 50\n",
       "4. 100\n",
       "5. 200\n",
       "6. 300\n",
       "7. 400\n",
       "\n",
       "\n"
      ],
      "text/plain": [
       "[1]   50 2000   50  100  200  300  400"
      ]
     },
     "metadata": {},
     "output_type": "display_data"
    }
   ],
   "source": [
    "a[c(1,3)]=50  # change two values\n",
    "a"
   ]
  },
  {
   "cell_type": "code",
   "execution_count": 8,
   "id": "9b4a34d1",
   "metadata": {},
   "outputs": [
    {
     "data": {
      "text/html": [
       "<ol class=list-inline>\n",
       "\t<li>2000</li>\n",
       "\t<li>400</li>\n",
       "\t<li>300</li>\n",
       "\t<li>200</li>\n",
       "\t<li>100</li>\n",
       "\t<li>50</li>\n",
       "\t<li>50</li>\n",
       "</ol>\n"
      ],
      "text/latex": [
       "\\begin{enumerate*}\n",
       "\\item 2000\n",
       "\\item 400\n",
       "\\item 300\n",
       "\\item 200\n",
       "\\item 100\n",
       "\\item 50\n",
       "\\item 50\n",
       "\\end{enumerate*}\n"
      ],
      "text/markdown": [
       "1. 2000\n",
       "2. 400\n",
       "3. 300\n",
       "4. 200\n",
       "5. 100\n",
       "6. 50\n",
       "7. 50\n",
       "\n",
       "\n"
      ],
      "text/plain": [
       "[1] 2000  400  300  200  100   50   50"
      ]
     },
     "metadata": {},
     "output_type": "display_data"
    }
   ],
   "source": [
    "sort(a,TRUE)"
   ]
  },
  {
   "cell_type": "code",
   "execution_count": 9,
   "id": "34d9e0f8",
   "metadata": {},
   "outputs": [
    {
     "data": {
      "text/html": [
       "<ol class=list-inline>\n",
       "\t<li>50</li>\n",
       "\t<li>50</li>\n",
       "\t<li>100</li>\n",
       "\t<li>200</li>\n",
       "\t<li>300</li>\n",
       "\t<li>400</li>\n",
       "\t<li>2000</li>\n",
       "</ol>\n"
      ],
      "text/latex": [
       "\\begin{enumerate*}\n",
       "\\item 50\n",
       "\\item 50\n",
       "\\item 100\n",
       "\\item 200\n",
       "\\item 300\n",
       "\\item 400\n",
       "\\item 2000\n",
       "\\end{enumerate*}\n"
      ],
      "text/markdown": [
       "1. 50\n",
       "2. 50\n",
       "3. 100\n",
       "4. 200\n",
       "5. 300\n",
       "6. 400\n",
       "7. 2000\n",
       "\n",
       "\n"
      ],
      "text/plain": [
       "[1]   50   50  100  200  300  400 2000"
      ]
     },
     "metadata": {},
     "output_type": "display_data"
    }
   ],
   "source": [
    "sort(a,FALSE) # by  default ascending order  FALSE meaans sort in decending order"
   ]
  },
  {
   "cell_type": "code",
   "execution_count": 2,
   "id": "720ed900",
   "metadata": {},
   "outputs": [],
   "source": [
    "b=rep(c(1,2,3),times=c(3,4,4))  # 1-3 times, 2-4 times, 3-4 times "
   ]
  },
  {
   "cell_type": "code",
   "execution_count": 3,
   "id": "139319ff",
   "metadata": {},
   "outputs": [
    {
     "data": {
      "text/html": [
       "<ol class=list-inline>\n",
       "\t<li>1</li>\n",
       "\t<li>1</li>\n",
       "\t<li>1</li>\n",
       "\t<li>2</li>\n",
       "\t<li>2</li>\n",
       "\t<li>2</li>\n",
       "\t<li>2</li>\n",
       "\t<li>3</li>\n",
       "\t<li>3</li>\n",
       "\t<li>3</li>\n",
       "\t<li>3</li>\n",
       "</ol>\n"
      ],
      "text/latex": [
       "\\begin{enumerate*}\n",
       "\\item 1\n",
       "\\item 1\n",
       "\\item 1\n",
       "\\item 2\n",
       "\\item 2\n",
       "\\item 2\n",
       "\\item 2\n",
       "\\item 3\n",
       "\\item 3\n",
       "\\item 3\n",
       "\\item 3\n",
       "\\end{enumerate*}\n"
      ],
      "text/markdown": [
       "1. 1\n",
       "2. 1\n",
       "3. 1\n",
       "4. 2\n",
       "5. 2\n",
       "6. 2\n",
       "7. 2\n",
       "8. 3\n",
       "9. 3\n",
       "10. 3\n",
       "11. 3\n",
       "\n",
       "\n"
      ],
      "text/plain": [
       " [1] 1 1 1 2 2 2 2 3 3 3 3"
      ]
     },
     "metadata": {},
     "output_type": "display_data"
    }
   ],
   "source": [
    "b"
   ]
  },
  {
   "cell_type": "code",
   "execution_count": 12,
   "id": "83bdf66d",
   "metadata": {},
   "outputs": [
    {
     "data": {
      "text/html": [
       "<ol class=list-inline>\n",
       "\t<li>10</li>\n",
       "\t<li>15</li>\n",
       "\t<li>20</li>\n",
       "\t<li>25</li>\n",
       "\t<li>30</li>\n",
       "\t<li>35</li>\n",
       "\t<li>40</li>\n",
       "\t<li>45</li>\n",
       "\t<li>50</li>\n",
       "\t<li>55</li>\n",
       "\t<li>60</li>\n",
       "\t<li>65</li>\n",
       "\t<li>70</li>\n",
       "\t<li>75</li>\n",
       "\t<li>80</li>\n",
       "\t<li>85</li>\n",
       "\t<li>90</li>\n",
       "\t<li>95</li>\n",
       "\t<li>100</li>\n",
       "</ol>\n"
      ],
      "text/latex": [
       "\\begin{enumerate*}\n",
       "\\item 10\n",
       "\\item 15\n",
       "\\item 20\n",
       "\\item 25\n",
       "\\item 30\n",
       "\\item 35\n",
       "\\item 40\n",
       "\\item 45\n",
       "\\item 50\n",
       "\\item 55\n",
       "\\item 60\n",
       "\\item 65\n",
       "\\item 70\n",
       "\\item 75\n",
       "\\item 80\n",
       "\\item 85\n",
       "\\item 90\n",
       "\\item 95\n",
       "\\item 100\n",
       "\\end{enumerate*}\n"
      ],
      "text/markdown": [
       "1. 10\n",
       "2. 15\n",
       "3. 20\n",
       "4. 25\n",
       "5. 30\n",
       "6. 35\n",
       "7. 40\n",
       "8. 45\n",
       "9. 50\n",
       "10. 55\n",
       "11. 60\n",
       "12. 65\n",
       "13. 70\n",
       "14. 75\n",
       "15. 80\n",
       "16. 85\n",
       "17. 90\n",
       "18. 95\n",
       "19. 100\n",
       "\n",
       "\n"
      ],
      "text/plain": [
       " [1]  10  15  20  25  30  35  40  45  50  55  60  65  70  75  80  85  90  95 100"
      ]
     },
     "metadata": {},
     "output_type": "display_data"
    }
   ],
   "source": [
    "seq(from=10,to=100,by=5) # similar like for loop"
   ]
  },
  {
   "cell_type": "code",
   "execution_count": 14,
   "id": "13ccf983",
   "metadata": {},
   "outputs": [
    {
     "data": {
      "text/html": [
       "<ol class=list-inline>\n",
       "\t<li>1</li>\n",
       "\t<li>1.21052631578947</li>\n",
       "\t<li>1.42105263157895</li>\n",
       "\t<li>1.63157894736842</li>\n",
       "\t<li>1.84210526315789</li>\n",
       "\t<li>2.05263157894737</li>\n",
       "\t<li>2.26315789473684</li>\n",
       "\t<li>2.47368421052632</li>\n",
       "\t<li>2.68421052631579</li>\n",
       "\t<li>2.89473684210526</li>\n",
       "\t<li>3.10526315789474</li>\n",
       "\t<li>3.31578947368421</li>\n",
       "\t<li>3.52631578947368</li>\n",
       "\t<li>3.73684210526316</li>\n",
       "\t<li>3.94736842105263</li>\n",
       "\t<li>4.15789473684211</li>\n",
       "\t<li>4.36842105263158</li>\n",
       "\t<li>4.57894736842105</li>\n",
       "\t<li>4.78947368421053</li>\n",
       "\t<li>5</li>\n",
       "</ol>\n"
      ],
      "text/latex": [
       "\\begin{enumerate*}\n",
       "\\item 1\n",
       "\\item 1.21052631578947\n",
       "\\item 1.42105263157895\n",
       "\\item 1.63157894736842\n",
       "\\item 1.84210526315789\n",
       "\\item 2.05263157894737\n",
       "\\item 2.26315789473684\n",
       "\\item 2.47368421052632\n",
       "\\item 2.68421052631579\n",
       "\\item 2.89473684210526\n",
       "\\item 3.10526315789474\n",
       "\\item 3.31578947368421\n",
       "\\item 3.52631578947368\n",
       "\\item 3.73684210526316\n",
       "\\item 3.94736842105263\n",
       "\\item 4.15789473684211\n",
       "\\item 4.36842105263158\n",
       "\\item 4.57894736842105\n",
       "\\item 4.78947368421053\n",
       "\\item 5\n",
       "\\end{enumerate*}\n"
      ],
      "text/markdown": [
       "1. 1\n",
       "2. 1.21052631578947\n",
       "3. 1.42105263157895\n",
       "4. 1.63157894736842\n",
       "5. 1.84210526315789\n",
       "6. 2.05263157894737\n",
       "7. 2.26315789473684\n",
       "8. 2.47368421052632\n",
       "9. 2.68421052631579\n",
       "10. 2.89473684210526\n",
       "11. 3.10526315789474\n",
       "12. 3.31578947368421\n",
       "13. 3.52631578947368\n",
       "14. 3.73684210526316\n",
       "15. 3.94736842105263\n",
       "16. 4.15789473684211\n",
       "17. 4.36842105263158\n",
       "18. 4.57894736842105\n",
       "19. 4.78947368421053\n",
       "20. 5\n",
       "\n",
       "\n"
      ],
      "text/plain": [
       " [1] 1.000000 1.210526 1.421053 1.631579 1.842105 2.052632 2.263158 2.473684\n",
       " [9] 2.684211 2.894737 3.105263 3.315789 3.526316 3.736842 3.947368 4.157895\n",
       "[17] 4.368421 4.578947 4.789474 5.000000"
      ]
     },
     "metadata": {},
     "output_type": "display_data"
    }
   ],
   "source": [
    "a=seq(from=1,to=5,length.out=20) # print 20 values between 1 to 5  length.out(divide the values)\n",
    "a"
   ]
  },
  {
   "cell_type": "code",
   "execution_count": 8,
   "id": "47e1c552",
   "metadata": {},
   "outputs": [
    {
     "data": {
      "text/html": [
       "20"
      ],
      "text/latex": [
       "20"
      ],
      "text/markdown": [
       "20"
      ],
      "text/plain": [
       "[1] 20"
      ]
     },
     "metadata": {},
     "output_type": "display_data"
    }
   ],
   "source": [
    "length(a)"
   ]
  },
  {
   "cell_type": "code",
   "execution_count": 1,
   "id": "480a111c",
   "metadata": {},
   "outputs": [
    {
     "name": "stdout",
     "output_type": "stream",
     "text": [
      "[1] \"the sum = 4\"\n"
     ]
    },
    {
     "data": {
      "text/html": [
       "'the sum= 3'"
      ],
      "text/latex": [
       "'the sum= 3'"
      ],
      "text/markdown": [
       "'the sum= 3'"
      ],
      "text/plain": [
       "[1] \"the sum= 3\""
      ]
     },
     "metadata": {},
     "output_type": "display_data"
    }
   ],
   "source": [
    "mark=c(1,2,3,2,3,1,1,2,2,5,23,11)\n",
    "print(paste(\"the sum =\",sum(mark==2)))  # sum the values\n",
    "paste(\"the sum=\",sum(mark==1))"
   ]
  },
  {
   "cell_type": "code",
   "execution_count": 2,
   "id": "ee25809d",
   "metadata": {},
   "outputs": [
    {
     "name": "stdout",
     "output_type": "stream",
     "text": [
      "enter the language you want to search r\n",
      "[1] \"the language repeated  1 times\"\n"
     ]
    }
   ],
   "source": [
    "lan=c(\"java\",\"python\",'r','data','python')\n",
    "a=readline(\"enter the language you want to search \")\n",
    "print(paste(\"the language repeated \",sum(lan==a),\"times\"))"
   ]
  },
  {
   "cell_type": "code",
   "execution_count": 15,
   "id": "2b084728",
   "metadata": {},
   "outputs": [
    {
     "data": {
      "text/html": [
       "<ol class=list-inline>\n",
       "\t<li><span style=white-space:pre-wrap>'unique marks are  1'</span></li>\n",
       "\t<li><span style=white-space:pre-wrap>'unique marks are  2'</span></li>\n",
       "\t<li><span style=white-space:pre-wrap>'unique marks are  3'</span></li>\n",
       "\t<li><span style=white-space:pre-wrap>'unique marks are  5'</span></li>\n",
       "\t<li><span style=white-space:pre-wrap>'unique marks are  23'</span></li>\n",
       "\t<li><span style=white-space:pre-wrap>'unique marks are  11'</span></li>\n",
       "</ol>\n"
      ],
      "text/latex": [
       "\\begin{enumerate*}\n",
       "\\item 'unique marks are  1'\n",
       "\\item 'unique marks are  2'\n",
       "\\item 'unique marks are  3'\n",
       "\\item 'unique marks are  5'\n",
       "\\item 'unique marks are  23'\n",
       "\\item 'unique marks are  11'\n",
       "\\end{enumerate*}\n"
      ],
      "text/markdown": [
       "1. <span style=white-space:pre-wrap>'unique marks are  1'</span>\n",
       "2. <span style=white-space:pre-wrap>'unique marks are  2'</span>\n",
       "3. <span style=white-space:pre-wrap>'unique marks are  3'</span>\n",
       "4. <span style=white-space:pre-wrap>'unique marks are  5'</span>\n",
       "5. <span style=white-space:pre-wrap>'unique marks are  23'</span>\n",
       "6. <span style=white-space:pre-wrap>'unique marks are  11'</span>\n",
       "\n",
       "\n"
      ],
      "text/plain": [
       "[1] \"unique marks are  1\"  \"unique marks are  2\"  \"unique marks are  3\" \n",
       "[4] \"unique marks are  5\"  \"unique marks are  23\" \"unique marks are  11\""
      ]
     },
     "metadata": {},
     "output_type": "display_data"
    }
   ],
   "source": [
    "mark=c(1,2,3,2,3,1,1,2,2,5,23,11)\n",
    "paste(\"unique marks are \",unique(mark))"
   ]
  },
  {
   "cell_type": "code",
   "execution_count": 16,
   "id": "4d286579",
   "metadata": {},
   "outputs": [
    {
     "data": {
      "text/html": [
       "<ol class=list-inline>\n",
       "\t<li>1</li>\n",
       "\t<li>2</li>\n",
       "\t<li>3</li>\n",
       "\t<li>5</li>\n",
       "\t<li>23</li>\n",
       "\t<li>11</li>\n",
       "</ol>\n"
      ],
      "text/latex": [
       "\\begin{enumerate*}\n",
       "\\item 1\n",
       "\\item 2\n",
       "\\item 3\n",
       "\\item 5\n",
       "\\item 23\n",
       "\\item 11\n",
       "\\end{enumerate*}\n"
      ],
      "text/markdown": [
       "1. 1\n",
       "2. 2\n",
       "3. 3\n",
       "4. 5\n",
       "5. 23\n",
       "6. 11\n",
       "\n",
       "\n"
      ],
      "text/plain": [
       "[1]  1  2  3  5 23 11"
      ]
     },
     "metadata": {},
     "output_type": "display_data"
    }
   ],
   "source": [
    "unique(mark)"
   ]
  },
  {
   "cell_type": "code",
   "execution_count": 17,
   "id": "82cc43dc",
   "metadata": {},
   "outputs": [
    {
     "data": {
      "text/html": [
       "<ol class=list-inline>\n",
       "\t<li>10</li>\n",
       "\t<li>20</li>\n",
       "</ol>\n"
      ],
      "text/latex": [
       "\\begin{enumerate*}\n",
       "\\item 10\n",
       "\\item 20\n",
       "\\end{enumerate*}\n"
      ],
      "text/markdown": [
       "1. 10\n",
       "2. 20\n",
       "\n",
       "\n"
      ],
      "text/plain": [
       "[1] 10 20"
      ]
     },
     "metadata": {},
     "output_type": "display_data"
    }
   ],
   "source": [
    "aiml=c(10,20,30,40,50)\n",
    "cys=c(30,40,50,60)\n",
    "setdiff(aiml,cys) # elements of aiml that not in cys will print but the element in cys that not in aiml will not get printed"
   ]
  },
  {
   "cell_type": "code",
   "execution_count": 18,
   "id": "b88e9f83",
   "metadata": {},
   "outputs": [
    {
     "data": {
      "text/html": [
       "60"
      ],
      "text/latex": [
       "60"
      ],
      "text/markdown": [
       "60"
      ],
      "text/plain": [
       "[1] 60"
      ]
     },
     "metadata": {},
     "output_type": "display_data"
    }
   ],
   "source": [
    "setdiff(cys,aiml)  # B-A"
   ]
  },
  {
   "cell_type": "code",
   "execution_count": 5,
   "id": "384220cb",
   "metadata": {},
   "outputs": [
    {
     "name": "stdout",
     "output_type": "stream",
     "text": [
      "enter how many values:5\n",
      "enter element  1 :1\n",
      "enter element  2 :2\n",
      "enter element  3 :3\n",
      "enter element  4 :4\n",
      "enter element  5 :5\n",
      "[1] 1 2 3 4 5\n"
     ]
    },
    {
     "data": {
      "text/html": [
       "<style>\n",
       ".list-inline {list-style: none; margin:0; padding: 0}\n",
       ".list-inline>li {display: inline-block}\n",
       ".list-inline>li:not(:last-child)::after {content: \"\\00b7\"; padding: 0 .5ex}\n",
       "</style>\n",
       "<ol class=list-inline><li>5</li><li>4</li><li>3</li><li>2</li><li>1</li></ol>\n"
      ],
      "text/latex": [
       "\\begin{enumerate*}\n",
       "\\item 5\n",
       "\\item 4\n",
       "\\item 3\n",
       "\\item 2\n",
       "\\item 1\n",
       "\\end{enumerate*}\n"
      ],
      "text/markdown": [
       "1. 5\n",
       "2. 4\n",
       "3. 3\n",
       "4. 2\n",
       "5. 1\n",
       "\n",
       "\n"
      ],
      "text/plain": [
       "[1] 5 4 3 2 1"
      ]
     },
     "metadata": {},
     "output_type": "display_data"
    },
    {
     "data": {
      "text/html": [
       "<style>\n",
       ".list-inline {list-style: none; margin:0; padding: 0}\n",
       ".list-inline>li {display: inline-block}\n",
       ".list-inline>li:not(:last-child)::after {content: \"\\00b7\"; padding: 0 .5ex}\n",
       "</style>\n",
       "<ol class=list-inline><li>1</li><li>2</li><li>3</li><li>4</li><li>5</li></ol>\n"
      ],
      "text/latex": [
       "\\begin{enumerate*}\n",
       "\\item 1\n",
       "\\item 2\n",
       "\\item 3\n",
       "\\item 4\n",
       "\\item 5\n",
       "\\end{enumerate*}\n"
      ],
      "text/markdown": [
       "1. 1\n",
       "2. 2\n",
       "3. 3\n",
       "4. 4\n",
       "5. 5\n",
       "\n",
       "\n"
      ],
      "text/plain": [
       "[1] 1 2 3 4 5"
      ]
     },
     "metadata": {},
     "output_type": "display_data"
    }
   ],
   "source": [
    "element=c()\n",
    "total=as.integer(readline(\"enter how many values:\"))  # input always be in character data type so we change it into integer\n",
    "for(i in seq(total))\n",
    "    {\n",
    "        element[i]=as.integer(readline(paste(\"enter element \",i,\":\")))\n",
    "}\n",
    "print(element)\n",
    "sort(element,TRUE) #decending order\n",
    "sort(element) #ascending order"
   ]
  },
  {
   "cell_type": "code",
   "execution_count": null,
   "id": "fcfcea5f",
   "metadata": {},
   "outputs": [],
   "source": [
    "element=c()\n",
    "total=as.integer(readline(\"enter how many values:\"))  # input always be in character data type so we change it into integer\n",
    "for(i in total) # without sequence we can get one input only and the runs for user input times\n",
    "    {\n",
    "        element[i]=as.integer(readline(paste(\"enter element \",i,\":\")))\n",
    "}\n",
    "print(element)\n",
    "sort(element,TRUE) #decending order\n",
    "sort(element,FALSE) #ascending order"
   ]
  },
  {
   "cell_type": "code",
   "execution_count": 4,
   "id": "3dc97550",
   "metadata": {},
   "outputs": [
    {
     "data": {
      "text/html": [
       "<table>\n",
       "<tbody>\n",
       "\t<tr><td>1</td><td>3</td><td>5</td></tr>\n",
       "\t<tr><td>2</td><td>4</td><td>6</td></tr>\n",
       "</tbody>\n",
       "</table>\n"
      ],
      "text/latex": [
       "\\begin{tabular}{lll}\n",
       "\t 1 & 3 & 5\\\\\n",
       "\t 2 & 4 & 6\\\\\n",
       "\\end{tabular}\n"
      ],
      "text/markdown": [
       "\n",
       "| 1 | 3 | 5 |\n",
       "| 2 | 4 | 6 |\n",
       "\n"
      ],
      "text/plain": [
       "     [,1] [,2] [,3]\n",
       "[1,] 1    3    5   \n",
       "[2,] 2    4    6   "
      ]
     },
     "metadata": {},
     "output_type": "display_data"
    }
   ],
   "source": [
    "# array\n",
    "\n",
    "array(c(1,2,3,4,5,6),dim=c(2,3)) # 2 rows 3 columns"
   ]
  },
  {
   "cell_type": "code",
   "execution_count": 5,
   "id": "bd89d9fe",
   "metadata": {},
   "outputs": [
    {
     "data": {
      "text/html": [
       "<table>\n",
       "<tbody>\n",
       "\t<tr><td>1</td><td>4</td><td>2</td></tr>\n",
       "\t<tr><td>2</td><td>5</td><td>3</td></tr>\n",
       "\t<tr><td>3</td><td>1</td><td>4</td></tr>\n",
       "</tbody>\n",
       "</table>\n"
      ],
      "text/latex": [
       "\\begin{tabular}{lll}\n",
       "\t 1 & 4 & 2\\\\\n",
       "\t 2 & 5 & 3\\\\\n",
       "\t 3 & 1 & 4\\\\\n",
       "\\end{tabular}\n"
      ],
      "text/markdown": [
       "\n",
       "| 1 | 4 | 2 |\n",
       "| 2 | 5 | 3 |\n",
       "| 3 | 1 | 4 |\n",
       "\n"
      ],
      "text/plain": [
       "     [,1] [,2] [,3]\n",
       "[1,] 1    4    2   \n",
       "[2,] 2    5    3   \n",
       "[3,] 3    1    4   "
      ]
     },
     "metadata": {},
     "output_type": "display_data"
    }
   ],
   "source": [
    "#  create 2 3x3 matrix each with 3 rows and 3 columns using 2 given vectors\n",
    "\n",
    "a=c(1,2,3,4,5)\n",
    "b=c(11,22,33,44,55,66,77,88,99) \n",
    "array(a,dim=c(3,3)) # fill by column wise"
   ]
  },
  {
   "cell_type": "code",
   "execution_count": 6,
   "id": "05bb855c",
   "metadata": {},
   "outputs": [
    {
     "data": {
      "text/html": [
       "<table>\n",
       "<tbody>\n",
       "\t<tr><td>11</td><td>44</td><td>77</td></tr>\n",
       "\t<tr><td>22</td><td>55</td><td>88</td></tr>\n",
       "\t<tr><td>33</td><td>66</td><td>99</td></tr>\n",
       "</tbody>\n",
       "</table>\n"
      ],
      "text/latex": [
       "\\begin{tabular}{lll}\n",
       "\t 11 & 44 & 77\\\\\n",
       "\t 22 & 55 & 88\\\\\n",
       "\t 33 & 66 & 99\\\\\n",
       "\\end{tabular}\n"
      ],
      "text/markdown": [
       "\n",
       "| 11 | 44 | 77 |\n",
       "| 22 | 55 | 88 |\n",
       "| 33 | 66 | 99 |\n",
       "\n"
      ],
      "text/plain": [
       "     [,1] [,2] [,3]\n",
       "[1,] 11   44   77  \n",
       "[2,] 22   55   88  \n",
       "[3,] 33   66   99  "
      ]
     },
     "metadata": {},
     "output_type": "display_data"
    }
   ],
   "source": [
    "array(b,dim=c(3,3))"
   ]
  },
  {
   "cell_type": "code",
   "execution_count": 10,
   "id": "e8edf2b7",
   "metadata": {},
   "outputs": [],
   "source": [
    "c=array(c(a,b),dim=c(3,3,2))  #3-rows  3-columns  2-number of matrix"
   ]
  },
  {
   "cell_type": "code",
   "execution_count": 11,
   "id": "a2cad614",
   "metadata": {},
   "outputs": [
    {
     "name": "stdout",
     "output_type": "stream",
     "text": [
      ", , 1\n",
      "\n",
      "     [,1] [,2] [,3]\n",
      "[1,]    1    4   22\n",
      "[2,]    2    5   33\n",
      "[3,]    3   11   44\n",
      "\n",
      ", , 2\n",
      "\n",
      "     [,1] [,2] [,3]\n",
      "[1,]   55   88    2\n",
      "[2,]   66   99    3\n",
      "[3,]   77    1    4\n",
      "\n"
     ]
    }
   ],
   "source": [
    "print(c)"
   ]
  },
  {
   "cell_type": "code",
   "execution_count": 44,
   "id": "ebb024b4",
   "metadata": {},
   "outputs": [
    {
     "data": {
      "text/html": [
       "<ol class=list-inline>\n",
       "\t<li>66</li>\n",
       "\t<li>99</li>\n",
       "\t<li>3</li>\n",
       "</ol>\n"
      ],
      "text/latex": [
       "\\begin{enumerate*}\n",
       "\\item 66\n",
       "\\item 99\n",
       "\\item 3\n",
       "\\end{enumerate*}\n"
      ],
      "text/markdown": [
       "1. 66\n",
       "2. 99\n",
       "3. 3\n",
       "\n",
       "\n"
      ],
      "text/plain": [
       "[1] 66 99  3"
      ]
     },
     "metadata": {},
     "output_type": "display_data"
    }
   ],
   "source": [
    "# print second row of the second matrix of an array\n",
    "\n",
    "c[2,,2]   # 2nd row ,2nd column ,2nd matrix (,,) means whole row"
   ]
  },
  {
   "cell_type": "code",
   "execution_count": 47,
   "id": "ab583d6a",
   "metadata": {},
   "outputs": [
    {
     "data": {
      "text/html": [
       "44"
      ],
      "text/latex": [
       "44"
      ],
      "text/markdown": [
       "44"
      ],
      "text/plain": [
       "[1] 44"
      ]
     },
     "metadata": {},
     "output_type": "display_data"
    }
   ],
   "source": [
    "c[3,3,1]  # 3rd row , 3rd column, 1st matrix (column row are specified so 1 value grt printed)"
   ]
  },
  {
   "cell_type": "code",
   "execution_count": 1,
   "id": "6a047190",
   "metadata": {},
   "outputs": [
    {
     "data": {
      "text/html": [
       "<table class=\"dataframe\">\n",
       "<caption>A matrix: 5 × 3 of type dbl</caption>\n",
       "<tbody>\n",
       "\t<tr><td>50.00000</td><td>64.28571</td><td>78.57143</td></tr>\n",
       "\t<tr><td>52.85714</td><td>67.14286</td><td>81.42857</td></tr>\n",
       "\t<tr><td>55.71429</td><td>70.00000</td><td>84.28571</td></tr>\n",
       "\t<tr><td>58.57143</td><td>72.85714</td><td>87.14286</td></tr>\n",
       "\t<tr><td>61.42857</td><td>75.71429</td><td>90.00000</td></tr>\n",
       "</tbody>\n",
       "</table>\n"
      ],
      "text/latex": [
       "A matrix: 5 × 3 of type dbl\n",
       "\\begin{tabular}{lll}\n",
       "\t 50.00000 & 64.28571 & 78.57143\\\\\n",
       "\t 52.85714 & 67.14286 & 81.42857\\\\\n",
       "\t 55.71429 & 70.00000 & 84.28571\\\\\n",
       "\t 58.57143 & 72.85714 & 87.14286\\\\\n",
       "\t 61.42857 & 75.71429 & 90.00000\\\\\n",
       "\\end{tabular}\n"
      ],
      "text/markdown": [
       "\n",
       "A matrix: 5 × 3 of type dbl\n",
       "\n",
       "| 50.00000 | 64.28571 | 78.57143 |\n",
       "| 52.85714 | 67.14286 | 81.42857 |\n",
       "| 55.71429 | 70.00000 | 84.28571 |\n",
       "| 58.57143 | 72.85714 | 87.14286 |\n",
       "| 61.42857 | 75.71429 | 90.00000 |\n",
       "\n"
      ],
      "text/plain": [
       "     [,1]     [,2]     [,3]    \n",
       "[1,] 50.00000 64.28571 78.57143\n",
       "[2,] 52.85714 67.14286 81.42857\n",
       "[3,] 55.71429 70.00000 84.28571\n",
       "[4,] 58.57143 72.85714 87.14286\n",
       "[5,] 61.42857 75.71429 90.00000"
      ]
     },
     "metadata": {},
     "output_type": "display_data"
    }
   ],
   "source": [
    "# write a r program to create 2 dimensional 5x3 array of sequence of even integers greater than 50\n",
    "array(seq(from=50,length.out=15,to=90),dim=c(5,3))  #by and length cant use in same sequence"
   ]
  },
  {
   "cell_type": "code",
   "execution_count": 6,
   "id": "96e94f46",
   "metadata": {},
   "outputs": [
    {
     "data": {
      "text/html": [
       "<table class=\"dataframe\">\n",
       "<caption>A matrix: 5 × 3 of type dbl</caption>\n",
       "<tbody>\n",
       "\t<tr><td>50</td><td>60</td><td>70</td></tr>\n",
       "\t<tr><td>52</td><td>62</td><td>72</td></tr>\n",
       "\t<tr><td>54</td><td>64</td><td>74</td></tr>\n",
       "\t<tr><td>56</td><td>66</td><td>76</td></tr>\n",
       "\t<tr><td>58</td><td>68</td><td>78</td></tr>\n",
       "</tbody>\n",
       "</table>\n"
      ],
      "text/latex": [
       "A matrix: 5 × 3 of type dbl\n",
       "\\begin{tabular}{lll}\n",
       "\t 50 & 60 & 70\\\\\n",
       "\t 52 & 62 & 72\\\\\n",
       "\t 54 & 64 & 74\\\\\n",
       "\t 56 & 66 & 76\\\\\n",
       "\t 58 & 68 & 78\\\\\n",
       "\\end{tabular}\n"
      ],
      "text/markdown": [
       "\n",
       "A matrix: 5 × 3 of type dbl\n",
       "\n",
       "| 50 | 60 | 70 |\n",
       "| 52 | 62 | 72 |\n",
       "| 54 | 64 | 74 |\n",
       "| 56 | 66 | 76 |\n",
       "| 58 | 68 | 78 |\n",
       "\n"
      ],
      "text/plain": [
       "     [,1] [,2] [,3]\n",
       "[1,] 50   60   70  \n",
       "[2,] 52   62   72  \n",
       "[3,] 54   64   74  \n",
       "[4,] 56   66   76  \n",
       "[5,] 58   68   78  "
      ]
     },
     "metadata": {},
     "output_type": "display_data"
    }
   ],
   "source": [
    "# write a r program to create 2 dimensional 5x3 array of sequence of even integers greater than 50\n",
    "array(seq(from=50,to=100,by=2),dim=c(5,3)) #by and length cant use in same sequence"
   ]
  },
  {
   "cell_type": "code",
   "execution_count": 3,
   "id": "e61d555e",
   "metadata": {},
   "outputs": [
    {
     "name": "stderr",
     "output_type": "stream",
     "text": [
      "Warning message in matrix(c(1:16), nrow = 4, ncol = 5, byrow = TRUE, dimnames = list(rname, :\n",
      "\"data length [16] is not a sub-multiple or multiple of the number of columns [5]\"\n"
     ]
    },
    {
     "data": {
      "text/html": [
       "<table class=\"dataframe\">\n",
       "<caption>A matrix: 4 × 5 of type int</caption>\n",
       "<thead>\n",
       "\t<tr><th></th><th scope=col>c1</th><th scope=col>c2</th><th scope=col>c3</th><th scope=col>c4</th><th scope=col>c5</th></tr>\n",
       "</thead>\n",
       "<tbody>\n",
       "\t<tr><th scope=row>r1</th><td> 1</td><td> 2</td><td> 3</td><td> 4</td><td> 5</td></tr>\n",
       "\t<tr><th scope=row>r2</th><td> 6</td><td> 7</td><td> 8</td><td> 9</td><td>10</td></tr>\n",
       "\t<tr><th scope=row>r3</th><td>11</td><td>12</td><td>13</td><td>14</td><td>15</td></tr>\n",
       "\t<tr><th scope=row>r4</th><td>16</td><td> 1</td><td> 2</td><td> 3</td><td> 4</td></tr>\n",
       "</tbody>\n",
       "</table>\n"
      ],
      "text/latex": [
       "A matrix: 4 × 5 of type int\n",
       "\\begin{tabular}{r|lllll}\n",
       "  & c1 & c2 & c3 & c4 & c5\\\\\n",
       "\\hline\n",
       "\tr1 &  1 &  2 &  3 &  4 &  5\\\\\n",
       "\tr2 &  6 &  7 &  8 &  9 & 10\\\\\n",
       "\tr3 & 11 & 12 & 13 & 14 & 15\\\\\n",
       "\tr4 & 16 &  1 &  2 &  3 &  4\\\\\n",
       "\\end{tabular}\n"
      ],
      "text/markdown": [
       "\n",
       "A matrix: 4 × 5 of type int\n",
       "\n",
       "| <!--/--> | c1 | c2 | c3 | c4 | c5 |\n",
       "|---|---|---|---|---|---|\n",
       "| r1 |  1 |  2 |  3 |  4 |  5 |\n",
       "| r2 |  6 |  7 |  8 |  9 | 10 |\n",
       "| r3 | 11 | 12 | 13 | 14 | 15 |\n",
       "| r4 | 16 |  1 |  2 |  3 |  4 |\n",
       "\n"
      ],
      "text/plain": [
       "   c1 c2 c3 c4 c5\n",
       "r1  1  2  3  4  5\n",
       "r2  6  7  8  9 10\n",
       "r3 11 12 13 14 15\n",
       "r4 16  1  2  3  4"
      ]
     },
     "metadata": {},
     "output_type": "display_data"
    }
   ],
   "source": [
    "#matrix\n",
    "\n",
    "rname=c(\"r1\",'r2','r3','r4')  # row name\n",
    "cname=c('c1','c2','c3','c4','c5')  # column name\n",
    "matrix(c(1:16),nrow=4,ncol=5,byrow=TRUE,dimnames=list(rname,cname)) # byrow=TRUE fill by row wise"
   ]
  },
  {
   "cell_type": "code",
   "execution_count": 3,
   "id": "524fe9f4",
   "metadata": {},
   "outputs": [
    {
     "name": "stderr",
     "output_type": "stream",
     "text": [
      "Warning message in matrix(c(1:15), nrow = 4, ncol = 4, byrow = FALSE, dimnames = list(rname, :\n",
      "\"data length [15] is not a sub-multiple or multiple of the number of rows [4]\"\n"
     ]
    },
    {
     "data": {
      "text/html": [
       "<table class=\"dataframe\">\n",
       "<caption>A matrix: 4 × 4 of type int</caption>\n",
       "<thead>\n",
       "\t<tr><th></th><th scope=col>c1</th><th scope=col>c2</th><th scope=col>c3</th><th scope=col>c4</th></tr>\n",
       "</thead>\n",
       "<tbody>\n",
       "\t<tr><th scope=row>r1</th><td>1</td><td>5</td><td> 9</td><td>13</td></tr>\n",
       "\t<tr><th scope=row>r2</th><td>2</td><td>6</td><td>10</td><td>14</td></tr>\n",
       "\t<tr><th scope=row>r3</th><td>3</td><td>7</td><td>11</td><td>15</td></tr>\n",
       "\t<tr><th scope=row>r4</th><td>4</td><td>8</td><td>12</td><td> 1</td></tr>\n",
       "</tbody>\n",
       "</table>\n"
      ],
      "text/latex": [
       "A matrix: 4 × 4 of type int\n",
       "\\begin{tabular}{r|llll}\n",
       "  & c1 & c2 & c3 & c4\\\\\n",
       "\\hline\n",
       "\tr1 & 1 & 5 &  9 & 13\\\\\n",
       "\tr2 & 2 & 6 & 10 & 14\\\\\n",
       "\tr3 & 3 & 7 & 11 & 15\\\\\n",
       "\tr4 & 4 & 8 & 12 &  1\\\\\n",
       "\\end{tabular}\n"
      ],
      "text/markdown": [
       "\n",
       "A matrix: 4 × 4 of type int\n",
       "\n",
       "| <!--/--> | c1 | c2 | c3 | c4 |\n",
       "|---|---|---|---|---|\n",
       "| r1 | 1 | 5 |  9 | 13 |\n",
       "| r2 | 2 | 6 | 10 | 14 |\n",
       "| r3 | 3 | 7 | 11 | 15 |\n",
       "| r4 | 4 | 8 | 12 |  1 |\n",
       "\n"
      ],
      "text/plain": [
       "   c1 c2 c3 c4\n",
       "r1 1  5   9 13\n",
       "r2 2  6  10 14\n",
       "r3 3  7  11 15\n",
       "r4 4  8  12  1"
      ]
     },
     "metadata": {},
     "output_type": "display_data"
    }
   ],
   "source": [
    "rname=c(\"r1\",'r2','r3','r4')\n",
    "cname=c('c1','c2','c3','c4')\n",
    "a=matrix(c(1:15),nrow=4,ncol=4,byrow=FALSE,dimnames=list(rname,cname)) # byrow=FALSE means filled by column wise\n",
    "a"
   ]
  },
  {
   "cell_type": "code",
   "execution_count": 16,
   "id": "ad23bd05",
   "metadata": {},
   "outputs": [
    {
     "data": {
      "text/html": [
       "<table>\n",
       "<thead><tr><th></th><th scope=col>c1</th><th scope=col>c2</th><th scope=col>c3</th><th scope=col>c4</th></tr></thead>\n",
       "<tbody>\n",
       "\t<tr><th scope=row>r1</th><td>1 </td><td>5 </td><td> 9</td><td>13</td></tr>\n",
       "\t<tr><th scope=row>r2</th><td>2 </td><td>6 </td><td>10</td><td>14</td></tr>\n",
       "\t<tr><th scope=row>r3</th><td>3 </td><td>7 </td><td>11</td><td>15</td></tr>\n",
       "\t<tr><th scope=row>r4</th><td>4 </td><td>8 </td><td>12</td><td>16</td></tr>\n",
       "</tbody>\n",
       "</table>\n"
      ],
      "text/latex": [
       "\\begin{tabular}{r|llll}\n",
       "  & c1 & c2 & c3 & c4\\\\\n",
       "\\hline\n",
       "\tr1 & 1  & 5  &  9 & 13\\\\\n",
       "\tr2 & 2  & 6  & 10 & 14\\\\\n",
       "\tr3 & 3  & 7  & 11 & 15\\\\\n",
       "\tr4 & 4  & 8  & 12 & 16\\\\\n",
       "\\end{tabular}\n"
      ],
      "text/markdown": [
       "\n",
       "| <!--/--> | c1 | c2 | c3 | c4 |\n",
       "|---|---|---|---|---|\n",
       "| r1 | 1  | 5  |  9 | 13 |\n",
       "| r2 | 2  | 6  | 10 | 14 |\n",
       "| r3 | 3  | 7  | 11 | 15 |\n",
       "| r4 | 4  | 8  | 12 | 16 |\n",
       "\n"
      ],
      "text/plain": [
       "   c1 c2 c3 c4\n",
       "r1 1  5   9 13\n",
       "r2 2  6  10 14\n",
       "r3 3  7  11 15\n",
       "r4 4  8  12 16"
      ]
     },
     "metadata": {},
     "output_type": "display_data"
    }
   ],
   "source": [
    "#matrix\n",
    "\n",
    "rname=c(\"r1\",'r2','r3','r4')  # row name\n",
    "cname=c('c1','c2','c3','c4')  # column name\n",
    "matrix(c(1:16),nrow=4,ncol=4,dimnames=list(rname,cname)) # by default fill by column wise"
   ]
  },
  {
   "cell_type": "code",
   "execution_count": 57,
   "id": "5655e10f",
   "metadata": {},
   "outputs": [
    {
     "data": {
      "text/html": [
       "11"
      ],
      "text/latex": [
       "11"
      ],
      "text/markdown": [
       "11"
      ],
      "text/plain": [
       "[1] 11"
      ]
     },
     "metadata": {},
     "output_type": "display_data"
    }
   ],
   "source": [
    "a[3,3] # 1st row then column"
   ]
  },
  {
   "cell_type": "code",
   "execution_count": 58,
   "id": "eef6a9e8",
   "metadata": {},
   "outputs": [
    {
     "data": {
      "text/html": [
       "<dl class=dl-horizontal>\n",
       "\t<dt>r1</dt>\n",
       "\t\t<dd>9</dd>\n",
       "\t<dt>r2</dt>\n",
       "\t\t<dd>10</dd>\n",
       "\t<dt>r3</dt>\n",
       "\t\t<dd>11</dd>\n",
       "\t<dt>r4</dt>\n",
       "\t\t<dd>12</dd>\n",
       "</dl>\n"
      ],
      "text/latex": [
       "\\begin{description*}\n",
       "\\item[r1] 9\n",
       "\\item[r2] 10\n",
       "\\item[r3] 11\n",
       "\\item[r4] 12\n",
       "\\end{description*}\n"
      ],
      "text/markdown": [
       "r1\n",
       ":   9r2\n",
       ":   10r3\n",
       ":   11r4\n",
       ":   12\n",
       "\n"
      ],
      "text/plain": [
       "r1 r2 r3 r4 \n",
       " 9 10 11 12 "
      ]
     },
     "metadata": {},
     "output_type": "display_data"
    }
   ],
   "source": [
    "a[,3] # 3rd column full"
   ]
  },
  {
   "cell_type": "code",
   "execution_count": 59,
   "id": "240599c7",
   "metadata": {},
   "outputs": [
    {
     "data": {
      "text/html": [
       "<dl class=dl-horizontal>\n",
       "\t<dt>c1</dt>\n",
       "\t\t<dd>3</dd>\n",
       "\t<dt>c2</dt>\n",
       "\t\t<dd>7</dd>\n",
       "\t<dt>c3</dt>\n",
       "\t\t<dd>11</dd>\n",
       "\t<dt>c4</dt>\n",
       "\t\t<dd>15</dd>\n",
       "</dl>\n"
      ],
      "text/latex": [
       "\\begin{description*}\n",
       "\\item[c1] 3\n",
       "\\item[c2] 7\n",
       "\\item[c3] 11\n",
       "\\item[c4] 15\n",
       "\\end{description*}\n"
      ],
      "text/markdown": [
       "c1\n",
       ":   3c2\n",
       ":   7c3\n",
       ":   11c4\n",
       ":   15\n",
       "\n"
      ],
      "text/plain": [
       "c1 c2 c3 c4 \n",
       " 3  7 11 15 "
      ]
     },
     "metadata": {},
     "output_type": "display_data"
    }
   ],
   "source": [
    "a[3,]  # 3rd row full"
   ]
  },
  {
   "cell_type": "code",
   "execution_count": 65,
   "id": "83b8b6e1",
   "metadata": {},
   "outputs": [
    {
     "data": {
      "text/html": [
       "<ol class=list-inline>\n",
       "\t<li>java</li>\n",
       "\t<li>python</li>\n",
       "\t<li>java</li>\n",
       "\t<li>python</li>\n",
       "\t<li>c</li>\n",
       "\t<li>abc</li>\n",
       "</ol>\n",
       "\n",
       "<details>\n",
       "\t<summary style=display:list-item;cursor:pointer>\n",
       "\t\t<strong>Levels</strong>:\n",
       "\t</summary>\n",
       "\t<ol class=list-inline>\n",
       "\t\t<li>'abc'</li>\n",
       "\t\t<li>'c'</li>\n",
       "\t\t<li>'java'</li>\n",
       "\t\t<li>'python'</li>\n",
       "\t</ol>\n",
       "</details>"
      ],
      "text/latex": [
       "\\begin{enumerate*}\n",
       "\\item java\n",
       "\\item python\n",
       "\\item java\n",
       "\\item python\n",
       "\\item c\n",
       "\\item abc\n",
       "\\end{enumerate*}\n",
       "\n",
       "\\emph{Levels}: \\begin{enumerate*}\n",
       "\\item 'abc'\n",
       "\\item 'c'\n",
       "\\item 'java'\n",
       "\\item 'python'\n",
       "\\end{enumerate*}\n"
      ],
      "text/markdown": [
       "1. java\n",
       "2. python\n",
       "3. java\n",
       "4. python\n",
       "5. c\n",
       "6. abc\n",
       "\n",
       "\n",
       "\n",
       "**Levels**: 1. 'abc'\n",
       "2. 'c'\n",
       "3. 'java'\n",
       "4. 'python'\n",
       "\n",
       "\n"
      ],
      "text/plain": [
       "[1] java   python java   python c      abc   \n",
       "Levels: abc c java python"
      ]
     },
     "metadata": {},
     "output_type": "display_data"
    }
   ],
   "source": [
    "# factors store the categorical data \n",
    "a=factor(c('java','python','java','python','c','abc'))  # unique values printed in alphabetical order\n",
    "a    #levels show the unique values in alphabetical order"
   ]
  },
  {
   "cell_type": "code",
   "execution_count": 13,
   "id": "03740acd",
   "metadata": {},
   "outputs": [
    {
     "data": {
      "text/plain": [
       "a\n",
       "   abc      c   java python \n",
       "     1      1      2      2 "
      ]
     },
     "metadata": {},
     "output_type": "display_data"
    },
    {
     "data": {
      "text/html": [
       "<style>\n",
       ".list-inline {list-style: none; margin:0; padding: 0}\n",
       ".list-inline>li {display: inline-block}\n",
       ".list-inline>li:not(:last-child)::after {content: \"\\00b7\"; padding: 0 .5ex}\n",
       "</style>\n",
       "<ol class=list-inline><li>'abc'</li><li>'c'</li><li>'java'</li><li>'python'</li></ol>\n"
      ],
      "text/latex": [
       "\\begin{enumerate*}\n",
       "\\item 'abc'\n",
       "\\item 'c'\n",
       "\\item 'java'\n",
       "\\item 'python'\n",
       "\\end{enumerate*}\n"
      ],
      "text/markdown": [
       "1. 'abc'\n",
       "2. 'c'\n",
       "3. 'java'\n",
       "4. 'python'\n",
       "\n",
       "\n"
      ],
      "text/plain": [
       "[1] \"abc\"    \"c\"      \"java\"   \"python\""
      ]
     },
     "metadata": {},
     "output_type": "display_data"
    },
    {
     "data": {
      "text/html": [
       "<style>\n",
       ".list-inline {list-style: none; margin:0; padding: 0}\n",
       ".list-inline>li {display: inline-block}\n",
       ".list-inline>li:not(:last-child)::after {content: \"\\00b7\"; padding: 0 .5ex}\n",
       "</style>\n",
       "<ol class=list-inline><li>java</li><li>python</li><li>java</li><li>python</li><li>c</li><li>abc</li></ol>\n",
       "\n",
       "<details>\n",
       "\t<summary style=display:list-item;cursor:pointer>\n",
       "\t\t<strong>Levels</strong>:\n",
       "\t</summary>\n",
       "\t<style>\n",
       "\t.list-inline {list-style: none; margin:0; padding: 0}\n",
       "\t.list-inline>li {display: inline-block}\n",
       "\t.list-inline>li:not(:last-child)::after {content: \"\\00b7\"; padding: 0 .5ex}\n",
       "\t</style>\n",
       "\t<ol class=list-inline><li>'abc'</li><li>'c'</li><li>'java'</li><li>'python'</li></ol>\n",
       "</details>"
      ],
      "text/latex": [
       "\\begin{enumerate*}\n",
       "\\item java\n",
       "\\item python\n",
       "\\item java\n",
       "\\item python\n",
       "\\item c\n",
       "\\item abc\n",
       "\\end{enumerate*}\n",
       "\n",
       "\\emph{Levels}: \\begin{enumerate*}\n",
       "\\item 'abc'\n",
       "\\item 'c'\n",
       "\\item 'java'\n",
       "\\item 'python'\n",
       "\\end{enumerate*}\n"
      ],
      "text/markdown": [
       "1. java\n",
       "2. python\n",
       "3. java\n",
       "4. python\n",
       "5. c\n",
       "6. abc\n",
       "\n",
       "\n",
       "\n",
       "**Levels**: 1. 'abc'\n",
       "2. 'c'\n",
       "3. 'java'\n",
       "4. 'python'\n",
       "\n",
       "\n"
      ],
      "text/plain": [
       "[1] java   python java   python c      abc   \n",
       "Levels: abc c java python"
      ]
     },
     "metadata": {},
     "output_type": "display_data"
    }
   ],
   "source": [
    "a=factor(c('java','python','java','python','c','abc'))  # unique values printed in alphabetical order\n",
    "table(a)\n",
    "levels(a)\n",
    "a"
   ]
  },
  {
   "cell_type": "code",
   "execution_count": 66,
   "id": "f61a1e58",
   "metadata": {},
   "outputs": [
    {
     "data": {
      "text/plain": [
       "a\n",
       "   abc      c   java python \n",
       "     1      1      2      2 "
      ]
     },
     "metadata": {},
     "output_type": "display_data"
    }
   ],
   "source": [
    "table(a) #table shows how many values present in each level"
   ]
  },
  {
   "cell_type": "code",
   "execution_count": 67,
   "id": "637fe7f7",
   "metadata": {},
   "outputs": [
    {
     "data": {
      "text/html": [
       "<ol class=list-inline>\n",
       "\t<li>'abc'</li>\n",
       "\t<li>'c'</li>\n",
       "\t<li>'java'</li>\n",
       "\t<li>'python'</li>\n",
       "</ol>\n"
      ],
      "text/latex": [
       "\\begin{enumerate*}\n",
       "\\item 'abc'\n",
       "\\item 'c'\n",
       "\\item 'java'\n",
       "\\item 'python'\n",
       "\\end{enumerate*}\n"
      ],
      "text/markdown": [
       "1. 'abc'\n",
       "2. 'c'\n",
       "3. 'java'\n",
       "4. 'python'\n",
       "\n",
       "\n"
      ],
      "text/plain": [
       "[1] \"abc\"    \"c\"      \"java\"   \"python\""
      ]
     },
     "metadata": {},
     "output_type": "display_data"
    }
   ],
   "source": [
    "levels(a)  #levels show the unique values in alphabetical order"
   ]
  },
  {
   "cell_type": "code",
   "execution_count": 71,
   "id": "626ac97d",
   "metadata": {
    "scrolled": true
   },
   "outputs": [
    {
     "name": "stdout",
     "output_type": "stream",
     "text": [
      "enter how many values:5\n",
      "enter element  1 :12\n",
      "enter element  2 :1\n",
      "enter element  3 :1\n",
      "enter element  4 :1\n",
      "enter element  5 :1\n",
      "[[1]]\n",
      "[1] 12\n",
      "\n",
      "[[2]]\n",
      "[1] 1\n",
      "\n",
      "[[3]]\n",
      "[1] 1\n",
      "\n",
      "[[4]]\n",
      "[1] 1\n",
      "\n",
      "[[5]]\n",
      "[1] 1\n",
      "\n"
     ]
    }
   ],
   "source": [
    "# get input from user for a list\n",
    "element=list()\n",
    "total=as.integer(readline(\"enter how many values:\"))   # input always be in character data type so we change it into integer\n",
    "for(i in seq(total))\n",
    "    {\n",
    "        element[i]=as.integer(readline(paste(\"enter element \",i,\":\")))\n",
    "}\n",
    "print(element)"
   ]
  },
  {
   "cell_type": "code",
   "execution_count": 4,
   "id": "3af88cb3",
   "metadata": {},
   "outputs": [],
   "source": [
    "df=data.frame(emp_id=c(1,2,3),emp_name=c(\"Harish\",\"Balaji\",\"Suiya\",\"veeramani\",\"sabari\",\"rohi\"),\n",
    "              emp_date=as.Date(c(\"2019-09-26\",\"2019-08-23\",\"2019-07-26\",\"2022-09-20\",\"2000-01-01\",\"1990-09-10\")),\n",
    "              gen=factor(c(\"m\",\"m\",\"f\",\"f\",\"f\",\"others\")))"
   ]
  },
  {
   "cell_type": "code",
   "execution_count": 19,
   "id": "9e28b2b2",
   "metadata": {},
   "outputs": [
    {
     "data": {
      "text/html": [
       "<table class=\"dataframe\">\n",
       "<caption>A data.frame: 6 × 4</caption>\n",
       "<thead>\n",
       "\t<tr><th scope=col>emp_id</th><th scope=col>emp_name</th><th scope=col>emp_date</th><th scope=col>gen</th></tr>\n",
       "\t<tr><th scope=col>&lt;dbl&gt;</th><th scope=col>&lt;chr&gt;</th><th scope=col>&lt;date&gt;</th><th scope=col>&lt;fct&gt;</th></tr>\n",
       "</thead>\n",
       "<tbody>\n",
       "\t<tr><td>1</td><td>Harish   </td><td>2019-09-26</td><td>m     </td></tr>\n",
       "\t<tr><td>2</td><td>Balaji   </td><td>2019-08-23</td><td>m     </td></tr>\n",
       "\t<tr><td>3</td><td>Suiya    </td><td>2019-07-26</td><td>f     </td></tr>\n",
       "\t<tr><td>1</td><td>veeramani</td><td>2022-09-20</td><td>f     </td></tr>\n",
       "\t<tr><td>2</td><td>sabari   </td><td>2000-01-01</td><td>f     </td></tr>\n",
       "\t<tr><td>3</td><td>rohi     </td><td>1990-09-10</td><td>others</td></tr>\n",
       "</tbody>\n",
       "</table>\n"
      ],
      "text/latex": [
       "A data.frame: 6 × 4\n",
       "\\begin{tabular}{llll}\n",
       " emp\\_id & emp\\_name & emp\\_date & gen\\\\\n",
       " <dbl> & <chr> & <date> & <fct>\\\\\n",
       "\\hline\n",
       "\t 1 & Harish    & 2019-09-26 & m     \\\\\n",
       "\t 2 & Balaji    & 2019-08-23 & m     \\\\\n",
       "\t 3 & Suiya     & 2019-07-26 & f     \\\\\n",
       "\t 1 & veeramani & 2022-09-20 & f     \\\\\n",
       "\t 2 & sabari    & 2000-01-01 & f     \\\\\n",
       "\t 3 & rohi      & 1990-09-10 & others\\\\\n",
       "\\end{tabular}\n"
      ],
      "text/markdown": [
       "\n",
       "A data.frame: 6 × 4\n",
       "\n",
       "| emp_id &lt;dbl&gt; | emp_name &lt;chr&gt; | emp_date &lt;date&gt; | gen &lt;fct&gt; |\n",
       "|---|---|---|---|\n",
       "| 1 | Harish    | 2019-09-26 | m      |\n",
       "| 2 | Balaji    | 2019-08-23 | m      |\n",
       "| 3 | Suiya     | 2019-07-26 | f      |\n",
       "| 1 | veeramani | 2022-09-20 | f      |\n",
       "| 2 | sabari    | 2000-01-01 | f      |\n",
       "| 3 | rohi      | 1990-09-10 | others |\n",
       "\n"
      ],
      "text/plain": [
       "  emp_id emp_name  emp_date   gen   \n",
       "1 1      Harish    2019-09-26 m     \n",
       "2 2      Balaji    2019-08-23 m     \n",
       "3 3      Suiya     2019-07-26 f     \n",
       "4 1      veeramani 2022-09-20 f     \n",
       "5 2      sabari    2000-01-01 f     \n",
       "6 3      rohi      1990-09-10 others"
      ]
     },
     "metadata": {},
     "output_type": "display_data"
    }
   ],
   "source": [
    "df"
   ]
  },
  {
   "cell_type": "code",
   "execution_count": 3,
   "id": "60a84a85",
   "metadata": {},
   "outputs": [
    {
     "data": {
      "text/plain": [
       "     emp_id          emp_name    emp_date          gender\n",
       " Min.   :1.00   Balaji   :1   Min.   :1990-09-10   f:4   \n",
       " 1st Qu.:1.25   Harish   :1   1st Qu.:2004-11-21   m:2   \n",
       " Median :2.00   rohi     :1   Median :2019-08-09         \n",
       " Mean   :2.00   sabari   :1   Mean   :2012-01-22         \n",
       " 3rd Qu.:2.75   Suiya    :1   3rd Qu.:2019-09-17         \n",
       " Max.   :3.00   veeramani:1   Max.   :2022-09-20         "
      ]
     },
     "metadata": {},
     "output_type": "display_data"
    }
   ],
   "source": [
    "summary(df) # statistics"
   ]
  },
  {
   "cell_type": "code",
   "execution_count": 4,
   "id": "b09eedc1",
   "metadata": {},
   "outputs": [
    {
     "name": "stdout",
     "output_type": "stream",
     "text": [
      "'data.frame':\t6 obs. of  4 variables:\n",
      " $ emp_id  : num  1 2 3 1 2 3\n",
      " $ emp_name: Factor w/ 6 levels \"Balaji\",\"Harish\",..: 2 1 5 6 4 3\n",
      " $ emp_date: Date, format: \"2019-09-26\" \"2019-08-23\" ...\n",
      " $ gender  : Factor w/ 2 levels \"f\",\"m\": 2 2 1 1 1 1\n"
     ]
    }
   ],
   "source": [
    "str(df) #structure"
   ]
  },
  {
   "cell_type": "code",
   "execution_count": 5,
   "id": "97138d87",
   "metadata": {},
   "outputs": [
    {
     "data": {
      "text/html": [
       "<style>\n",
       ".list-inline {list-style: none; margin:0; padding: 0}\n",
       ".list-inline>li {display: inline-block}\n",
       ".list-inline>li:not(:last-child)::after {content: \"\\00b7\"; padding: 0 .5ex}\n",
       "</style>\n",
       "<ol class=list-inline><li>m</li><li>m</li><li>f</li><li>f</li><li>f</li><li>others</li></ol>\n",
       "\n",
       "<details>\n",
       "\t<summary style=display:list-item;cursor:pointer>\n",
       "\t\t<strong>Levels</strong>:\n",
       "\t</summary>\n",
       "\t<style>\n",
       "\t.list-inline {list-style: none; margin:0; padding: 0}\n",
       "\t.list-inline>li {display: inline-block}\n",
       "\t.list-inline>li:not(:last-child)::after {content: \"\\00b7\"; padding: 0 .5ex}\n",
       "\t</style>\n",
       "\t<ol class=list-inline><li>'f'</li><li>'m'</li><li>'others'</li></ol>\n",
       "</details>"
      ],
      "text/latex": [
       "\\begin{enumerate*}\n",
       "\\item m\n",
       "\\item m\n",
       "\\item f\n",
       "\\item f\n",
       "\\item f\n",
       "\\item others\n",
       "\\end{enumerate*}\n",
       "\n",
       "\\emph{Levels}: \\begin{enumerate*}\n",
       "\\item 'f'\n",
       "\\item 'm'\n",
       "\\item 'others'\n",
       "\\end{enumerate*}\n"
      ],
      "text/markdown": [
       "1. m\n",
       "2. m\n",
       "3. f\n",
       "4. f\n",
       "5. f\n",
       "6. others\n",
       "\n",
       "\n",
       "\n",
       "**Levels**: 1. 'f'\n",
       "2. 'm'\n",
       "3. 'others'\n",
       "\n",
       "\n"
      ],
      "text/plain": [
       "[1] m      m      f      f      f      others\n",
       "Levels: f m others"
      ]
     },
     "metadata": {},
     "output_type": "display_data"
    },
    {
     "data": {
      "text/html": [
       "6"
      ],
      "text/latex": [
       "6"
      ],
      "text/markdown": [
       "6"
      ],
      "text/plain": [
       "[1] 6"
      ]
     },
     "metadata": {},
     "output_type": "display_data"
    }
   ],
   "source": [
    "df$gen\n",
    "sum(table(df$gen))  # genders with counts $ used to count the column value"
   ]
  },
  {
   "cell_type": "code",
   "execution_count": 6,
   "id": "9e146f53",
   "metadata": {},
   "outputs": [
    {
     "data": {
      "text/html": [
       "<ol class=list-inline>\n",
       "\t<li>Harish</li>\n",
       "\t<li>Balaji</li>\n",
       "\t<li>Suiya</li>\n",
       "\t<li>veeramani</li>\n",
       "\t<li>sabari</li>\n",
       "\t<li>rohi</li>\n",
       "</ol>\n",
       "\n",
       "<details>\n",
       "\t<summary style=display:list-item;cursor:pointer>\n",
       "\t\t<strong>Levels</strong>:\n",
       "\t</summary>\n",
       "\t<ol class=list-inline>\n",
       "\t\t<li>'Balaji'</li>\n",
       "\t\t<li>'Harish'</li>\n",
       "\t\t<li>'rohi'</li>\n",
       "\t\t<li>'sabari'</li>\n",
       "\t\t<li>'Suiya'</li>\n",
       "\t\t<li>'veeramani'</li>\n",
       "\t</ol>\n",
       "</details>"
      ],
      "text/latex": [
       "\\begin{enumerate*}\n",
       "\\item Harish\n",
       "\\item Balaji\n",
       "\\item Suiya\n",
       "\\item veeramani\n",
       "\\item sabari\n",
       "\\item rohi\n",
       "\\end{enumerate*}\n",
       "\n",
       "\\emph{Levels}: \\begin{enumerate*}\n",
       "\\item 'Balaji'\n",
       "\\item 'Harish'\n",
       "\\item 'rohi'\n",
       "\\item 'sabari'\n",
       "\\item 'Suiya'\n",
       "\\item 'veeramani'\n",
       "\\end{enumerate*}\n"
      ],
      "text/markdown": [
       "1. Harish\n",
       "2. Balaji\n",
       "3. Suiya\n",
       "4. veeramani\n",
       "5. sabari\n",
       "6. rohi\n",
       "\n",
       "\n",
       "\n",
       "**Levels**: 1. 'Balaji'\n",
       "2. 'Harish'\n",
       "3. 'rohi'\n",
       "4. 'sabari'\n",
       "5. 'Suiya'\n",
       "6. 'veeramani'\n",
       "\n",
       "\n"
      ],
      "text/plain": [
       "[1] Harish    Balaji    Suiya     veeramani sabari    rohi     \n",
       "Levels: Balaji Harish rohi sabari Suiya veeramani"
      ]
     },
     "metadata": {},
     "output_type": "display_data"
    }
   ],
   "source": [
    "df$emp_name"
   ]
  },
  {
   "cell_type": "code",
   "execution_count": 9,
   "id": "c880db41",
   "metadata": {},
   "outputs": [
    {
     "data": {
      "text/plain": [
       "\n",
       "   Balaji    Harish      rohi    sabari     Suiya veeramani \n",
       "        1         1         1         1         1         1 "
      ]
     },
     "metadata": {},
     "output_type": "display_data"
    }
   ],
   "source": [
    "table(df$emp_name)"
   ]
  },
  {
   "cell_type": "code",
   "execution_count": 7,
   "id": "4b4dbc37",
   "metadata": {},
   "outputs": [
    {
     "data": {
      "text/html": [
       "<table>\n",
       "<thead><tr><th scope=col>df.emp_name</th><th scope=col>df.emp_date</th></tr></thead>\n",
       "<tbody>\n",
       "\t<tr><td>Harish    </td><td>2019-09-26</td></tr>\n",
       "\t<tr><td>Balaji    </td><td>2019-08-23</td></tr>\n",
       "\t<tr><td>Suiya     </td><td>2019-07-26</td></tr>\n",
       "\t<tr><td>veeramani </td><td>2022-09-20</td></tr>\n",
       "\t<tr><td>sabari    </td><td>2000-01-01</td></tr>\n",
       "\t<tr><td>rohi      </td><td>1990-09-10</td></tr>\n",
       "</tbody>\n",
       "</table>\n"
      ],
      "text/latex": [
       "\\begin{tabular}{r|ll}\n",
       " df.emp\\_name & df.emp\\_date\\\\\n",
       "\\hline\n",
       "\t Harish     & 2019-09-26\\\\\n",
       "\t Balaji     & 2019-08-23\\\\\n",
       "\t Suiya      & 2019-07-26\\\\\n",
       "\t veeramani  & 2022-09-20\\\\\n",
       "\t sabari     & 2000-01-01\\\\\n",
       "\t rohi       & 1990-09-10\\\\\n",
       "\\end{tabular}\n"
      ],
      "text/markdown": [
       "\n",
       "| df.emp_name | df.emp_date |\n",
       "|---|---|\n",
       "| Harish     | 2019-09-26 |\n",
       "| Balaji     | 2019-08-23 |\n",
       "| Suiya      | 2019-07-26 |\n",
       "| veeramani  | 2022-09-20 |\n",
       "| sabari     | 2000-01-01 |\n",
       "| rohi       | 1990-09-10 |\n",
       "\n"
      ],
      "text/plain": [
       "  df.emp_name df.emp_date\n",
       "1 Harish      2019-09-26 \n",
       "2 Balaji      2019-08-23 \n",
       "3 Suiya       2019-07-26 \n",
       "4 veeramani   2022-09-20 \n",
       "5 sabari      2000-01-01 \n",
       "6 rohi        1990-09-10 "
      ]
     },
     "metadata": {},
     "output_type": "display_data"
    }
   ],
   "source": [
    "data.frame(df$emp_name,df$emp_date)"
   ]
  },
  {
   "cell_type": "code",
   "execution_count": 8,
   "id": "83b2d847",
   "metadata": {},
   "outputs": [
    {
     "data": {
      "text/html": [
       "<table>\n",
       "<thead><tr><th scope=col>emp_id</th><th scope=col>emp_name</th><th scope=col>emp_date</th><th scope=col>gender</th></tr></thead>\n",
       "<tbody>\n",
       "\t<tr><td>1         </td><td>Harish    </td><td>2019-09-26</td><td>m         </td></tr>\n",
       "\t<tr><td>2         </td><td>Balaji    </td><td>2019-08-23</td><td>m         </td></tr>\n",
       "\t<tr><td>3         </td><td>Suiya     </td><td>2019-07-26</td><td>f         </td></tr>\n",
       "\t<tr><td>1         </td><td>veeramani </td><td>2022-09-20</td><td>f         </td></tr>\n",
       "\t<tr><td>2         </td><td>sabari    </td><td>2000-01-01</td><td>f         </td></tr>\n",
       "\t<tr><td>3         </td><td>rohi      </td><td>1990-09-10</td><td>f         </td></tr>\n",
       "</tbody>\n",
       "</table>\n"
      ],
      "text/latex": [
       "\\begin{tabular}{r|llll}\n",
       " emp\\_id & emp\\_name & emp\\_date & gender\\\\\n",
       "\\hline\n",
       "\t 1          & Harish     & 2019-09-26 & m         \\\\\n",
       "\t 2          & Balaji     & 2019-08-23 & m         \\\\\n",
       "\t 3          & Suiya      & 2019-07-26 & f         \\\\\n",
       "\t 1          & veeramani  & 2022-09-20 & f         \\\\\n",
       "\t 2          & sabari     & 2000-01-01 & f         \\\\\n",
       "\t 3          & rohi       & 1990-09-10 & f         \\\\\n",
       "\\end{tabular}\n"
      ],
      "text/markdown": [
       "\n",
       "| emp_id | emp_name | emp_date | gender |\n",
       "|---|---|---|---|\n",
       "| 1          | Harish     | 2019-09-26 | m          |\n",
       "| 2          | Balaji     | 2019-08-23 | m          |\n",
       "| 3          | Suiya      | 2019-07-26 | f          |\n",
       "| 1          | veeramani  | 2022-09-20 | f          |\n",
       "| 2          | sabari     | 2000-01-01 | f          |\n",
       "| 3          | rohi       | 1990-09-10 | f          |\n",
       "\n"
      ],
      "text/plain": [
       "  emp_id emp_name  emp_date   gender\n",
       "1 1      Harish    2019-09-26 m     \n",
       "2 2      Balaji    2019-08-23 m     \n",
       "3 3      Suiya     2019-07-26 f     \n",
       "4 1      veeramani 2022-09-20 f     \n",
       "5 2      sabari    2000-01-01 f     \n",
       "6 3      rohi      1990-09-10 f     "
      ]
     },
     "metadata": {},
     "output_type": "display_data"
    }
   ],
   "source": [
    "df"
   ]
  },
  {
   "cell_type": "code",
   "execution_count": 10,
   "id": "cc18a7f9",
   "metadata": {},
   "outputs": [
    {
     "data": {
      "text/html": [
       "<table>\n",
       "<thead><tr><th></th><th scope=col>emp_id</th><th scope=col>emp_name</th><th scope=col>emp_date</th><th scope=col>gender</th></tr></thead>\n",
       "<tbody>\n",
       "\t<tr><th scope=row>6</th><td>3         </td><td>rohi      </td><td>1990-09-10</td><td>f         </td></tr>\n",
       "\t<tr><th scope=row>5</th><td>2         </td><td>sabari    </td><td>2000-01-01</td><td>f         </td></tr>\n",
       "\t<tr><th scope=row>3</th><td>3         </td><td>Suiya     </td><td>2019-07-26</td><td>f         </td></tr>\n",
       "\t<tr><th scope=row>2</th><td>2         </td><td>Balaji    </td><td>2019-08-23</td><td>m         </td></tr>\n",
       "\t<tr><th scope=row>1</th><td>1         </td><td>Harish    </td><td>2019-09-26</td><td>m         </td></tr>\n",
       "\t<tr><th scope=row>4</th><td>1         </td><td>veeramani </td><td>2022-09-20</td><td>f         </td></tr>\n",
       "</tbody>\n",
       "</table>\n"
      ],
      "text/latex": [
       "\\begin{tabular}{r|llll}\n",
       "  & emp\\_id & emp\\_name & emp\\_date & gender\\\\\n",
       "\\hline\n",
       "\t6 & 3          & rohi       & 1990-09-10 & f         \\\\\n",
       "\t5 & 2          & sabari     & 2000-01-01 & f         \\\\\n",
       "\t3 & 3          & Suiya      & 2019-07-26 & f         \\\\\n",
       "\t2 & 2          & Balaji     & 2019-08-23 & m         \\\\\n",
       "\t1 & 1          & Harish     & 2019-09-26 & m         \\\\\n",
       "\t4 & 1          & veeramani  & 2022-09-20 & f         \\\\\n",
       "\\end{tabular}\n"
      ],
      "text/markdown": [
       "\n",
       "| <!--/--> | emp_id | emp_name | emp_date | gender |\n",
       "|---|---|---|---|---|\n",
       "| 6 | 3          | rohi       | 1990-09-10 | f          |\n",
       "| 5 | 2          | sabari     | 2000-01-01 | f          |\n",
       "| 3 | 3          | Suiya      | 2019-07-26 | f          |\n",
       "| 2 | 2          | Balaji     | 2019-08-23 | m          |\n",
       "| 1 | 1          | Harish     | 2019-09-26 | m          |\n",
       "| 4 | 1          | veeramani  | 2022-09-20 | f          |\n",
       "\n"
      ],
      "text/plain": [
       "  emp_id emp_name  emp_date   gender\n",
       "6 3      rohi      1990-09-10 f     \n",
       "5 2      sabari    2000-01-01 f     \n",
       "3 3      Suiya     2019-07-26 f     \n",
       "2 2      Balaji    2019-08-23 m     \n",
       "1 1      Harish    2019-09-26 m     \n",
       "4 1      veeramani 2022-09-20 f     "
      ]
     },
     "metadata": {},
     "output_type": "display_data"
    }
   ],
   "source": [
    "# sort with joining date\n",
    "a=df[with(df,order(c(emp_date))),]           #c- vector isnt necessary\n",
    "a"
   ]
  },
  {
   "cell_type": "code",
   "execution_count": 10,
   "id": "ad4db9a8",
   "metadata": {},
   "outputs": [
    {
     "data": {
      "text/html": [
       "<table class=\"dataframe\">\n",
       "<caption>A data.frame: 6 × 4</caption>\n",
       "<thead>\n",
       "\t<tr><th></th><th scope=col>emp_id</th><th scope=col>emp_name</th><th scope=col>emp_date</th><th scope=col>gender</th></tr>\n",
       "\t<tr><th></th><th scope=col>&lt;dbl&gt;</th><th scope=col>&lt;chr&gt;</th><th scope=col>&lt;date&gt;</th><th scope=col>&lt;fct&gt;</th></tr>\n",
       "</thead>\n",
       "<tbody>\n",
       "\t<tr><th scope=row>6</th><td>3</td><td>rohi     </td><td>1990-09-10</td><td>f</td></tr>\n",
       "\t<tr><th scope=row>5</th><td>2</td><td>sabari   </td><td>2000-01-01</td><td>f</td></tr>\n",
       "\t<tr><th scope=row>3</th><td>3</td><td>Suiya    </td><td>2019-07-26</td><td>f</td></tr>\n",
       "\t<tr><th scope=row>2</th><td>2</td><td>Balaji   </td><td>2019-08-23</td><td>m</td></tr>\n",
       "\t<tr><th scope=row>1</th><td>1</td><td>Harish   </td><td>2019-09-26</td><td>m</td></tr>\n",
       "\t<tr><th scope=row>4</th><td>1</td><td>veeramani</td><td>2022-09-20</td><td>f</td></tr>\n",
       "</tbody>\n",
       "</table>\n"
      ],
      "text/latex": [
       "A data.frame: 6 × 4\n",
       "\\begin{tabular}{r|llll}\n",
       "  & emp\\_id & emp\\_name & emp\\_date & gender\\\\\n",
       "  & <dbl> & <chr> & <date> & <fct>\\\\\n",
       "\\hline\n",
       "\t6 & 3 & rohi      & 1990-09-10 & f\\\\\n",
       "\t5 & 2 & sabari    & 2000-01-01 & f\\\\\n",
       "\t3 & 3 & Suiya     & 2019-07-26 & f\\\\\n",
       "\t2 & 2 & Balaji    & 2019-08-23 & m\\\\\n",
       "\t1 & 1 & Harish    & 2019-09-26 & m\\\\\n",
       "\t4 & 1 & veeramani & 2022-09-20 & f\\\\\n",
       "\\end{tabular}\n"
      ],
      "text/markdown": [
       "\n",
       "A data.frame: 6 × 4\n",
       "\n",
       "| <!--/--> | emp_id &lt;dbl&gt; | emp_name &lt;chr&gt; | emp_date &lt;date&gt; | gender &lt;fct&gt; |\n",
       "|---|---|---|---|---|\n",
       "| 6 | 3 | rohi      | 1990-09-10 | f |\n",
       "| 5 | 2 | sabari    | 2000-01-01 | f |\n",
       "| 3 | 3 | Suiya     | 2019-07-26 | f |\n",
       "| 2 | 2 | Balaji    | 2019-08-23 | m |\n",
       "| 1 | 1 | Harish    | 2019-09-26 | m |\n",
       "| 4 | 1 | veeramani | 2022-09-20 | f |\n",
       "\n"
      ],
      "text/plain": [
       "  emp_id emp_name  emp_date   gender\n",
       "6 3      rohi      1990-09-10 f     \n",
       "5 2      sabari    2000-01-01 f     \n",
       "3 3      Suiya     2019-07-26 f     \n",
       "2 2      Balaji    2019-08-23 m     \n",
       "1 1      Harish    2019-09-26 m     \n",
       "4 1      veeramani 2022-09-20 f     "
      ]
     },
     "metadata": {},
     "output_type": "display_data"
    }
   ],
   "source": [
    "# sort with joining date\n",
    "a=df[with(df,order(emp_date)),]\n",
    "a"
   ]
  },
  {
   "cell_type": "code",
   "execution_count": 14,
   "id": "01adc512",
   "metadata": {},
   "outputs": [
    {
     "data": {
      "text/html": [
       "<table class=\"dataframe\">\n",
       "<caption>A data.frame: 6 × 4</caption>\n",
       "<thead>\n",
       "\t<tr><th></th><th scope=col>emp_id</th><th scope=col>emp_name</th><th scope=col>emp_date</th><th scope=col>gender</th></tr>\n",
       "\t<tr><th></th><th scope=col>&lt;dbl&gt;</th><th scope=col>&lt;chr&gt;</th><th scope=col>&lt;date&gt;</th><th scope=col>&lt;fct&gt;</th></tr>\n",
       "</thead>\n",
       "<tbody>\n",
       "\t<tr><th scope=row>6</th><td>3</td><td>rohi     </td><td>1990-09-10</td><td>f</td></tr>\n",
       "\t<tr><th scope=row>5</th><td>2</td><td>sabari   </td><td>2000-01-01</td><td>f</td></tr>\n",
       "\t<tr><th scope=row>3</th><td>3</td><td>Suiya    </td><td>2019-07-26</td><td>f</td></tr>\n",
       "\t<tr><th scope=row>2</th><td>2</td><td>Balaji   </td><td>2019-08-23</td><td>m</td></tr>\n",
       "\t<tr><th scope=row>1</th><td>1</td><td>Harish   </td><td>2019-09-26</td><td>m</td></tr>\n",
       "\t<tr><th scope=row>4</th><td>1</td><td>veeramani</td><td>2022-09-20</td><td>f</td></tr>\n",
       "</tbody>\n",
       "</table>\n"
      ],
      "text/latex": [
       "A data.frame: 6 × 4\n",
       "\\begin{tabular}{r|llll}\n",
       "  & emp\\_id & emp\\_name & emp\\_date & gender\\\\\n",
       "  & <dbl> & <chr> & <date> & <fct>\\\\\n",
       "\\hline\n",
       "\t6 & 3 & rohi      & 1990-09-10 & f\\\\\n",
       "\t5 & 2 & sabari    & 2000-01-01 & f\\\\\n",
       "\t3 & 3 & Suiya     & 2019-07-26 & f\\\\\n",
       "\t2 & 2 & Balaji    & 2019-08-23 & m\\\\\n",
       "\t1 & 1 & Harish    & 2019-09-26 & m\\\\\n",
       "\t4 & 1 & veeramani & 2022-09-20 & f\\\\\n",
       "\\end{tabular}\n"
      ],
      "text/markdown": [
       "\n",
       "A data.frame: 6 × 4\n",
       "\n",
       "| <!--/--> | emp_id &lt;dbl&gt; | emp_name &lt;chr&gt; | emp_date &lt;date&gt; | gender &lt;fct&gt; |\n",
       "|---|---|---|---|---|\n",
       "| 6 | 3 | rohi      | 1990-09-10 | f |\n",
       "| 5 | 2 | sabari    | 2000-01-01 | f |\n",
       "| 3 | 3 | Suiya     | 2019-07-26 | f |\n",
       "| 2 | 2 | Balaji    | 2019-08-23 | m |\n",
       "| 1 | 1 | Harish    | 2019-09-26 | m |\n",
       "| 4 | 1 | veeramani | 2022-09-20 | f |\n",
       "\n"
      ],
      "text/plain": [
       "  emp_id emp_name  emp_date   gender\n",
       "6 3      rohi      1990-09-10 f     \n",
       "5 2      sabari    2000-01-01 f     \n",
       "3 3      Suiya     2019-07-26 f     \n",
       "2 2      Balaji    2019-08-23 m     \n",
       "1 1      Harish    2019-09-26 m     \n",
       "4 1      veeramani 2022-09-20 f     "
      ]
     },
     "metadata": {},
     "output_type": "display_data"
    }
   ],
   "source": [
    "# sort with joining date\n",
    "a=df[with(df,order(emp_date)),]\n",
    "a"
   ]
  },
  {
   "cell_type": "code",
   "execution_count": 17,
   "id": "764bc7c4",
   "metadata": {},
   "outputs": [
    {
     "data": {
      "text/html": [
       "<table>\n",
       "<thead><tr><th scope=col>emp_name</th></tr></thead>\n",
       "<tbody>\n",
       "\t<tr><td>Harish   </td></tr>\n",
       "\t<tr><td>Balaji   </td></tr>\n",
       "\t<tr><td>Suiya    </td></tr>\n",
       "\t<tr><td>veeramani</td></tr>\n",
       "\t<tr><td>sabari   </td></tr>\n",
       "\t<tr><td>rohi     </td></tr>\n",
       "</tbody>\n",
       "</table>\n"
      ],
      "text/latex": [
       "\\begin{tabular}{r|l}\n",
       " emp\\_name\\\\\n",
       "\\hline\n",
       "\t Harish   \\\\\n",
       "\t Balaji   \\\\\n",
       "\t Suiya    \\\\\n",
       "\t veeramani\\\\\n",
       "\t sabari   \\\\\n",
       "\t rohi     \\\\\n",
       "\\end{tabular}\n"
      ],
      "text/markdown": [
       "\n",
       "| emp_name |\n",
       "|---|\n",
       "| Harish    |\n",
       "| Balaji    |\n",
       "| Suiya     |\n",
       "| veeramani |\n",
       "| sabari    |\n",
       "| rohi      |\n",
       "\n"
      ],
      "text/plain": [
       "  emp_name \n",
       "1 Harish   \n",
       "2 Balaji   \n",
       "3 Suiya    \n",
       "4 veeramani\n",
       "5 sabari   \n",
       "6 rohi     "
      ]
     },
     "metadata": {},
     "output_type": "display_data"
    }
   ],
   "source": [
    "df[\"emp_name\"]"
   ]
  },
  {
   "cell_type": "code",
   "execution_count": null,
   "id": "c1cfbbd3",
   "metadata": {},
   "outputs": [],
   "source": []
  }
 ],
 "metadata": {
  "kernelspec": {
   "display_name": "R",
   "language": "R",
   "name": "ir"
  },
  "language_info": {
   "codemirror_mode": "r",
   "file_extension": ".r",
   "mimetype": "text/x-r-source",
   "name": "R",
   "pygments_lexer": "r",
   "version": "4.1.3"
  }
 },
 "nbformat": 4,
 "nbformat_minor": 5
}
