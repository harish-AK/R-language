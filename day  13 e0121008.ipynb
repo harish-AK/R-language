{
 "cells": [
  {
   "cell_type": "code",
   "execution_count": 31,
   "id": "4d9576f0",
   "metadata": {},
   "outputs": [
    {
     "data": {
      "text/plain": [
       "\n",
       "\tPearson's product-moment correlation\n",
       "\n",
       "data:  x and y\n",
       "t = -Inf, df = 2, p-value < 2.2e-16\n",
       "alternative hypothesis: true correlation is not equal to 0\n",
       "95 percent confidence interval:\n",
       " -1 -1\n",
       "sample estimates:\n",
       "cor \n",
       " -1 \n"
      ]
     },
     "metadata": {},
     "output_type": "display_data"
    }
   ],
   "source": [
    "#correlation\n",
    "x=c(4,8,12,16)\n",
    "y=c(5,4,3,2)\n",
    "cor.test(x,y,method='pearson') # by default pearson"
   ]
  },
  {
   "cell_type": "code",
   "execution_count": 32,
   "id": "e018632f",
   "metadata": {},
   "outputs": [
    {
     "data": {
      "text/plain": [
       "\n",
       "\tPearson's product-moment correlation\n",
       "\n",
       "data:  x and y\n",
       "t = -Inf, df = 2, p-value < 2.2e-16\n",
       "alternative hypothesis: true correlation is not equal to 0\n",
       "95 percent confidence interval:\n",
       " -1 -1\n",
       "sample estimates:\n",
       "cor \n",
       " -1 \n"
      ]
     },
     "metadata": {},
     "output_type": "display_data"
    }
   ],
   "source": [
    "#correlation\n",
    "cor.test(x,y) "
   ]
  },
  {
   "cell_type": "code",
   "execution_count": 33,
   "id": "1026c2e5",
   "metadata": {},
   "outputs": [
    {
     "data": {
      "text/plain": [
       "\n",
       "\tPearson's product-moment correlation\n",
       "\n",
       "data:  x and y\n",
       "t = -Inf, df = 2, p-value < 2.2e-16\n",
       "alternative hypothesis: true correlation is not equal to 0\n",
       "95 percent confidence interval:\n",
       " -1 -1\n",
       "sample estimates:\n",
       "cor \n",
       " -1 \n"
      ]
     },
     "metadata": {},
     "output_type": "display_data"
    }
   ],
   "source": [
    "a=cor.test(x,y)  # the  correlation formula \n",
    "a"
   ]
  },
  {
   "cell_type": "code",
   "execution_count": 34,
   "id": "ffa9990c",
   "metadata": {},
   "outputs": [
    {
     "name": "stdout",
     "output_type": "stream",
     "text": [
      "[1] \"negative\"\n"
     ]
    }
   ],
   "source": [
    "if(a$estimate==1){                            # a$estimate take the correlation value alone(answer in the correlation formula)\n",
    "    print(\"strong positive\")\n",
    "}else if(a$estimate==-1){\n",
    "        print(\"negative\")\n",
    "}else{\n",
    "        print(\"no relation\")\n",
    "    }\n"
   ]
  },
  {
   "cell_type": "code",
   "execution_count": 35,
   "id": "995d89dd",
   "metadata": {},
   "outputs": [
    {
     "data": {
      "text/plain": [
       "\n",
       "\tKendall's rank correlation tau\n",
       "\n",
       "data:  x and y\n",
       "T = 0, p-value = 0.08333\n",
       "alternative hypothesis: true tau is not equal to 0\n",
       "sample estimates:\n",
       "tau \n",
       " -1 \n"
      ]
     },
     "metadata": {},
     "output_type": "display_data"
    }
   ],
   "source": [
    "#correlation\n",
    "x=c(4,8,12,16)\n",
    "y=c(5,4,3,2)\n",
    "cor.test(x,y,method='kendal') # by default pearson"
   ]
  },
  {
   "cell_type": "code",
   "execution_count": 36,
   "id": "ac7ad469",
   "metadata": {},
   "outputs": [],
   "source": [
    "b=cor.test(x,y)"
   ]
  },
  {
   "cell_type": "code",
   "execution_count": 37,
   "id": "15545491",
   "metadata": {},
   "outputs": [
    {
     "data": {
      "text/plain": [
       "\n",
       "\tPearson's product-moment correlation\n",
       "\n",
       "data:  x and y\n",
       "t = -Inf, df = 2, p-value < 2.2e-16\n",
       "alternative hypothesis: true correlation is not equal to 0\n",
       "95 percent confidence interval:\n",
       " -1 -1\n",
       "sample estimates:\n",
       "cor \n",
       " -1 \n"
      ]
     },
     "metadata": {},
     "output_type": "display_data"
    }
   ],
   "source": [
    "b"
   ]
  },
  {
   "cell_type": "code",
   "execution_count": 38,
   "id": "6f330e6c",
   "metadata": {},
   "outputs": [
    {
     "name": "stdout",
     "output_type": "stream",
     "text": [
      "[1] \"assigned rank-negative\"\n"
     ]
    }
   ],
   "source": [
    "if(a$estimate==1){                            # a$estimate take the correlation value alone(answer in the correlation formula)\n",
    "    print(\" assigned rank-strong positive\")\n",
    "}else if(a$estimate==-1){\n",
    "        print(\"assigned rank-negative\")\n",
    "}else{\n",
    "        print(\"assigned rank-no relation\")\n",
    "    }\n"
   ]
  },
  {
   "cell_type": "code",
   "execution_count": 103,
   "id": "09652893",
   "metadata": {},
   "outputs": [
    {
     "name": "stdout",
     "output_type": "stream",
     "text": [
      "[1] \"measure of Tendancy\"\n"
     ]
    },
    {
     "data": {
      "text/html": [
       "<table class=\"dataframe\">\n",
       "<caption>A data.frame: 1 × 3</caption>\n",
       "<thead>\n",
       "\t<tr><th scope=col>Mean</th><th scope=col>Median</th><th scope=col>Mode</th></tr>\n",
       "\t<tr><th scope=col>&lt;dbl&gt;</th><th scope=col>&lt;dbl&gt;</th><th scope=col>&lt;dbl&gt;</th></tr>\n",
       "</thead>\n",
       "<tbody>\n",
       "\t<tr><td>67.375</td><td>64.5</td><td>86</td></tr>\n",
       "</tbody>\n",
       "</table>\n"
      ],
      "text/latex": [
       "A data.frame: 1 × 3\n",
       "\\begin{tabular}{lll}\n",
       " Mean & Median & Mode\\\\\n",
       " <dbl> & <dbl> & <dbl>\\\\\n",
       "\\hline\n",
       "\t 67.375 & 64.5 & 86\\\\\n",
       "\\end{tabular}\n"
      ],
      "text/markdown": [
       "\n",
       "A data.frame: 1 × 3\n",
       "\n",
       "| Mean &lt;dbl&gt; | Median &lt;dbl&gt; | Mode &lt;dbl&gt; |\n",
       "|---|---|---|\n",
       "| 67.375 | 64.5 | 86 |\n",
       "\n"
      ],
      "text/plain": [
       "  Mean   Median Mode\n",
       "1 67.375 64.5   86  "
      ]
     },
     "metadata": {},
     "output_type": "display_data"
    },
    {
     "name": "stdout",
     "output_type": "stream",
     "text": [
      "[1] \"Measure of dispersion or variability\"\n"
     ]
    },
    {
     "data": {
      "text/html": [
       "<table class=\"dataframe\">\n",
       "<caption>A data.frame: 1 × 7</caption>\n",
       "<thead>\n",
       "\t<tr><th></th><th scope=col>Range</th><th scope=col>SD</th><th scope=col>Variance</th><th scope=col>Q1</th><th scope=col>Q2</th><th scope=col>Q3</th><th scope=col>Dispersion</th></tr>\n",
       "\t<tr><th></th><th scope=col>&lt;dbl&gt;</th><th scope=col>&lt;dbl&gt;</th><th scope=col>&lt;dbl&gt;</th><th scope=col>&lt;dbl&gt;</th><th scope=col>&lt;dbl&gt;</th><th scope=col>&lt;dbl&gt;</th><th scope=col>&lt;dbl&gt;</th></tr>\n",
       "</thead>\n",
       "<tbody>\n",
       "\t<tr><th scope=row>DATA SET 1</th><td>51</td><td>18.7307</td><td>350.8393</td><td>52.75</td><td>64.5</td><td>86</td><td>48.6443</td></tr>\n",
       "</tbody>\n",
       "</table>\n"
      ],
      "text/latex": [
       "A data.frame: 1 × 7\n",
       "\\begin{tabular}{r|lllllll}\n",
       "  & Range & SD & Variance & Q1 & Q2 & Q3 & Dispersion\\\\\n",
       "  & <dbl> & <dbl> & <dbl> & <dbl> & <dbl> & <dbl> & <dbl>\\\\\n",
       "\\hline\n",
       "\tDATA SET 1 & 51 & 18.7307 & 350.8393 & 52.75 & 64.5 & 86 & 48.6443\\\\\n",
       "\\end{tabular}\n"
      ],
      "text/markdown": [
       "\n",
       "A data.frame: 1 × 7\n",
       "\n",
       "| <!--/--> | Range &lt;dbl&gt; | SD &lt;dbl&gt; | Variance &lt;dbl&gt; | Q1 &lt;dbl&gt; | Q2 &lt;dbl&gt; | Q3 &lt;dbl&gt; | Dispersion &lt;dbl&gt; |\n",
       "|---|---|---|---|---|---|---|---|\n",
       "| DATA SET 1 | 51 | 18.7307 | 350.8393 | 52.75 | 64.5 | 86 | 48.6443 |\n",
       "\n"
      ],
      "text/plain": [
       "           Range SD      Variance Q1    Q2   Q3 Dispersion\n",
       "DATA SET 1 51    18.7307 350.8393 52.75 64.5 86 48.6443   "
      ]
     },
     "metadata": {},
     "output_type": "display_data"
    }
   ],
   "source": [
    "A=c(41,52,53,64,65,86,86,92)\n",
    "a=sort(A)\n",
    "mode=86\n",
    "df1=data.frame(Mean=mean(a),Median=median(a),Mode=mode)\n",
    "b=quantile(a)\n",
    "df2=data.frame(Range=max(a)-min(a),SD=sd(a),Variance=var(a),Q1=b[2],Q2=b[3],Q3=b[4],Dispersion=mean(a)-sd(a),row.names=\"DATA SET 1\")\n",
    "print(\"measure of Tendancy\")\n",
    "df1\n",
    "print(\"Measure of dispersion or variability\")\n",
    "df2"
   ]
  },
  {
   "cell_type": "code",
   "execution_count": 104,
   "id": "8a471e4c",
   "metadata": {},
   "outputs": [
    {
     "name": "stdout",
     "output_type": "stream",
     "text": [
      "[1] \"measure of Tendancy\"\n"
     ]
    },
    {
     "data": {
      "text/html": [
       "<table class=\"dataframe\">\n",
       "<caption>A data.frame: 1 × 3</caption>\n",
       "<thead>\n",
       "\t<tr><th scope=col>Mean</th><th scope=col>Median</th><th scope=col>Mode</th></tr>\n",
       "\t<tr><th scope=col>&lt;dbl&gt;</th><th scope=col>&lt;dbl&gt;</th><th scope=col>&lt;dbl&gt;</th></tr>\n",
       "</thead>\n",
       "<tbody>\n",
       "\t<tr><td>62.875</td><td>64.5</td><td>86</td></tr>\n",
       "</tbody>\n",
       "</table>\n"
      ],
      "text/latex": [
       "A data.frame: 1 × 3\n",
       "\\begin{tabular}{lll}\n",
       " Mean & Median & Mode\\\\\n",
       " <dbl> & <dbl> & <dbl>\\\\\n",
       "\\hline\n",
       "\t 62.875 & 64.5 & 86\\\\\n",
       "\\end{tabular}\n"
      ],
      "text/markdown": [
       "\n",
       "A data.frame: 1 × 3\n",
       "\n",
       "| Mean &lt;dbl&gt; | Median &lt;dbl&gt; | Mode &lt;dbl&gt; |\n",
       "|---|---|---|\n",
       "| 62.875 | 64.5 | 86 |\n",
       "\n"
      ],
      "text/plain": [
       "  Mean   Median Mode\n",
       "1 62.875 64.5   86  "
      ]
     },
     "metadata": {},
     "output_type": "display_data"
    },
    {
     "name": "stdout",
     "output_type": "stream",
     "text": [
      "[1] \"Measure of dispersion or variability\"\n"
     ]
    },
    {
     "data": {
      "text/html": [
       "<table class=\"dataframe\">\n",
       "<caption>A data.frame: 1 × 7</caption>\n",
       "<thead>\n",
       "\t<tr><th></th><th scope=col>Range</th><th scope=col>SD</th><th scope=col>Variance</th><th scope=col>Q1</th><th scope=col>Q2</th><th scope=col>Q3</th><th scope=col>Dispersion</th></tr>\n",
       "\t<tr><th></th><th scope=col>&lt;dbl&gt;</th><th scope=col>&lt;dbl&gt;</th><th scope=col>&lt;dbl&gt;</th><th scope=col>&lt;dbl&gt;</th><th scope=col>&lt;dbl&gt;</th><th scope=col>&lt;dbl&gt;</th><th scope=col>&lt;dbl&gt;</th></tr>\n",
       "</thead>\n",
       "<tbody>\n",
       "\t<tr><th scope=row>DATA SET 2</th><td>87</td><td>28.00223</td><td>784.125</td><td>52.75</td><td>64.5</td><td>86</td><td>34.87277</td></tr>\n",
       "</tbody>\n",
       "</table>\n"
      ],
      "text/latex": [
       "A data.frame: 1 × 7\n",
       "\\begin{tabular}{r|lllllll}\n",
       "  & Range & SD & Variance & Q1 & Q2 & Q3 & Dispersion\\\\\n",
       "  & <dbl> & <dbl> & <dbl> & <dbl> & <dbl> & <dbl> & <dbl>\\\\\n",
       "\\hline\n",
       "\tDATA SET 2 & 87 & 28.00223 & 784.125 & 52.75 & 64.5 & 86 & 34.87277\\\\\n",
       "\\end{tabular}\n"
      ],
      "text/markdown": [
       "\n",
       "A data.frame: 1 × 7\n",
       "\n",
       "| <!--/--> | Range &lt;dbl&gt; | SD &lt;dbl&gt; | Variance &lt;dbl&gt; | Q1 &lt;dbl&gt; | Q2 &lt;dbl&gt; | Q3 &lt;dbl&gt; | Dispersion &lt;dbl&gt; |\n",
       "|---|---|---|---|---|---|---|---|\n",
       "| DATA SET 2 | 87 | 28.00223 | 784.125 | 52.75 | 64.5 | 86 | 34.87277 |\n",
       "\n"
      ],
      "text/plain": [
       "           Range SD       Variance Q1    Q2   Q3 Dispersion\n",
       "DATA SET 2 87    28.00223 784.125  52.75 64.5 86 34.87277  "
      ]
     },
     "metadata": {},
     "output_type": "display_data"
    }
   ],
   "source": [
    "A=c(5,52,53,64,65,86,86,92)\n",
    "a=sort(A)\n",
    "mode=86\n",
    "df1=data.frame(Mean=mean(a),Median=median(a),Mode=mode)\n",
    "b=quantile(a)\n",
    "df3=data.frame(Range=max(a)-min(a),SD=sd(a),Variance=var(a),Q1=b[2],Q2=b[3],Q3=b[4],Dispersion=mean(a)-sd(a),row.names=\"DATA SET 2\")\n",
    "print(\"measure of Tendancy\")\n",
    "df1\n",
    "print(\"Measure of dispersion or variability\")\n",
    "df3"
   ]
  },
  {
   "cell_type": "code",
   "execution_count": 108,
   "id": "78f7fd3a",
   "metadata": {},
   "outputs": [
    {
     "data": {
      "text/html": [
       "<table class=\"dataframe\">\n",
       "<caption>A data.frame: 2 × 7</caption>\n",
       "<thead>\n",
       "\t<tr><th></th><th scope=col>Range</th><th scope=col>SD</th><th scope=col>Variance</th><th scope=col>Q1</th><th scope=col>Q2</th><th scope=col>Q3</th><th scope=col>Dispersion</th></tr>\n",
       "\t<tr><th></th><th scope=col>&lt;dbl&gt;</th><th scope=col>&lt;dbl&gt;</th><th scope=col>&lt;dbl&gt;</th><th scope=col>&lt;dbl&gt;</th><th scope=col>&lt;dbl&gt;</th><th scope=col>&lt;dbl&gt;</th><th scope=col>&lt;dbl&gt;</th></tr>\n",
       "</thead>\n",
       "<tbody>\n",
       "\t<tr><th scope=row>DATA SET 1</th><td>51</td><td>18.73070</td><td>350.8393</td><td>52.75</td><td>64.5</td><td>86</td><td>48.64430</td></tr>\n",
       "\t<tr><th scope=row>DATA SET 2</th><td>87</td><td>28.00223</td><td>784.1250</td><td>52.75</td><td>64.5</td><td>86</td><td>34.87277</td></tr>\n",
       "</tbody>\n",
       "</table>\n"
      ],
      "text/latex": [
       "A data.frame: 2 × 7\n",
       "\\begin{tabular}{r|lllllll}\n",
       "  & Range & SD & Variance & Q1 & Q2 & Q3 & Dispersion\\\\\n",
       "  & <dbl> & <dbl> & <dbl> & <dbl> & <dbl> & <dbl> & <dbl>\\\\\n",
       "\\hline\n",
       "\tDATA SET 1 & 51 & 18.73070 & 350.8393 & 52.75 & 64.5 & 86 & 48.64430\\\\\n",
       "\tDATA SET 2 & 87 & 28.00223 & 784.1250 & 52.75 & 64.5 & 86 & 34.87277\\\\\n",
       "\\end{tabular}\n"
      ],
      "text/markdown": [
       "\n",
       "A data.frame: 2 × 7\n",
       "\n",
       "| <!--/--> | Range &lt;dbl&gt; | SD &lt;dbl&gt; | Variance &lt;dbl&gt; | Q1 &lt;dbl&gt; | Q2 &lt;dbl&gt; | Q3 &lt;dbl&gt; | Dispersion &lt;dbl&gt; |\n",
       "|---|---|---|---|---|---|---|---|\n",
       "| DATA SET 1 | 51 | 18.73070 | 350.8393 | 52.75 | 64.5 | 86 | 48.64430 |\n",
       "| DATA SET 2 | 87 | 28.00223 | 784.1250 | 52.75 | 64.5 | 86 | 34.87277 |\n",
       "\n"
      ],
      "text/plain": [
       "           Range SD       Variance Q1    Q2   Q3 Dispersion\n",
       "DATA SET 1 51    18.73070 350.8393 52.75 64.5 86 48.64430  \n",
       "DATA SET 2 87    28.00223 784.1250 52.75 64.5 86 34.87277  "
      ]
     },
     "metadata": {},
     "output_type": "display_data"
    }
   ],
   "source": [
    "df=rbind(df2,df3)\n",
    "df"
   ]
  },
  {
   "cell_type": "code",
   "execution_count": 109,
   "id": "a07a665e",
   "metadata": {},
   "outputs": [
    {
     "name": "stdout",
     "output_type": "stream",
     "text": [
      "package 'e1071' successfully unpacked and MD5 sums checked\n",
      "\n",
      "The downloaded binary packages are in\n",
      "\tC:\\conda_tmp\\RtmpSsfP9J\\downloaded_packages\n"
     ]
    }
   ],
   "source": [
    "# visualization-symmetrical distribution (bell shape or u shaped)\n",
    "install.packages(\"e1071\")"
   ]
  },
  {
   "cell_type": "code",
   "execution_count": 110,
   "id": "0b855e35",
   "metadata": {},
   "outputs": [],
   "source": [
    "library(e1071)"
   ]
  },
  {
   "cell_type": "code",
   "execution_count": 111,
   "id": "a017c3e1",
   "metadata": {},
   "outputs": [],
   "source": [
    "a=c(41,52,53,64,65,86,86,92)"
   ]
  },
  {
   "cell_type": "code",
   "execution_count": 112,
   "id": "c642ae36",
   "metadata": {},
   "outputs": [
    {
     "data": {
      "text/html": [
       "0.0542062901835262"
      ],
      "text/latex": [
       "0.0542062901835262"
      ],
      "text/markdown": [
       "0.0542062901835262"
      ],
      "text/plain": [
       "[1] 0.05420629"
      ]
     },
     "metadata": {},
     "output_type": "display_data"
    }
   ],
   "source": [
    "skewness(a)"
   ]
  },
  {
   "cell_type": "code",
   "execution_count": 115,
   "id": "7eb4aa1e",
   "metadata": {},
   "outputs": [
    {
     "data": {
      "image/png": "[encoded data removed]",
      "text/plain": [
       "Plot with title \"density.default(x = a)\""
      ]
     },
     "metadata": {
      "image/png": {
       "height": 420,
       "width": 420
      }
     },
     "output_type": "display_data"
    }
   ],
   "source": [
    "plot(density(a))"
   ]
  },
  {
   "cell_type": "code",
   "execution_count": 116,
   "id": "2bdda405",
   "metadata": {},
   "outputs": [
    {
     "data": {
      "text/html": [
       "0.921752368356831"
      ],
      "text/latex": [
       "0.921752368356831"
      ],
      "text/markdown": [
       "0.921752368356831"
      ],
      "text/plain": [
       "[1] 0.9217524"
      ]
     },
     "metadata": {},
     "output_type": "display_data"
    },
    {
     "data": {
      "image/png": "[encoded data removed]",
      "text/plain": [
       "Plot with title \"density.default(x = a)\""
      ]
     },
     "metadata": {
      "image/png": {
       "height": 420,
       "width": 420
      }
     },
     "output_type": "display_data"
    }
   ],
   "source": [
    "data(mtcars)\n",
    "a=table(mtcars$mpg)\n",
    "skewness(a)\n",
    "plot(density(a))"
   ]
  },
  {
   "cell_type": "code",
   "execution_count": 117,
   "id": "b61b2c69",
   "metadata": {},
   "outputs": [
    {
     "data": {
      "text/html": [
       "-0.0940607022817788"
      ],
      "text/latex": [
       "-0.0940607022817788"
      ],
      "text/markdown": [
       "-0.0940607022817788"
      ],
      "text/plain": [
       "[1] -0.0940607"
      ]
     },
     "metadata": {},
     "output_type": "display_data"
    },
    {
     "data": {
      "image/png": "[encoded data removed]",
      "text/plain": [
       "Plot with title \"density.default(x = a)\""
      ]
     },
     "metadata": {
      "image/png": {
       "height": 420,
       "width": 420
      }
     },
     "output_type": "display_data"
    }
   ],
   "source": [
    "data(mtcars)\n",
    "a=table(mtcars$cyl)\n",
    "skewness(a)\n",
    "plot(density(a))"
   ]
  },
  {
   "cell_type": "code",
   "execution_count": 1,
   "id": "38c9d37f",
   "metadata": {},
   "outputs": [
    {
     "name": "stdout",
     "output_type": "stream",
     "text": [
      "[1] \"measure of Tendancy\"\n"
     ]
    },
    {
     "data": {
      "text/html": [
       "<table class=\"dataframe\">\n",
       "<caption>A data.frame: 1 × 2</caption>\n",
       "<thead>\n",
       "\t<tr><th scope=col>Mean</th><th scope=col>Median</th></tr>\n",
       "\t<tr><th scope=col>&lt;dbl&gt;</th><th scope=col>&lt;dbl&gt;</th></tr>\n",
       "</thead>\n",
       "<tbody>\n",
       "\t<tr><td>8</td><td>8</td></tr>\n",
       "</tbody>\n",
       "</table>\n"
      ],
      "text/latex": [
       "A data.frame: 1 × 2\n",
       "\\begin{tabular}{ll}\n",
       " Mean & Median\\\\\n",
       " <dbl> & <dbl>\\\\\n",
       "\\hline\n",
       "\t 8 & 8\\\\\n",
       "\\end{tabular}\n"
      ],
      "text/markdown": [
       "\n",
       "A data.frame: 1 × 2\n",
       "\n",
       "| Mean &lt;dbl&gt; | Median &lt;dbl&gt; |\n",
       "|---|---|\n",
       "| 8 | 8 |\n",
       "\n"
      ],
      "text/plain": [
       "  Mean Median\n",
       "1 8    8     "
      ]
     },
     "metadata": {},
     "output_type": "display_data"
    },
    {
     "name": "stdout",
     "output_type": "stream",
     "text": [
      "[1] \"Measure of dispersion or variability\"\n"
     ]
    },
    {
     "data": {
      "text/html": [
       "<table class=\"dataframe\">\n",
       "<caption>A data.frame: 1 × 7</caption>\n",
       "<thead>\n",
       "\t<tr><th></th><th scope=col>Range</th><th scope=col>SD</th><th scope=col>Variance</th><th scope=col>Q1</th><th scope=col>Q2</th><th scope=col>Q3</th><th scope=col>Dispersion</th></tr>\n",
       "\t<tr><th></th><th scope=col>&lt;dbl&gt;</th><th scope=col>&lt;dbl&gt;</th><th scope=col>&lt;dbl&gt;</th><th scope=col>&lt;dbl&gt;</th><th scope=col>&lt;dbl&gt;</th><th scope=col>&lt;dbl&gt;</th><th scope=col>&lt;dbl&gt;</th></tr>\n",
       "</thead>\n",
       "<tbody>\n",
       "\t<tr><th scope=row>DATA SET 2</th><td>4</td><td>1.581139</td><td>2.5</td><td>7</td><td>8</td><td>9</td><td>6.418861</td></tr>\n",
       "</tbody>\n",
       "</table>\n"
      ],
      "text/latex": [
       "A data.frame: 1 × 7\n",
       "\\begin{tabular}{r|lllllll}\n",
       "  & Range & SD & Variance & Q1 & Q2 & Q3 & Dispersion\\\\\n",
       "  & <dbl> & <dbl> & <dbl> & <dbl> & <dbl> & <dbl> & <dbl>\\\\\n",
       "\\hline\n",
       "\tDATA SET 2 & 4 & 1.581139 & 2.5 & 7 & 8 & 9 & 6.418861\\\\\n",
       "\\end{tabular}\n"
      ],
      "text/markdown": [
       "\n",
       "A data.frame: 1 × 7\n",
       "\n",
       "| <!--/--> | Range &lt;dbl&gt; | SD &lt;dbl&gt; | Variance &lt;dbl&gt; | Q1 &lt;dbl&gt; | Q2 &lt;dbl&gt; | Q3 &lt;dbl&gt; | Dispersion &lt;dbl&gt; |\n",
       "|---|---|---|---|---|---|---|---|\n",
       "| DATA SET 2 | 4 | 1.581139 | 2.5 | 7 | 8 | 9 | 6.418861 |\n",
       "\n"
      ],
      "text/plain": [
       "           Range SD       Variance Q1 Q2 Q3 Dispersion\n",
       "DATA SET 2 4     1.581139 2.5      7  8  9  6.418861  "
      ]
     },
     "metadata": {},
     "output_type": "display_data"
    }
   ],
   "source": [
    "# sample set \n",
    "A=c(6,7,8,9,10)\n",
    "a=sort(A)\n",
    "df1=data.frame(Mean=mean(a),Median=median(a))\n",
    "b=quantile(a)\n",
    "df3=data.frame(Range=max(a)-min(a),SD=sd(a),Variance=var(a),Q1=b[2],Q2=b[3],Q3=b[4],Dispersion=mean(a)-sd(a),row.names=\"DATA SET 2\")\n",
    "print(\"measure of Tendancy\")\n",
    "df1\n",
    "print(\"Measure of dispersion or variability\")\n",
    "df3"
   ]
  },
  {
   "cell_type": "code",
   "execution_count": null,
   "id": "2f120581",
   "metadata": {},
   "outputs": [],
   "source": []
  }
 ],
 "metadata": {
  "kernelspec": {
   "display_name": "R",
   "language": "R",
   "name": "ir"
  },
  "language_info": {
   "codemirror_mode": "r",
   "file_extension": ".r",
   "mimetype": "text/x-r-source",
   "name": "R",
   "pygments_lexer": "r",
   "version": "4.1.3"
  }
 },
 "nbformat": 4,
 "nbformat_minor": 5
}
