{
 "cells": [
  {
   "cell_type": "code",
   "execution_count": 1,
   "id": "a54c2348",
   "metadata": {},
   "outputs": [
    {
     "name": "stdout",
     "output_type": "stream",
     "text": [
      "[1] \"harish\"\n",
      "[1] \"harish ak\"\n"
     ]
    }
   ],
   "source": [
    "#DAY 1\n",
    "\n",
    "name=\"harish\"\n",
    "firstname.lastname=\"harish ak\"\n",
    "print(name)\n",
    "print(firstname.lastname)"
   ]
  },
  {
   "cell_type": "code",
   "execution_count": 2,
   "id": "1758ce62",
   "metadata": {},
   "outputs": [
    {
     "name": "stdout",
     "output_type": "stream",
     "text": [
      "[1] \"numeric\"\n",
      "[1] \"integer\"\n"
     ]
    }
   ],
   "source": [
    "score=100 \n",
    "print(class(score))      #by default it consider as numeric\n",
    "score1=100L# L means pure integer\n",
    "print(class(score1))"
   ]
  },
  {
   "cell_type": "code",
   "execution_count": 4,
   "id": "7e655dc7",
   "metadata": {},
   "outputs": [
    {
     "name": "stdout",
     "output_type": "stream",
     "text": [
      "[1] \"harish\"\n"
     ]
    }
   ],
   "source": [
    "Dept=\"AIML\"\n",
    "print(name) # paste used to print two statements"
   ]
  },
  {
   "cell_type": "code",
   "execution_count": 2,
   "id": "ef822029",
   "metadata": {},
   "outputs": [
    {
     "name": "stdout",
     "output_type": "stream",
     "text": [
      "Enter the Department Nuber:123\n"
     ]
    }
   ],
   "source": [
    "d=readline(\"Enter the Department Nuber:\") # readline used to get input"
   ]
  },
  {
   "cell_type": "code",
   "execution_count": 7,
   "id": "f8eb6b90",
   "metadata": {},
   "outputs": [
    {
     "name": "stdout",
     "output_type": "stream",
     "text": [
      "[1] \"character\"\n",
      "[1] \"integer\"\n"
     ]
    }
   ],
   "source": [
    "print(class(d))  # by default input always consider as character\n",
    "d=as.integer(d)   #to convert as integer\n",
    "print(class(d))"
   ]
  },
  {
   "cell_type": "code",
   "execution_count": 8,
   "id": "dcf6f5d9",
   "metadata": {},
   "outputs": [
    {
     "name": "stdout",
     "output_type": "stream",
     "text": [
      "Enter radius of donut in cm's:3\n"
     ]
    },
    {
     "data": {
      "text/html": [
       "'Area of donut= 1597.2552'"
      ],
      "text/latex": [
       "'Area of donut= 1597.2552'"
      ],
      "text/markdown": [
       "'Area of donut= 1597.2552'"
      ],
      "text/plain": [
       "[1] \"Area of donut= 1597.2552\""
      ]
     },
     "metadata": {},
     "output_type": "display_data"
    }
   ],
   "source": [
    "pi=3.14\n",
    "r=readline(\"Enter radius of donut in cm's:\")\n",
    "r=as.numeric(r)\n",
    "area=(2*pi*r*r*pi*r*r)   # 2 pi r square * pi r square\n",
    "paste(\"Area of donut=\",area)"
   ]
  },
  {
   "cell_type": "code",
   "execution_count": 11,
   "id": "4e5a27a1",
   "metadata": {},
   "outputs": [
    {
     "data": {
      "text/html": [
       "'Maximum= 20'"
      ],
      "text/latex": [
       "'Maximum= 20'"
      ],
      "text/markdown": [
       "'Maximum= 20'"
      ],
      "text/plain": [
       "[1] \"Maximum= 20\""
      ]
     },
     "metadata": {},
     "output_type": "display_data"
    },
    {
     "data": {
      "text/html": [
       "'Minimum 10'"
      ],
      "text/latex": [
       "'Minimum 10'"
      ],
      "text/markdown": [
       "'Minimum 10'"
      ],
      "text/plain": [
       "[1] \"Minimum 10\""
      ]
     },
     "metadata": {},
     "output_type": "display_data"
    },
    {
     "data": {
      "text/html": [
       "'Sqrt= 3.16227766016838'"
      ],
      "text/latex": [
       "'Sqrt= 3.16227766016838'"
      ],
      "text/markdown": [
       "'Sqrt= 3.16227766016838'"
      ],
      "text/plain": [
       "[1] \"Sqrt= 3.16227766016838\""
      ]
     },
     "metadata": {},
     "output_type": "display_data"
    },
    {
     "data": {
      "text/html": [
       "'Ceiling= 11'"
      ],
      "text/latex": [
       "'Ceiling= 11'"
      ],
      "text/markdown": [
       "'Ceiling= 11'"
      ],
      "text/plain": [
       "[1] \"Ceiling= 11\""
      ]
     },
     "metadata": {},
     "output_type": "display_data"
    },
    {
     "data": {
      "text/html": [
       "'Floor= 10'"
      ],
      "text/latex": [
       "'Floor= 10'"
      ],
      "text/markdown": [
       "'Floor= 10'"
      ],
      "text/plain": [
       "[1] \"Floor= 10\""
      ]
     },
     "metadata": {},
     "output_type": "display_data"
    }
   ],
   "source": [
    "a=10\n",
    "b=20\n",
    "\n",
    "paste(\"Maximum=\",max(a,b))\n",
    "paste(\"Minimum\",min(a,b))\n",
    "\n",
    "paste(\"Sqrt=\",sqrt(a))\n",
    "\n",
    "paste(\"Ceiling=\",ceiling(10.2))   # ceiling round up to next value\n",
    "\n",
    "paste(\"Floor=\",floor(10.2)) # floor round down to previous value"
   ]
  },
  {
   "cell_type": "code",
   "execution_count": 6,
   "id": "b4c42905",
   "metadata": {},
   "outputs": [
    {
     "data": {
      "text/html": [
       "'numeric'"
      ],
      "text/latex": [
       "'numeric'"
      ],
      "text/markdown": [
       "'numeric'"
      ],
      "text/plain": [
       "[1] \"numeric\""
      ]
     },
     "metadata": {},
     "output_type": "display_data"
    },
    {
     "data": {
      "text/html": [
       "99"
      ],
      "text/latex": [
       "99"
      ],
      "text/markdown": [
       "99"
      ],
      "text/plain": [
       "[1] 99"
      ]
     },
     "metadata": {},
     "output_type": "display_data"
    },
    {
     "data": {
      "text/html": [
       "<style>\n",
       ".list-inline {list-style: none; margin:0; padding: 0}\n",
       ".list-inline>li {display: inline-block}\n",
       ".list-inline>li:not(:last-child)::after {content: \"\\00b7\"; padding: 0 .5ex}\n",
       "</style>\n",
       "<ol class=list-inline><li>22</li><li>3</li></ol>\n"
      ],
      "text/latex": [
       "\\begin{enumerate*}\n",
       "\\item 22\n",
       "\\item 3\n",
       "\\end{enumerate*}\n"
      ],
      "text/markdown": [
       "1. 22\n",
       "2. 3\n",
       "\n",
       "\n"
      ],
      "text/plain": [
       "[1] 22  3"
      ]
     },
     "metadata": {},
     "output_type": "display_data"
    }
   ],
   "source": [
    "a=c(1,22,3,4,5,6,7,8,99,10)\n",
    "class(a)\n",
    "#index starts with 1\n",
    "a[9]\n",
    "#To print from one index to another\n",
    "a[2:3]\n",
    "a1=c(\"Suriya\",\"Harish\",\"Balji\",\"rohith\")\n",
    "a2=c(\"True\",\"False\")"
   ]
  },
  {
   "cell_type": "code",
   "execution_count": 7,
   "id": "f332e49b",
   "metadata": {},
   "outputs": [
    {
     "data": {
      "text/html": [
       "<ol>\n",
       "\t<li><style>\n",
       ".list-inline {list-style: none; margin:0; padding: 0}\n",
       ".list-inline>li {display: inline-block}\n",
       ".list-inline>li:not(:last-child)::after {content: \"\\00b7\"; padding: 0 .5ex}\n",
       "</style>\n",
       "<ol class=list-inline><li>1</li><li>22</li><li>3</li><li>4</li><li>5</li><li>6</li><li>7</li><li>8</li><li>99</li><li>10</li></ol>\n",
       "</li>\n",
       "\t<li><style>\n",
       ".list-inline {list-style: none; margin:0; padding: 0}\n",
       ".list-inline>li {display: inline-block}\n",
       ".list-inline>li:not(:last-child)::after {content: \"\\00b7\"; padding: 0 .5ex}\n",
       "</style>\n",
       "<ol class=list-inline><li>'Suriya'</li><li>'Harish'</li><li>'Balji'</li><li>'rohith'</li></ol>\n",
       "</li>\n",
       "\t<li><style>\n",
       ".list-inline {list-style: none; margin:0; padding: 0}\n",
       ".list-inline>li {display: inline-block}\n",
       ".list-inline>li:not(:last-child)::after {content: \"\\00b7\"; padding: 0 .5ex}\n",
       "</style>\n",
       "<ol class=list-inline><li>'True'</li><li>'False'</li></ol>\n",
       "</li>\n",
       "</ol>\n"
      ],
      "text/latex": [
       "\\begin{enumerate}\n",
       "\\item \\begin{enumerate*}\n",
       "\\item 1\n",
       "\\item 22\n",
       "\\item 3\n",
       "\\item 4\n",
       "\\item 5\n",
       "\\item 6\n",
       "\\item 7\n",
       "\\item 8\n",
       "\\item 99\n",
       "\\item 10\n",
       "\\end{enumerate*}\n",
       "\n",
       "\\item \\begin{enumerate*}\n",
       "\\item 'Suriya'\n",
       "\\item 'Harish'\n",
       "\\item 'Balji'\n",
       "\\item 'rohith'\n",
       "\\end{enumerate*}\n",
       "\n",
       "\\item \\begin{enumerate*}\n",
       "\\item 'True'\n",
       "\\item 'False'\n",
       "\\end{enumerate*}\n",
       "\n",
       "\\end{enumerate}\n"
      ],
      "text/markdown": [
       "1. 1. 1\n",
       "2. 22\n",
       "3. 3\n",
       "4. 4\n",
       "5. 5\n",
       "6. 6\n",
       "7. 7\n",
       "8. 8\n",
       "9. 99\n",
       "10. 10\n",
       "\n",
       "\n",
       "\n",
       "2. 1. 'Suriya'\n",
       "2. 'Harish'\n",
       "3. 'Balji'\n",
       "4. 'rohith'\n",
       "\n",
       "\n",
       "\n",
       "3. 1. 'True'\n",
       "2. 'False'\n",
       "\n",
       "\n",
       "\n",
       "\n",
       "\n"
      ],
      "text/plain": [
       "[[1]]\n",
       " [1]  1 22  3  4  5  6  7  8 99 10\n",
       "\n",
       "[[2]]\n",
       "[1] \"Suriya\" \"Harish\" \"Balji\"  \"rohith\"\n",
       "\n",
       "[[3]]\n",
       "[1] \"True\"  \"False\"\n"
      ]
     },
     "metadata": {},
     "output_type": "display_data"
    }
   ],
   "source": [
    "#LIST\n",
    "\n",
    "l=list(a,a1,a2)\n",
    "l"
   ]
  },
  {
   "cell_type": "code",
   "execution_count": 8,
   "id": "3bed329b",
   "metadata": {},
   "outputs": [
    {
     "data": {
      "text/html": [
       "<style>\n",
       ".list-inline {list-style: none; margin:0; padding: 0}\n",
       ".list-inline>li {display: inline-block}\n",
       ".list-inline>li:not(:last-child)::after {content: \"\\00b7\"; padding: 0 .5ex}\n",
       "</style>\n",
       "<ol class=list-inline><li>100</li><li>200</li><li>300</li><li>400</li><li>500</li></ol>\n"
      ],
      "text/latex": [
       "\\begin{enumerate*}\n",
       "\\item 100\n",
       "\\item 200\n",
       "\\item 300\n",
       "\\item 400\n",
       "\\item 500\n",
       "\\end{enumerate*}\n"
      ],
      "text/markdown": [
       "1. 100\n",
       "2. 200\n",
       "3. 300\n",
       "4. 400\n",
       "5. 500\n",
       "\n",
       "\n"
      ],
      "text/plain": [
       "[1] 100 200 300 400 500"
      ]
     },
     "metadata": {},
     "output_type": "display_data"
    },
    {
     "data": {
      "text/html": [
       "<style>\n",
       ".list-inline {list-style: none; margin:0; padding: 0}\n",
       ".list-inline>li {display: inline-block}\n",
       ".list-inline>li:not(:last-child)::after {content: \"\\00b7\"; padding: 0 .5ex}\n",
       "</style>\n",
       "<ol class=list-inline><li>6</li><li>7</li><li>8</li><li>10</li><li>99</li><li>100</li><li>200</li><li>300</li><li>400</li><li>500</li></ol>\n"
      ],
      "text/latex": [
       "\\begin{enumerate*}\n",
       "\\item 6\n",
       "\\item 7\n",
       "\\item 8\n",
       "\\item 10\n",
       "\\item 99\n",
       "\\item 100\n",
       "\\item 200\n",
       "\\item 300\n",
       "\\item 400\n",
       "\\item 500\n",
       "\\end{enumerate*}\n"
      ],
      "text/markdown": [
       "1. 6\n",
       "2. 7\n",
       "3. 8\n",
       "4. 10\n",
       "5. 99\n",
       "6. 100\n",
       "7. 200\n",
       "8. 300\n",
       "9. 400\n",
       "10. 500\n",
       "\n",
       "\n"
      ],
      "text/plain": [
       " [1]   6   7   8  10  99 100 200 300 400 500"
      ]
     },
     "metadata": {},
     "output_type": "display_data"
    },
    {
     "data": {
      "text/html": [
       "<style>\n",
       ".list-inline {list-style: none; margin:0; padding: 0}\n",
       ".list-inline>li {display: inline-block}\n",
       ".list-inline>li:not(:last-child)::after {content: \"\\00b7\"; padding: 0 .5ex}\n",
       "</style>\n",
       "<ol class=list-inline><li>1</li><li>1</li><li>2</li><li>2</li><li>3</li><li>3</li></ol>\n"
      ],
      "text/latex": [
       "\\begin{enumerate*}\n",
       "\\item 1\n",
       "\\item 1\n",
       "\\item 2\n",
       "\\item 2\n",
       "\\item 3\n",
       "\\item 3\n",
       "\\end{enumerate*}\n"
      ],
      "text/markdown": [
       "1. 1\n",
       "2. 1\n",
       "3. 2\n",
       "4. 2\n",
       "5. 3\n",
       "6. 3\n",
       "\n",
       "\n"
      ],
      "text/plain": [
       "[1] 1 1 2 2 3 3"
      ]
     },
     "metadata": {},
     "output_type": "display_data"
    },
    {
     "data": {
      "text/html": [
       "<style>\n",
       ".list-inline {list-style: none; margin:0; padding: 0}\n",
       ".list-inline>li {display: inline-block}\n",
       ".list-inline>li:not(:last-child)::after {content: \"\\00b7\"; padding: 0 .5ex}\n",
       "</style>\n",
       "<ol class=list-inline><li>1</li><li>2</li><li>2</li><li>3</li><li>3</li><li>3</li><li>4</li><li>4</li><li>4</li><li>4</li><li>4</li><li>4</li><li>4</li><li>4</li><li>4</li></ol>\n"
      ],
      "text/latex": [
       "\\begin{enumerate*}\n",
       "\\item 1\n",
       "\\item 2\n",
       "\\item 2\n",
       "\\item 3\n",
       "\\item 3\n",
       "\\item 3\n",
       "\\item 4\n",
       "\\item 4\n",
       "\\item 4\n",
       "\\item 4\n",
       "\\item 4\n",
       "\\item 4\n",
       "\\item 4\n",
       "\\item 4\n",
       "\\item 4\n",
       "\\end{enumerate*}\n"
      ],
      "text/markdown": [
       "1. 1\n",
       "2. 2\n",
       "3. 2\n",
       "4. 3\n",
       "5. 3\n",
       "6. 3\n",
       "7. 4\n",
       "8. 4\n",
       "9. 4\n",
       "10. 4\n",
       "11. 4\n",
       "12. 4\n",
       "13. 4\n",
       "14. 4\n",
       "15. 4\n",
       "\n",
       "\n"
      ],
      "text/plain": [
       " [1] 1 2 2 3 3 3 4 4 4 4 4 4 4 4 4"
      ]
     },
     "metadata": {},
     "output_type": "display_data"
    },
    {
     "data": {
      "text/html": [
       "<style>\n",
       ".list-inline {list-style: none; margin:0; padding: 0}\n",
       ".list-inline>li {display: inline-block}\n",
       ".list-inline>li:not(:last-child)::after {content: \"\\00b7\"; padding: 0 .5ex}\n",
       "</style>\n",
       "<ol class=list-inline><li>1</li><li>2</li><li>3</li><li>1</li><li>2</li><li>3</li><li>1</li><li>2</li><li>3</li></ol>\n"
      ],
      "text/latex": [
       "\\begin{enumerate*}\n",
       "\\item 1\n",
       "\\item 2\n",
       "\\item 3\n",
       "\\item 1\n",
       "\\item 2\n",
       "\\item 3\n",
       "\\item 1\n",
       "\\item 2\n",
       "\\item 3\n",
       "\\end{enumerate*}\n"
      ],
      "text/markdown": [
       "1. 1\n",
       "2. 2\n",
       "3. 3\n",
       "4. 1\n",
       "5. 2\n",
       "6. 3\n",
       "7. 1\n",
       "8. 2\n",
       "9. 3\n",
       "\n",
       "\n"
      ],
      "text/plain": [
       "[1] 1 2 3 1 2 3 1 2 3"
      ]
     },
     "metadata": {},
     "output_type": "display_data"
    }
   ],
   "source": [
    "a[5]=500  #5 to 500\n",
    "a[c(1,2,3,4)]=c(100,200,300,400)\n",
    "#Access more than one element\n",
    "a[c(1,2,3,4,5)]\n",
    "#To sort in ascending order\n",
    "sort(a)\n",
    "a3=rep(c(1,2,3),each=2)#To repeat a vector\n",
    "a4=rep(c(1,2,3,4),times=c(1,2,3,9))#To repeat a vector element desired amt of time\n",
    "a5=rep(c(1,2,3),times=3)  #llike loops\n",
    "a3\n",
    "a4\n",
    "a5"
   ]
  },
  {
   "cell_type": "code",
   "execution_count": null,
   "id": "f765a502",
   "metadata": {},
   "outputs": [],
   "source": []
  }
 ],
 "metadata": {
  "kernelspec": {
   "display_name": "R",
   "language": "R",
   "name": "ir"
  },
  "language_info": {
   "codemirror_mode": "r",
   "file_extension": ".r",
   "mimetype": "text/x-r-source",
   "name": "R",
   "pygments_lexer": "r",
   "version": "4.1.3"
  }
 },
 "nbformat": 4,
 "nbformat_minor": 5
}
