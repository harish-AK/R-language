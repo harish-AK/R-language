{
 "cells": [
  {
   "cell_type": "code",
   "execution_count": 6,
   "id": "acc7db2c",
   "metadata": {},
   "outputs": [
    {
     "data": {
      "image/png": "[encoded data removed]",
      "text/plain": [
       "plot without title"
      ]
     },
     "metadata": {
      "image/png": {
       "height": 420,
       "width": 420
      }
     },
     "output_type": "display_data"
    }
   ],
   "source": [
    "#1.\n",
    "students = c(350,245,210,175,280)\n",
    "transport = c(\"colleg bus\",\"private bus\",\"bicysle\",\"Rickshaw\",\"Onfoot\")\n",
    "pie(students,transport)"
   ]
  },
  {
   "cell_type": "code",
   "execution_count": 11,
   "id": "1e31c9ad",
   "metadata": {},
   "outputs": [],
   "source": [
    "#2\n",
    "totalBill=c(16.99,10.34,21.01,23.68,24.59)\n",
    "tip=c(1.01,1.66,3.50,3.31,3.61)\n",
    "sex=c(\"female\",\"male\",\"male\",\"male\",\"female\")\n",
    "smoker=c(\"no\",\"no\",\"no\",\"no\",\"no\")\n",
    "day=c(\"sun\",\"sun\",\"sun\",\"sun\",\"sun\")\n",
    "time=c(\"dinner\",\"dinner\",\"dinner\",\"dinner\",\"dinner\")\n",
    "size=c(2,3,3,2,4)\n",
    "\n",
    "\n",
    "#barplot(Values, main = \"Total Revenue\", names.arg = months,  xlab = \"Month\", ylab = \"Revenue\", col = colors, density = 10,beside = TRUE)\n",
    "  \n",
    "#legend(\"topleft\", regions, cex = 0.7, fill = colors)"
   ]
  },
  {
   "cell_type": "code",
   "execution_count": 20,
   "id": "494d8f8c",
   "metadata": {},
   "outputs": [
    {
     "data": {
      "image/png": "[encoded data removed]",
      "text/plain": [
       "Plot with title \"total bill vs tip\""
      ]
     },
     "metadata": {
      "image/png": {
       "height": 420,
       "width": 420
      }
     },
     "output_type": "display_data"
    }
   ],
   "source": [
    "plot(x=tip,y=totalBill,xlab=\"tip\",ylab=\"total Bill\",main=\"total bill vs tip\",col=\"green\",pch=15) "
   ]
  },
  {
   "cell_type": "code",
   "execution_count": 23,
   "id": "0f7773dc",
   "metadata": {},
   "outputs": [
    {
     "name": "stdout",
     "output_type": "stream",
     "text": [
      "[1] \"measure of Tendancy\"\n"
     ]
    },
    {
     "data": {
      "text/html": [
       "<table class=\"dataframe\">\n",
       "<caption>A data.frame: 1 × 3</caption>\n",
       "<thead>\n",
       "\t<tr><th scope=col>Mean</th><th scope=col>Median</th><th scope=col>Mode</th></tr>\n",
       "\t<tr><th scope=col>&lt;dbl&gt;</th><th scope=col>&lt;dbl&gt;</th><th scope=col>&lt;dbl&gt;</th></tr>\n",
       "</thead>\n",
       "<tbody>\n",
       "\t<tr><td>77.375</td><td>74.5</td><td>96</td></tr>\n",
       "</tbody>\n",
       "</table>\n"
      ],
      "text/latex": [
       "A data.frame: 1 × 3\n",
       "\\begin{tabular}{lll}\n",
       " Mean & Median & Mode\\\\\n",
       " <dbl> & <dbl> & <dbl>\\\\\n",
       "\\hline\n",
       "\t 77.375 & 74.5 & 96\\\\\n",
       "\\end{tabular}\n"
      ],
      "text/markdown": [
       "\n",
       "A data.frame: 1 × 3\n",
       "\n",
       "| Mean &lt;dbl&gt; | Median &lt;dbl&gt; | Mode &lt;dbl&gt; |\n",
       "|---|---|---|\n",
       "| 77.375 | 74.5 | 96 |\n",
       "\n"
      ],
      "text/plain": [
       "  Mean   Median Mode\n",
       "1 77.375 74.5   96  "
      ]
     },
     "metadata": {},
     "output_type": "display_data"
    },
    {
     "name": "stdout",
     "output_type": "stream",
     "text": [
      "[1] \"Measure of dispersion or variability\"\n"
     ]
    },
    {
     "data": {
      "text/html": [
       "<table class=\"dataframe\">\n",
       "<caption>A data.frame: 1 × 7</caption>\n",
       "<thead>\n",
       "\t<tr><th></th><th scope=col>Range</th><th scope=col>SD</th><th scope=col>Variance</th><th scope=col>Q1</th><th scope=col>Q2</th><th scope=col>Q3</th><th scope=col>Dispersion</th></tr>\n",
       "\t<tr><th></th><th scope=col>&lt;dbl&gt;</th><th scope=col>&lt;dbl&gt;</th><th scope=col>&lt;dbl&gt;</th><th scope=col>&lt;dbl&gt;</th><th scope=col>&lt;dbl&gt;</th><th scope=col>&lt;dbl&gt;</th><th scope=col>&lt;dbl&gt;</th></tr>\n",
       "</thead>\n",
       "<tbody>\n",
       "\t<tr><th scope=row>DATA SET 1</th><td>51</td><td>18.7307</td><td>350.8393</td><td>62.75</td><td>74.5</td><td>96</td><td>58.6443</td></tr>\n",
       "</tbody>\n",
       "</table>\n"
      ],
      "text/latex": [
       "A data.frame: 1 × 7\n",
       "\\begin{tabular}{r|lllllll}\n",
       "  & Range & SD & Variance & Q1 & Q2 & Q3 & Dispersion\\\\\n",
       "  & <dbl> & <dbl> & <dbl> & <dbl> & <dbl> & <dbl> & <dbl>\\\\\n",
       "\\hline\n",
       "\tDATA SET 1 & 51 & 18.7307 & 350.8393 & 62.75 & 74.5 & 96 & 58.6443\\\\\n",
       "\\end{tabular}\n"
      ],
      "text/markdown": [
       "\n",
       "A data.frame: 1 × 7\n",
       "\n",
       "| <!--/--> | Range &lt;dbl&gt; | SD &lt;dbl&gt; | Variance &lt;dbl&gt; | Q1 &lt;dbl&gt; | Q2 &lt;dbl&gt; | Q3 &lt;dbl&gt; | Dispersion &lt;dbl&gt; |\n",
       "|---|---|---|---|---|---|---|---|\n",
       "| DATA SET 1 | 51 | 18.7307 | 350.8393 | 62.75 | 74.5 | 96 | 58.6443 |\n",
       "\n"
      ],
      "text/plain": [
       "           Range SD      Variance Q1    Q2   Q3 Dispersion\n",
       "DATA SET 1 51    18.7307 350.8393 62.75 74.5 96 58.6443   "
      ]
     },
     "metadata": {},
     "output_type": "display_data"
    }
   ],
   "source": [
    "#module 4 1st\n",
    "A=c(51,62,63,74,75,96,96,102)\n",
    "B=c(5,62,63,74,75,96,96,102)\n",
    "\n",
    "\n",
    "a=sort(A)\n",
    "mode=96\n",
    "df1=data.frame(Mean=mean(a),Median=median(a),Mode=mode)\n",
    "b=quantile(a)\n",
    "df2=data.frame(Range=max(a)-min(a),SD=sd(a),Variance=var(a),Q1=b[2],Q2=b[3],Q3=b[4],Dispersion=mean(a)-sd(a),row.names=\"DATA SET 1\")\n",
    "print(\"measure of Tendancy\")\n",
    "df1\n",
    "print(\"Measure of dispersion or variability\")\n",
    "df2"
   ]
  },
  {
   "cell_type": "code",
   "execution_count": 3,
   "id": "378c7643",
   "metadata": {},
   "outputs": [
    {
     "name": "stdout",
     "output_type": "stream",
     "text": [
      "[1] \"measure of Tendancy\"\n"
     ]
    },
    {
     "data": {
      "text/html": [
       "<table class=\"dataframe\">\n",
       "<caption>A data.frame: 1 × 3</caption>\n",
       "<thead>\n",
       "\t<tr><th scope=col>Mean</th><th scope=col>Median</th><th scope=col>Mode</th></tr>\n",
       "\t<tr><th scope=col>&lt;dbl&gt;</th><th scope=col>&lt;dbl&gt;</th><th scope=col>&lt;dbl&gt;</th></tr>\n",
       "</thead>\n",
       "<tbody>\n",
       "\t<tr><td>71.625</td><td>74.5</td><td>96</td></tr>\n",
       "</tbody>\n",
       "</table>\n"
      ],
      "text/latex": [
       "A data.frame: 1 × 3\n",
       "\\begin{tabular}{lll}\n",
       " Mean & Median & Mode\\\\\n",
       " <dbl> & <dbl> & <dbl>\\\\\n",
       "\\hline\n",
       "\t 71.625 & 74.5 & 96\\\\\n",
       "\\end{tabular}\n"
      ],
      "text/markdown": [
       "\n",
       "A data.frame: 1 × 3\n",
       "\n",
       "| Mean &lt;dbl&gt; | Median &lt;dbl&gt; | Mode &lt;dbl&gt; |\n",
       "|---|---|---|\n",
       "| 71.625 | 74.5 | 96 |\n",
       "\n"
      ],
      "text/plain": [
       "  Mean   Median Mode\n",
       "1 71.625 74.5   96  "
      ]
     },
     "metadata": {},
     "output_type": "display_data"
    },
    {
     "name": "stdout",
     "output_type": "stream",
     "text": [
      "[1] \"Measure of dispersion or variability\"\n"
     ]
    },
    {
     "data": {
      "text/html": [
       "<table class=\"dataframe\">\n",
       "<caption>A data.frame: 1 × 7</caption>\n",
       "<thead>\n",
       "\t<tr><th></th><th scope=col>Range</th><th scope=col>SD</th><th scope=col>Variance</th><th scope=col>Q1</th><th scope=col>Q2</th><th scope=col>Q3</th><th scope=col>Dispersion</th></tr>\n",
       "\t<tr><th></th><th scope=col>&lt;dbl&gt;</th><th scope=col>&lt;dbl&gt;</th><th scope=col>&lt;dbl&gt;</th><th scope=col>&lt;dbl&gt;</th><th scope=col>&lt;dbl&gt;</th><th scope=col>&lt;dbl&gt;</th><th scope=col>&lt;dbl&gt;</th></tr>\n",
       "</thead>\n",
       "<tbody>\n",
       "\t<tr><th scope=row>DATA SET 2</th><td>97</td><td>31.01584</td><td>961.9821</td><td>62.75</td><td>74.5</td><td>96</td><td>40.60916</td></tr>\n",
       "</tbody>\n",
       "</table>\n"
      ],
      "text/latex": [
       "A data.frame: 1 × 7\n",
       "\\begin{tabular}{r|lllllll}\n",
       "  & Range & SD & Variance & Q1 & Q2 & Q3 & Dispersion\\\\\n",
       "  & <dbl> & <dbl> & <dbl> & <dbl> & <dbl> & <dbl> & <dbl>\\\\\n",
       "\\hline\n",
       "\tDATA SET 2 & 97 & 31.01584 & 961.9821 & 62.75 & 74.5 & 96 & 40.60916\\\\\n",
       "\\end{tabular}\n"
      ],
      "text/markdown": [
       "\n",
       "A data.frame: 1 × 7\n",
       "\n",
       "| <!--/--> | Range &lt;dbl&gt; | SD &lt;dbl&gt; | Variance &lt;dbl&gt; | Q1 &lt;dbl&gt; | Q2 &lt;dbl&gt; | Q3 &lt;dbl&gt; | Dispersion &lt;dbl&gt; |\n",
       "|---|---|---|---|---|---|---|---|\n",
       "| DATA SET 2 | 97 | 31.01584 | 961.9821 | 62.75 | 74.5 | 96 | 40.60916 |\n",
       "\n"
      ],
      "text/plain": [
       "           Range SD       Variance Q1    Q2   Q3 Dispersion\n",
       "DATA SET 2 97    31.01584 961.9821 62.75 74.5 96 40.60916  "
      ]
     },
     "metadata": {},
     "output_type": "display_data"
    }
   ],
   "source": [
    "a=sort(B)\n",
    "mode=96\n",
    "df1=data.frame(Mean=mean(a),Median=median(a),Mode=mode)\n",
    "b=quantile(a)\n",
    "df2=data.frame(Range=max(a)-min(a),SD=sd(a),Variance=var(a),Q1=b[2],Q2=b[3],Q3=b[4],Dispersion=mean(a)-sd(a),row.names=\"DATA SET 2\")\n",
    "print(\"measure of Tendancy\")\n",
    "df1\n",
    "print(\"Measure of dispersion or variability\")\n",
    "df2"
   ]
  },
  {
   "cell_type": "code",
   "execution_count": 25,
   "id": "3498577b",
   "metadata": {},
   "outputs": [
    {
     "data": {
      "text/plain": [
       "\n",
       "\tPearson's product-moment correlation\n",
       "\n",
       "data:  a and b\n",
       "t = 2.8517, df = 8, p-value = 0.02142\n",
       "alternative hypothesis: true correlation is not equal to 0\n",
       "95 percent confidence interval:\n",
       " 0.1453503 0.9257735\n",
       "sample estimates:\n",
       " cor \n",
       "0.71 \n"
      ]
     },
     "metadata": {},
     "output_type": "display_data"
    }
   ],
   "source": [
    "#2\n",
    "\n",
    "a=c(20,23,8,29,14,11,11,20,17,17)\n",
    "b=c(30,35,21,33,33,26,22,31,33,36)\n",
    "cor.test(a,b)"
   ]
  },
  {
   "cell_type": "code",
   "execution_count": null,
   "id": "c4dd6cd8",
   "metadata": {},
   "outputs": [],
   "source": [
    "\"\"\"a. Identify the dependent and independent variable from Sales.csv\n",
    "b. Visualize the data to identify the relationship between Monthly sales and Advertisement Cost\n",
    "c. Implement the model\n",
    "d. Measure the performance of the model\n",
    "e. Predict the advertisement cost of monthly sales 400.\"\"\"\n",
    "\n"
   ]
  },
  {
   "cell_type": "code",
   "execution_count": null,
   "id": "10ec2710",
   "metadata": {},
   "outputs": [],
   "source": [
    "#a\n",
    "independent=\"monthly_cost\"\n",
    "dependent=\"ad cost\""
   ]
  },
  {
   "cell_type": "code",
   "execution_count": 65,
   "id": "24692aac",
   "metadata": {},
   "outputs": [
    {
     "data": {
      "text/html": [
       "<table class=\"dataframe\">\n",
       "<caption>A data.frame: 6 × 2</caption>\n",
       "<thead>\n",
       "\t<tr><th scope=col>sales</th><th scope=col>cost</th></tr>\n",
       "\t<tr><th scope=col>&lt;dbl&gt;</th><th scope=col>&lt;dbl&gt;</th></tr>\n",
       "</thead>\n",
       "<tbody>\n",
       "\t<tr><td>200</td><td>0.5</td></tr>\n",
       "\t<tr><td>900</td><td>5.0</td></tr>\n",
       "\t<tr><td>450</td><td>1.9</td></tr>\n",
       "\t<tr><td> 68</td><td>3.2</td></tr>\n",
       "\t<tr><td>490</td><td>2.0</td></tr>\n",
       "\t<tr><td>300</td><td>1.0</td></tr>\n",
       "</tbody>\n",
       "</table>\n"
      ],
      "text/latex": [
       "A data.frame: 6 × 2\n",
       "\\begin{tabular}{ll}\n",
       " sales & cost\\\\\n",
       " <dbl> & <dbl>\\\\\n",
       "\\hline\n",
       "\t 200 & 0.5\\\\\n",
       "\t 900 & 5.0\\\\\n",
       "\t 450 & 1.9\\\\\n",
       "\t  68 & 3.2\\\\\n",
       "\t 490 & 2.0\\\\\n",
       "\t 300 & 1.0\\\\\n",
       "\\end{tabular}\n"
      ],
      "text/markdown": [
       "\n",
       "A data.frame: 6 × 2\n",
       "\n",
       "| sales &lt;dbl&gt; | cost &lt;dbl&gt; |\n",
       "|---|---|\n",
       "| 200 | 0.5 |\n",
       "| 900 | 5.0 |\n",
       "| 450 | 1.9 |\n",
       "|  68 | 3.2 |\n",
       "| 490 | 2.0 |\n",
       "| 300 | 1.0 |\n",
       "\n"
      ],
      "text/plain": [
       "  sales cost\n",
       "1 200   0.5 \n",
       "2 900   5.0 \n",
       "3 450   1.9 \n",
       "4  68   3.2 \n",
       "5 490   2.0 \n",
       "6 300   1.0 "
      ]
     },
     "metadata": {},
     "output_type": "display_data"
    },
    {
     "data": {
      "image/png": "[encoded data removed]",
      "text/plain": [
       "plot without title"
      ]
     },
     "metadata": {
      "image/png": {
       "height": 420,
       "width": 420
      }
     },
     "output_type": "display_data"
    }
   ],
   "source": [
    "#b\n",
    "df=data.frame(sales=c(200,900,450,68,490,300),\n",
    "cost=c(0.5,5,1.9,3.2,2.0,1.0))\n",
    "df\n",
    "p=ggplot(data=df,aes(x=cost,y=sales))+geom_bar(stat='identity')\n",
    "p"
   ]
  },
  {
   "cell_type": "code",
   "execution_count": 6,
   "id": "ca3883da",
   "metadata": {},
   "outputs": [
    {
     "data": {
      "text/html": [
       "<table class=\"dataframe\">\n",
       "<caption>A data.frame: 6 × 2</caption>\n",
       "<thead>\n",
       "\t<tr><th scope=col>a</th><th scope=col>b</th></tr>\n",
       "\t<tr><th scope=col>&lt;dbl&gt;</th><th scope=col>&lt;dbl&gt;</th></tr>\n",
       "</thead>\n",
       "<tbody>\n",
       "\t<tr><td>200</td><td>0.5</td></tr>\n",
       "\t<tr><td>900</td><td>5.0</td></tr>\n",
       "\t<tr><td>450</td><td>1.9</td></tr>\n",
       "\t<tr><td> 68</td><td>3.2</td></tr>\n",
       "\t<tr><td>490</td><td>2.0</td></tr>\n",
       "\t<tr><td>300</td><td>1.0</td></tr>\n",
       "</tbody>\n",
       "</table>\n"
      ],
      "text/latex": [
       "A data.frame: 6 × 2\n",
       "\\begin{tabular}{ll}\n",
       " a & b\\\\\n",
       " <dbl> & <dbl>\\\\\n",
       "\\hline\n",
       "\t 200 & 0.5\\\\\n",
       "\t 900 & 5.0\\\\\n",
       "\t 450 & 1.9\\\\\n",
       "\t  68 & 3.2\\\\\n",
       "\t 490 & 2.0\\\\\n",
       "\t 300 & 1.0\\\\\n",
       "\\end{tabular}\n"
      ],
      "text/markdown": [
       "\n",
       "A data.frame: 6 × 2\n",
       "\n",
       "| a &lt;dbl&gt; | b &lt;dbl&gt; |\n",
       "|---|---|\n",
       "| 200 | 0.5 |\n",
       "| 900 | 5.0 |\n",
       "| 450 | 1.9 |\n",
       "|  68 | 3.2 |\n",
       "| 490 | 2.0 |\n",
       "| 300 | 1.0 |\n",
       "\n"
      ],
      "text/plain": [
       "  a   b  \n",
       "1 200 0.5\n",
       "2 900 5.0\n",
       "3 450 1.9\n",
       "4  68 3.2\n",
       "5 490 2.0\n",
       "6 300 1.0"
      ]
     },
     "metadata": {},
     "output_type": "display_data"
    }
   ],
   "source": [
    "data=data.frame(a=c(200,900,450,68,490,300),b=c(0.5,5,1.9,3.2,2.0,1.0) )\n",
    "data"
   ]
  },
  {
   "cell_type": "code",
   "execution_count": 10,
   "id": "b1e8d7a2",
   "metadata": {},
   "outputs": [
    {
     "name": "stdout",
     "output_type": "stream",
     "text": [
      "       1 \n",
      "2.261931 \n"
     ]
    }
   ],
   "source": [
    "#c,d,e\n",
    "#module-5 1st\n",
    "library(caTools)\n",
    "a=c(200,900,450,68,490,300)  # monthly sales independent\n",
    "b=c(0.5,5,1.9,3.2,2.0,1.0)      # ad cost   dependent\n",
    "\n",
    "s=sample.split(data,SplitRatio=0.7)\n",
    "\n",
    "#train=subset(new,s==TRUE)\n",
    "#test=subset(new,s==FALSE)\n",
    "\n",
    "\n",
    "relation=lm(b~a)\n",
    "aa=data.frame(a=400)\n",
    "result=predict(relation,aa)\n",
    "print(result)"
   ]
  },
  {
   "cell_type": "code",
   "execution_count": null,
   "id": "704409ac",
   "metadata": {},
   "outputs": [],
   "source": []
  },
  {
   "cell_type": "code",
   "execution_count": null,
   "id": "955f4b57",
   "metadata": {},
   "outputs": [],
   "source": []
  },
  {
   "cell_type": "code",
   "execution_count": 48,
   "id": "396e6982",
   "metadata": {},
   "outputs": [],
   "source": [
    "df=data.frame(weight=c(1,2,4,5),PH=c(1,1,3,4))"
   ]
  },
  {
   "cell_type": "code",
   "execution_count": 49,
   "id": "8bf60bad",
   "metadata": {},
   "outputs": [
    {
     "data": {
      "text/html": [
       "<table class=\"dataframe\">\n",
       "<caption>A data.frame: 4 × 2</caption>\n",
       "<thead>\n",
       "\t<tr><th scope=col>weight</th><th scope=col>PH</th></tr>\n",
       "\t<tr><th scope=col>&lt;dbl&gt;</th><th scope=col>&lt;dbl&gt;</th></tr>\n",
       "</thead>\n",
       "<tbody>\n",
       "\t<tr><td>1</td><td>1</td></tr>\n",
       "\t<tr><td>2</td><td>1</td></tr>\n",
       "\t<tr><td>4</td><td>3</td></tr>\n",
       "\t<tr><td>5</td><td>4</td></tr>\n",
       "</tbody>\n",
       "</table>\n"
      ],
      "text/latex": [
       "A data.frame: 4 × 2\n",
       "\\begin{tabular}{ll}\n",
       " weight & PH\\\\\n",
       " <dbl> & <dbl>\\\\\n",
       "\\hline\n",
       "\t 1 & 1\\\\\n",
       "\t 2 & 1\\\\\n",
       "\t 4 & 3\\\\\n",
       "\t 5 & 4\\\\\n",
       "\\end{tabular}\n"
      ],
      "text/markdown": [
       "\n",
       "A data.frame: 4 × 2\n",
       "\n",
       "| weight &lt;dbl&gt; | PH &lt;dbl&gt; |\n",
       "|---|---|\n",
       "| 1 | 1 |\n",
       "| 2 | 1 |\n",
       "| 4 | 3 |\n",
       "| 5 | 4 |\n",
       "\n"
      ],
      "text/plain": [
       "  weight PH\n",
       "1 1      1 \n",
       "2 2      1 \n",
       "3 4      3 \n",
       "4 5      4 "
      ]
     },
     "metadata": {},
     "output_type": "display_data"
    }
   ],
   "source": [
    "df"
   ]
  },
  {
   "cell_type": "code",
   "execution_count": 50,
   "id": "4449c248",
   "metadata": {},
   "outputs": [],
   "source": [
    "write.csv(df, 'medicine.csv', row.names = FALSE)"
   ]
  },
  {
   "cell_type": "code",
   "execution_count": 51,
   "id": "22ab8ee7",
   "metadata": {},
   "outputs": [
    {
     "data": {
      "text/html": [
       "<table class=\"dataframe\">\n",
       "<caption>A data.frame: 4 × 2</caption>\n",
       "<thead>\n",
       "\t<tr><th scope=col>weight</th><th scope=col>PH</th></tr>\n",
       "\t<tr><th scope=col>&lt;int&gt;</th><th scope=col>&lt;int&gt;</th></tr>\n",
       "</thead>\n",
       "<tbody>\n",
       "\t<tr><td>1</td><td>1</td></tr>\n",
       "\t<tr><td>2</td><td>1</td></tr>\n",
       "\t<tr><td>4</td><td>3</td></tr>\n",
       "\t<tr><td>5</td><td>4</td></tr>\n",
       "</tbody>\n",
       "</table>\n"
      ],
      "text/latex": [
       "A data.frame: 4 × 2\n",
       "\\begin{tabular}{ll}\n",
       " weight & PH\\\\\n",
       " <int> & <int>\\\\\n",
       "\\hline\n",
       "\t 1 & 1\\\\\n",
       "\t 2 & 1\\\\\n",
       "\t 4 & 3\\\\\n",
       "\t 5 & 4\\\\\n",
       "\\end{tabular}\n"
      ],
      "text/markdown": [
       "\n",
       "A data.frame: 4 × 2\n",
       "\n",
       "| weight &lt;int&gt; | PH &lt;int&gt; |\n",
       "|---|---|\n",
       "| 1 | 1 |\n",
       "| 2 | 1 |\n",
       "| 4 | 3 |\n",
       "| 5 | 4 |\n",
       "\n"
      ],
      "text/plain": [
       "  weight PH\n",
       "1 1      1 \n",
       "2 2      1 \n",
       "3 4      3 \n",
       "4 5      4 "
      ]
     },
     "metadata": {},
     "output_type": "display_data"
    }
   ],
   "source": [
    "read.csv('medicine.csv')"
   ]
  },
  {
   "cell_type": "code",
   "execution_count": 52,
   "id": "7afbf7a0",
   "metadata": {},
   "outputs": [],
   "source": [
    "#2nd\n",
    "library(factoextra)\n",
    "library(cluster)\n",
    "library(ggplot2)"
   ]
  },
  {
   "cell_type": "code",
   "execution_count": 53,
   "id": "66269f28",
   "metadata": {},
   "outputs": [
    {
     "data": {
      "text/html": [
       "<table class=\"dataframe\">\n",
       "<caption>A data.frame: 4 × 2</caption>\n",
       "<thead>\n",
       "\t<tr><th scope=col>weight</th><th scope=col>PH</th></tr>\n",
       "\t<tr><th scope=col>&lt;dbl&gt;</th><th scope=col>&lt;dbl&gt;</th></tr>\n",
       "</thead>\n",
       "<tbody>\n",
       "\t<tr><td>1</td><td>1</td></tr>\n",
       "\t<tr><td>2</td><td>1</td></tr>\n",
       "\t<tr><td>4</td><td>3</td></tr>\n",
       "\t<tr><td>5</td><td>4</td></tr>\n",
       "</tbody>\n",
       "</table>\n"
      ],
      "text/latex": [
       "A data.frame: 4 × 2\n",
       "\\begin{tabular}{ll}\n",
       " weight & PH\\\\\n",
       " <dbl> & <dbl>\\\\\n",
       "\\hline\n",
       "\t 1 & 1\\\\\n",
       "\t 2 & 1\\\\\n",
       "\t 4 & 3\\\\\n",
       "\t 5 & 4\\\\\n",
       "\\end{tabular}\n"
      ],
      "text/markdown": [
       "\n",
       "A data.frame: 4 × 2\n",
       "\n",
       "| weight &lt;dbl&gt; | PH &lt;dbl&gt; |\n",
       "|---|---|\n",
       "| 1 | 1 |\n",
       "| 2 | 1 |\n",
       "| 4 | 3 |\n",
       "| 5 | 4 |\n",
       "\n"
      ],
      "text/plain": [
       "  weight PH\n",
       "1 1      1 \n",
       "2 2      1 \n",
       "3 4      3 \n",
       "4 5      4 "
      ]
     },
     "metadata": {},
     "output_type": "display_data"
    }
   ],
   "source": [
    "df"
   ]
  },
  {
   "cell_type": "code",
   "execution_count": 54,
   "id": "4d4dc843",
   "metadata": {},
   "outputs": [
    {
     "data": {
      "text/plain": [
       "K-means clustering with 2 clusters of sizes 2, 2\n",
       "\n",
       "Cluster means:\n",
       "  weight  PH\n",
       "1    1.5 1.0\n",
       "2    4.5 3.5\n",
       "\n",
       "Clustering vector:\n",
       "[1] 1 1 2 2\n",
       "\n",
       "Within cluster sum of squares by cluster:\n",
       "[1] 0.5 1.0\n",
       " (between_SS / total_SS =  91.0 %)\n",
       "\n",
       "Available components:\n",
       "\n",
       "[1] \"cluster\"      \"centers\"      \"totss\"        \"withinss\"     \"tot.withinss\"\n",
       "[6] \"betweenss\"    \"size\"         \"iter\"         \"ifault\"      "
      ]
     },
     "metadata": {},
     "output_type": "display_data"
    }
   ],
   "source": [
    "clus=kmeans(df,2,nstart=25)\n",
    "clus"
   ]
  },
  {
   "cell_type": "code",
   "execution_count": 55,
   "id": "6e6b832c",
   "metadata": {},
   "outputs": [
    {
     "data": {
      "image/png": "[encoded data removed]",
      "text/plain": [
       "plot without title"
      ]
     },
     "metadata": {
      "image/png": {
       "height": 420,
       "width": 420
      }
     },
     "output_type": "display_data"
    }
   ],
   "source": [
    "fviz_cluster(clus,df)"
   ]
  },
  {
   "cell_type": "code",
   "execution_count": null,
   "id": "ed0ceaaa",
   "metadata": {},
   "outputs": [],
   "source": [
    "#module-5 1st\n",
    "\n",
    "a=c(200,900,450,68,490,300)  # height independent\n",
    "b=c(0.5,5,1.9,3.2,2.0,1.0)      # weight   dependent\n",
    "relation=lm(b~a)\n",
    "aa=data.frame(a=145)\n",
    "result=predict(relation,aa)\n",
    "print(result)"
   ]
  }
 ],
 "metadata": {
  "kernelspec": {
   "display_name": "R",
   "language": "R",
   "name": "ir"
  },
  "language_info": {
   "codemirror_mode": "r",
   "file_extension": ".r",
   "mimetype": "text/x-r-source",
   "name": "R",
   "pygments_lexer": "r",
   "version": "4.1.3"
  }
 },
 "nbformat": 4,
 "nbformat_minor": 5
}
