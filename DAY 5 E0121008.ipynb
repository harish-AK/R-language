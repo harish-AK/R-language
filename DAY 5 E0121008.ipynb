{
 "cells": [
  {
   "cell_type": "code",
   "execution_count": 5,
   "id": "6521897b",
   "metadata": {},
   "outputs": [
    {
     "data": {
      "text/html": [
       "'list'"
      ],
      "text/latex": [
       "'list'"
      ],
      "text/markdown": [
       "'list'"
      ],
      "text/plain": [
       "[1] \"list\""
      ]
     },
     "metadata": {},
     "output_type": "display_data"
    },
    {
     "data": {
      "text/html": [
       "<dl>\n",
       "\t<dt>$name</dt>\n",
       "\t\t<dd>'xyz'</dd>\n",
       "\t<dt>$dept</dt>\n",
       "\t\t<dd>'CSE'</dd>\n",
       "</dl>\n"
      ],
      "text/latex": [
       "\\begin{description}\n",
       "\\item[\\$name] 'xyz'\n",
       "\\item[\\$dept] 'CSE'\n",
       "\\end{description}\n"
      ],
      "text/markdown": [
       "$name\n",
       ":   'xyz'\n",
       "$dept\n",
       ":   'CSE'\n",
       "\n",
       "\n"
      ],
      "text/plain": [
       "$name\n",
       "[1] \"xyz\"\n",
       "\n",
       "$dept\n",
       "[1] \"CSE\"\n"
      ]
     },
     "metadata": {},
     "output_type": "display_data"
    }
   ],
   "source": [
    "emp1=list(name=\"xyz\",dept=\"CSE\")\n",
    "class(emp1)\n",
    "emp1"
   ]
  },
  {
   "cell_type": "code",
   "execution_count": 4,
   "id": "f785b52e",
   "metadata": {},
   "outputs": [
    {
     "data": {
      "text/html": [
       "'character'"
      ],
      "text/latex": [
       "'character'"
      ],
      "text/markdown": [
       "'character'"
      ],
      "text/plain": [
       "[1] \"character\""
      ]
     },
     "metadata": {},
     "output_type": "display_data"
    },
    {
     "data": {
      "text/html": [
       "'harish'"
      ],
      "text/latex": [
       "'harish'"
      ],
      "text/markdown": [
       "'harish'"
      ],
      "text/plain": [
       "[1] \"harish\""
      ]
     },
     "metadata": {},
     "output_type": "display_data"
    }
   ],
   "source": [
    "e=(name=\"harish\")\n",
    "class(e)\n",
    "e"
   ]
  },
  {
   "cell_type": "code",
   "execution_count": 6,
   "id": "9c0a2a42",
   "metadata": {},
   "outputs": [
    {
     "data": {
      "text/html": [
       "'xyz'"
      ],
      "text/latex": [
       "'xyz'"
      ],
      "text/markdown": [
       "'xyz'"
      ],
      "text/plain": [
       "[1] \"xyz\""
      ]
     },
     "metadata": {},
     "output_type": "display_data"
    }
   ],
   "source": [
    "emp1$name"
   ]
  },
  {
   "cell_type": "code",
   "execution_count": 7,
   "id": "764f2a46",
   "metadata": {},
   "outputs": [
    {
     "data": {
      "text/html": [
       "'CSE'"
      ],
      "text/latex": [
       "'CSE'"
      ],
      "text/markdown": [
       "'CSE'"
      ],
      "text/plain": [
       "[1] \"CSE\""
      ]
     },
     "metadata": {},
     "output_type": "display_data"
    }
   ],
   "source": [
    "emp1$dept"
   ]
  },
  {
   "cell_type": "code",
   "execution_count": 3,
   "id": "4585f684",
   "metadata": {},
   "outputs": [
    {
     "data": {
      "text/html": [
       "'list'"
      ],
      "text/latex": [
       "'list'"
      ],
      "text/markdown": [
       "'list'"
      ],
      "text/plain": [
       "[1] \"list\""
      ]
     },
     "metadata": {},
     "output_type": "display_data"
    },
    {
     "data": {
      "text/html": [
       "<dl>\n",
       "\t<dt>$name</dt>\n",
       "\t\t<dd>'harish AK'</dd>\n",
       "\t<dt>$uid</dt>\n",
       "\t\t<dd>'e0121008'</dd>\n",
       "\t<dt>$course</dt>\n",
       "\t\t<dd><style>\n",
       ".list-inline {list-style: none; margin:0; padding: 0}\n",
       ".list-inline>li {display: inline-block}\n",
       ".list-inline>li:not(:last-child)::after {content: \"\\00b7\"; padding: 0 .5ex}\n",
       "</style>\n",
       "<ol class=list-inline><li>'java'</li><li>'python'</li></ol>\n",
       "</dd>\n",
       "</dl>\n"
      ],
      "text/latex": [
       "\\begin{description}\n",
       "\\item[\\$name] 'harish AK'\n",
       "\\item[\\$uid] 'e0121008'\n",
       "\\item[\\$course] \\begin{enumerate*}\n",
       "\\item 'java'\n",
       "\\item 'python'\n",
       "\\end{enumerate*}\n",
       "\n",
       "\\end{description}\n"
      ],
      "text/markdown": [
       "$name\n",
       ":   'harish AK'\n",
       "$uid\n",
       ":   'e0121008'\n",
       "$course\n",
       ":   1. 'java'\n",
       "2. 'python'\n",
       "\n",
       "\n",
       "\n",
       "\n",
       "\n"
      ],
      "text/plain": [
       "$name\n",
       "[1] \"harish AK\"\n",
       "\n",
       "$uid\n",
       "[1] \"e0121008\"\n",
       "\n",
       "$course\n",
       "[1] \"java\"   \"python\"\n"
      ]
     },
     "metadata": {},
     "output_type": "display_data"
    }
   ],
   "source": [
    "student=list(name=\"harish AK\",uid=\"e0121008\",course=c(\"java\",\"python\"))\n",
    "class(student)  # class creation\n",
    "student         # object creation"
   ]
  },
  {
   "cell_type": "code",
   "execution_count": 4,
   "id": "81f67663",
   "metadata": {},
   "outputs": [
    {
     "data": {
      "text/html": [
       "'python'"
      ],
      "text/latex": [
       "'python'"
      ],
      "text/markdown": [
       "'python'"
      ],
      "text/plain": [
       "[1] \"python\""
      ]
     },
     "metadata": {},
     "output_type": "display_data"
    }
   ],
   "source": [
    "student$course[2]"
   ]
  },
  {
   "cell_type": "code",
   "execution_count": 7,
   "id": "0c74befd",
   "metadata": {},
   "outputs": [],
   "source": [
    "words=c(\" i hate python\",\"java\",\" i love Python\",\"C\")"
   ]
  },
  {
   "cell_type": "code",
   "execution_count": 8,
   "id": "6aa2b14a",
   "metadata": {},
   "outputs": [
    {
     "data": {
      "text/html": [
       "<ol class=list-inline>\n",
       "\t<li>TRUE</li>\n",
       "\t<li>FALSE</li>\n",
       "\t<li>TRUE</li>\n",
       "\t<li>FALSE</li>\n",
       "</ol>\n"
      ],
      "text/latex": [
       "\\begin{enumerate*}\n",
       "\\item TRUE\n",
       "\\item FALSE\n",
       "\\item TRUE\n",
       "\\item FALSE\n",
       "\\end{enumerate*}\n"
      ],
      "text/markdown": [
       "1. TRUE\n",
       "2. FALSE\n",
       "3. TRUE\n",
       "4. FALSE\n",
       "\n",
       "\n"
      ],
      "text/plain": [
       "[1]  TRUE FALSE  TRUE FALSE"
      ]
     },
     "metadata": {},
     "output_type": "display_data"
    }
   ],
   "source": [
    "grepl(pattern=\"Python\",words,ignore.case=TRUE)  # grep l returns the boolean value\n",
    "                                                #ignore.case TRUE means its consider both upper and lowercase as same"
   ]
  },
  {
   "cell_type": "code",
   "execution_count": 9,
   "id": "7c855915",
   "metadata": {},
   "outputs": [
    {
     "data": {
      "text/html": [
       "<ol class=list-inline>\n",
       "\t<li>1</li>\n",
       "\t<li>3</li>\n",
       "</ol>\n"
      ],
      "text/latex": [
       "\\begin{enumerate*}\n",
       "\\item 1\n",
       "\\item 3\n",
       "\\end{enumerate*}\n"
      ],
      "text/markdown": [
       "1. 1\n",
       "2. 3\n",
       "\n",
       "\n"
      ],
      "text/plain": [
       "[1] 1 3"
      ]
     },
     "metadata": {},
     "output_type": "display_data"
    }
   ],
   "source": [
    "grep(pattern=\"Python\",words,ignore.case=TRUE)    # without l in grep, it will show the match values index"
   ]
  },
  {
   "cell_type": "code",
   "execution_count": 10,
   "id": "f806d34a",
   "metadata": {},
   "outputs": [
    {
     "data": {
      "text/html": [
       "<ol class=list-inline>\n",
       "\t<li>' i hate python'</li>\n",
       "\t<li>' i love Python'</li>\n",
       "</ol>\n"
      ],
      "text/latex": [
       "\\begin{enumerate*}\n",
       "\\item ' i hate python'\n",
       "\\item ' i love Python'\n",
       "\\end{enumerate*}\n"
      ],
      "text/markdown": [
       "1. ' i hate python'\n",
       "2. ' i love Python'\n",
       "\n",
       "\n"
      ],
      "text/plain": [
       "[1] \" i hate python\" \" i love Python\""
      ]
     },
     "metadata": {},
     "output_type": "display_data"
    }
   ],
   "source": [
    "grep(\"Python\",words,ignore.case=TRUE,value=TRUE)  # 'value' used when we search the word in a sentence. without 'value' \n",
    "                                                              # it print false, without value it prints the index alone"
   ]
  },
  {
   "cell_type": "code",
   "execution_count": 23,
   "id": "0acf173f",
   "metadata": {},
   "outputs": [
    {
     "data": {
      "text/html": [
       "<ol>\n",
       "\t<li>'9150572003'</li>\n",
       "</ol>\n"
      ],
      "text/latex": [
       "\\begin{enumerate}\n",
       "\\item '9150572003'\n",
       "\\end{enumerate}\n"
      ],
      "text/markdown": [
       "1. '9150572003'\n",
       "\n",
       "\n"
      ],
      "text/plain": [
       "[[1]]\n",
       "[1] \"9150572003\"\n"
      ]
     },
     "metadata": {},
     "output_type": "display_data"
    },
    {
     "data": {
      "text/html": [
       "<ol>\n",
       "\t<li>'12-01-2022'</li>\n",
       "</ol>\n"
      ],
      "text/latex": [
       "\\begin{enumerate}\n",
       "\\item '12-01-2022'\n",
       "\\end{enumerate}\n"
      ],
      "text/markdown": [
       "1. '12-01-2022'\n",
       "\n",
       "\n"
      ],
      "text/plain": [
       "[[1]]\n",
       "[1] \"12-01-2022\"\n"
      ]
     },
     "metadata": {},
     "output_type": "display_data"
    },
    {
     "data": {
      "text/html": [
       "<ol>\n",
       "\t<li>'e0121003@sret.edu'</li>\n",
       "</ol>\n"
      ],
      "text/latex": [
       "\\begin{enumerate}\n",
       "\\item 'e0121003@sret.edu'\n",
       "\\end{enumerate}\n"
      ],
      "text/markdown": [
       "1. 'e0121003@sret.edu'\n",
       "\n",
       "\n"
      ],
      "text/plain": [
       "[[1]]\n",
       "[1] \"e0121003@sret.edu\"\n"
      ]
     },
     "metadata": {},
     "output_type": "display_data"
    },
    {
     "data": {
      "text/html": [
       "<ol>\n",
       "\t<li>'10:13:08'</li>\n",
       "</ol>\n"
      ],
      "text/latex": [
       "\\begin{enumerate}\n",
       "\\item '10:13:08'\n",
       "\\end{enumerate}\n"
      ],
      "text/markdown": [
       "1. '10:13:08'\n",
       "\n",
       "\n"
      ],
      "text/plain": [
       "[[1]]\n",
       "[1] \"10:13:08\"\n"
      ]
     },
     "metadata": {},
     "output_type": "display_data"
    }
   ],
   "source": [
    "\n",
    "x=c(\"My name is Suriya my student id is 121003 joined on 12-01-2022 at 10:13:08 and my number is 9150572003 , my official mail id is e0121003@sret.edu.in\")\n",
    "str_extract_all(x,pattern=\"[6-9]{1}[0-9]{9}\")    # phone numbers  [6-9]{1} means 1st number should between 6 to 9\n",
    "str_extract_all(x,\"[:digit:]{2}-[:digit:]{2}-[:digit:]{4}\")   # date\n",
    "str_extract_all(x,\"[\\\\w]+@[\\\\w]+.[\\\\w]+\")           # mails\n",
    "str_extract_all(x,\"[:digit:]{2}:[:digit:]{2}:[:digit:]{2}\")   # time\n"
   ]
  },
  {
   "cell_type": "code",
   "execution_count": 8,
   "id": "22fcbf42",
   "metadata": {},
   "outputs": [
    {
     "data": {
      "text/html": [
       "<ol>\n",
       "\t<li>'12-01-2022'</li>\n",
       "</ol>\n"
      ],
      "text/latex": [
       "\\begin{enumerate}\n",
       "\\item '12-01-2022'\n",
       "\\end{enumerate}\n"
      ],
      "text/markdown": [
       "1. '12-01-2022'\n",
       "\n",
       "\n"
      ],
      "text/plain": [
       "[[1]]\n",
       "[1] \"12-01-2022\"\n"
      ]
     },
     "metadata": {},
     "output_type": "display_data"
    }
   ],
   "source": [
    "str_extract_all(x,\"\\\\d{2}-\\\\d{2}-\\\\d{4}\")   # date\n"
   ]
  },
  {
   "cell_type": "code",
   "execution_count": 2,
   "id": "cb43507b",
   "metadata": {},
   "outputs": [
    {
     "data": {
      "text/html": [
       "<ol>\n",
       "\t<li><style>\n",
       ".list-inline {list-style: none; margin:0; padding: 0}\n",
       ".list-inline>li {display: inline-block}\n",
       ".list-inline>li:not(:last-child)::after {content: \"\\00b7\"; padding: 0 .5ex}\n",
       "</style>\n",
       "<ol class=list-inline><li>'cringe'</li><li>'cage'</li><li>'cake'</li><li>'coke'</li><li>'code'</li><li>'coffee'</li></ol>\n",
       "</li>\n",
       "</ol>\n"
      ],
      "text/latex": [
       "\\begin{enumerate}\n",
       "\\item \\begin{enumerate*}\n",
       "\\item 'cringe'\n",
       "\\item 'cage'\n",
       "\\item 'cake'\n",
       "\\item 'coke'\n",
       "\\item 'code'\n",
       "\\item 'coffee'\n",
       "\\end{enumerate*}\n",
       "\n",
       "\\end{enumerate}\n"
      ],
      "text/markdown": [
       "1. 1. 'cringe'\n",
       "2. 'cage'\n",
       "3. 'cake'\n",
       "4. 'coke'\n",
       "5. 'code'\n",
       "6. 'coffee'\n",
       "\n",
       "\n",
       "\n",
       "\n",
       "\n"
      ],
      "text/plain": [
       "[[1]]\n",
       "[1] \"cringe\" \"cage\"   \"cake\"   \"coke\"   \"code\"   \"coffee\"\n"
      ]
     },
     "metadata": {},
     "output_type": "display_data"
    }
   ],
   "source": [
    "#word start with c and ends with e\n",
    "\n",
    "library(stringr)\n",
    "x=c(\"My name is Suriya my student id is 121003  cringe  joined on 12-01-2022 and cage my number is 9150572003  cake , my official  coke mail id is  code e0121003@sret  coffee .edu.in\")\n",
    "str_extract_all(x,\"c[\\\\w]+e\")"
   ]
  },
  {
   "cell_type": "code",
   "execution_count": 3,
   "id": "16b7dbab",
   "metadata": {},
   "outputs": [
    {
     "data": {
      "text/html": [
       "<ol>\n",
       "\t<li><style>\n",
       ".list-inline {list-style: none; margin:0; padding: 0}\n",
       ".list-inline>li {display: inline-block}\n",
       ".list-inline>li:not(:last-child)::after {content: \"\\00b7\"; padding: 0 .5ex}\n",
       "</style>\n",
       "<ol class=list-inline><li>'12 abc'</li><li>'13 aaa'</li><li>'32 xyz'</li></ol>\n",
       "</li>\n",
       "</ol>\n"
      ],
      "text/latex": [
       "\\begin{enumerate}\n",
       "\\item \\begin{enumerate*}\n",
       "\\item '12 abc'\n",
       "\\item '13 aaa'\n",
       "\\item '32 xyz'\n",
       "\\end{enumerate*}\n",
       "\n",
       "\\end{enumerate}\n"
      ],
      "text/markdown": [
       "1. 1. '12 abc'\n",
       "2. '13 aaa'\n",
       "3. '32 xyz'\n",
       "\n",
       "\n",
       "\n",
       "\n",
       "\n"
      ],
      "text/plain": [
       "[[1]]\n",
       "[1] \"12 abc\" \"13 aaa\" \"32 xyz\"\n"
      ]
     },
     "metadata": {},
     "output_type": "display_data"
    }
   ],
   "source": [
    "#Write a R code to print first 2 digt followed by the orbitary of character eg 12 abc 132 xyz output is 12 abc\n",
    "\n",
    "y=c(\"12 abc sasd 13 aaa 132 xyz\")\n",
    "str_extract_all(y,\"\\\\d{2}\\\\b\\\\s[\\\\w]+\")"
   ]
  },
  {
   "cell_type": "code",
   "execution_count": 7,
   "id": "3ca88a9a",
   "metadata": {},
   "outputs": [
    {
     "data": {
      "text/html": [
       "<ol>\n",
       "\t<li>'1234 1231 1243 4224'</li>\n",
       "</ol>\n"
      ],
      "text/latex": [
       "\\begin{enumerate}\n",
       "\\item '1234 1231 1243 4224'\n",
       "\\end{enumerate}\n"
      ],
      "text/markdown": [
       "1. '1234 1231 1243 4224'\n",
       "\n",
       "\n"
      ],
      "text/plain": [
       "[[1]]\n",
       "[1] \"1234 1231 1243 4224\"\n"
      ]
     },
     "metadata": {},
     "output_type": "display_data"
    }
   ],
   "source": [
    "# credit card \n",
    "\n",
    "a=\"1234 1231 1243 4224\"\n",
    "str_extract_all(a,\"\\\\d{4}+\\\\s\\\\d{4}+\\\\s\\\\d{4}+\\\\s\\\\d{4}\")\n"
   ]
  },
  {
   "cell_type": "code",
   "execution_count": 10,
   "id": "8f50f388",
   "metadata": {},
   "outputs": [
    {
     "data": {
      "text/html": [
       "'nice is a programing language R'"
      ],
      "text/latex": [
       "'nice is a programing language R'"
      ],
      "text/markdown": [
       "'nice is a programing language R'"
      ],
      "text/plain": [
       "[1] \"nice is a programing language R\""
      ]
     },
     "metadata": {},
     "output_type": "display_data"
    },
    {
     "data": {
      "text/html": [
       "'nice is a programing language nice'"
      ],
      "text/latex": [
       "'nice is a programing language nice'"
      ],
      "text/markdown": [
       "'nice is a programing language nice'"
      ],
      "text/plain": [
       "[1] \"nice is a programing language nice\""
      ]
     },
     "metadata": {},
     "output_type": "display_data"
    }
   ],
   "source": [
    "#Replacing the word there are two keywords sub and g sub\n",
    "y=c(\"R is a programing language R\")\n",
    "sub(\"R\",\"nice\",y)           # sub only change the first occurance\n",
    "                                      \n",
    "y=c(\"R is a programing language R\")     # gsub change all occurance\n",
    "gsub(\"R\",\"nice\",y)"
   ]
  },
  {
   "cell_type": "code",
   "execution_count": 72,
   "id": "ce798a33",
   "metadata": {},
   "outputs": [
    {
     "data": {
      "text/html": [
       "<ol class=list-inline>\n",
       "\t<li>'A'</li>\n",
       "\t<li>'BAC'</li>\n",
       "\t<li>'clue'</li>\n",
       "\t<li>'code'</li>\n",
       "\t<li>'Cyber'</li>\n",
       "</ol>\n"
      ],
      "text/latex": [
       "\\begin{enumerate*}\n",
       "\\item 'A'\n",
       "\\item 'BAC'\n",
       "\\item 'clue'\n",
       "\\item 'code'\n",
       "\\item 'Cyber'\n",
       "\\end{enumerate*}\n"
      ],
      "text/markdown": [
       "1. 'A'\n",
       "2. 'BAC'\n",
       "3. 'clue'\n",
       "4. 'code'\n",
       "5. 'Cyber'\n",
       "\n",
       "\n"
      ],
      "text/plain": [
       "[1] \"A\"     \"BAC\"   \"clue\"  \"code\"  \"Cyber\""
      ]
     },
     "metadata": {},
     "output_type": "display_data"
    }
   ],
   "source": [
    "#print the word that contains a vowel aeiou and AEIOU\n",
    "\n",
    "s=c('A','BAC','xyz','clue','code','Cyber','SRT')\n",
    "grep(pattern=\"[aeiouAEIOU]\",s,value=TRUE)"
   ]
  },
  {
   "cell_type": "code",
   "execution_count": 9,
   "id": "e434ce17",
   "metadata": {},
   "outputs": [
    {
     "data": {
      "text/html": [
       "<style>\n",
       ".list-inline {list-style: none; margin:0; padding: 0}\n",
       ".list-inline>li {display: inline-block}\n",
       ".list-inline>li:not(:last-child)::after {content: \"\\00b7\"; padding: 0 .5ex}\n",
       "</style>\n",
       "<ol class=list-inline><li>'A'</li><li>'BAC'</li></ol>\n"
      ],
      "text/latex": [
       "\\begin{enumerate*}\n",
       "\\item 'A'\n",
       "\\item 'BAC'\n",
       "\\end{enumerate*}\n"
      ],
      "text/markdown": [
       "1. 'A'\n",
       "2. 'BAC'\n",
       "\n",
       "\n"
      ],
      "text/plain": [
       "[1] \"A\"   \"BAC\""
      ]
     },
     "metadata": {},
     "output_type": "display_data"
    }
   ],
   "source": [
    "#print the word that contains vowel a or A\n",
    "s=c('A','BAC','xyz','clue','code','Cyber','SRT')\n",
    "grep(s,pattern=\"[aA]\",value=TRUE)"
   ]
  },
  {
   "cell_type": "code",
   "execution_count": null,
   "id": "a0198830",
   "metadata": {},
   "outputs": [],
   "source": []
  }
 ],
 "metadata": {
  "kernelspec": {
   "display_name": "R",
   "language": "R",
   "name": "ir"
  },
  "language_info": {
   "codemirror_mode": "r",
   "file_extension": ".r",
   "mimetype": "text/x-r-source",
   "name": "R",
   "pygments_lexer": "r",
   "version": "4.1.3"
  }
 },
 "nbformat": 4,
 "nbformat_minor": 5
}
