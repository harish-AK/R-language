{
 "cells": [
  {
   "cell_type": "code",
   "execution_count": 1,
   "id": "d8248108",
   "metadata": {},
   "outputs": [
    {
     "name": "stdout",
     "output_type": "stream",
     "text": [
      "Enter your salary1000\n",
      "Enter your work years7\n",
      "[1] \"your salary is  1120\"\n"
     ]
    }
   ],
   "source": [
    "salary=as.numeric(readline(\"Enter your salary\"))\n",
    "years=as.numeric(readline(\"Enter your work years\"))\n",
    "if(years>=6){\n",
    "    bonus=salary*0.12\n",
    "    total=bonus+salary\n",
    "}\n",
    "print(paste(\"your salary is \",total))"
   ]
  },
  {
   "cell_type": "code",
   "execution_count": 4,
   "id": "5fef738d",
   "metadata": {},
   "outputs": [
    {
     "name": "stdout",
     "output_type": "stream",
     "text": [
      "enter number 1 :1\n",
      "enter number 2 :2\n",
      "enter number 3 :3\n",
      "enter number 4 :4\n",
      "enter number 5 :5\n",
      "enter number 6 :6\n",
      "[1] 1\n",
      "[1] 2\n",
      "[1] 3\n",
      "[1] 4\n",
      "[1] 5\n",
      "[1] 6\n",
      "[1]  1 NA  3 NA  5\n",
      "[1] NA  2 NA  4 NA  6\n"
     ]
    }
   ],
   "source": [
    "a  = c()\n",
    "tot = 6\n",
    "for (j in seq(tot)){\n",
    "    a[j] = as.numeric(readline(paste(\"enter number\",j,\":\")))\n",
    "}\n",
    "o = c()\n",
    "e = c()\n",
    "for (i  in seq(a)){\n",
    "    if (i %% 2==0){\n",
    "        e[i] = print(i)\n",
    "    }\n",
    "    if (i %% 2==1){\n",
    "        o[i]= print(i)\n",
    "    }\n",
    "    \n",
    "}\n",
    "print(o)\n",
    "print(e)"
   ]
  },
  {
   "cell_type": "code",
   "execution_count": null,
   "id": "0b85e00b",
   "metadata": {},
   "outputs": [],
   "source": [
    "a=as.numeric(list())\n",
    "i=1\n",
    "while(i<=6){\n",
    "    a[i]=as.numeric(readline(\"Enter the element:\"))\n",
    "    i=i+1\n",
    "}\n",
    "a\n",
    "e=list()\n",
    "o=list()\n",
    "i=1\n",
    "q=1\n",
    "w=1\n",
    "while(i<=6){\n",
    "    if(a[i]%%2==0){\n",
    "        e[q]=a[i]\n",
    "        q=q+1\n",
    "    }else{\n",
    "        o[w]=a[i]\n",
    "        w=w+1\n",
    "    }\n",
    "    i=i+1\n",
    "}\n",
    "e\n",
    "o"
   ]
  },
  {
   "cell_type": "code",
   "execution_count": 12,
   "id": "01478689",
   "metadata": {},
   "outputs": [
    {
     "name": "stdout",
     "output_type": "stream",
     "text": [
      "enter the name har\n",
      "enter the uid 12\n",
      "enter the subject \n",
      "enter the branch q\n",
      "[1] \"har\"\n",
      "[1] \"12\"\n",
      "[1] \"q\"\n",
      "[1] \"ml\"\n"
     ]
    }
   ],
   "source": [
    "a=function(name,uid,branch,sub=\"ml\"){\n",
    "    print(name)\n",
    "    print(uid)\n",
    "    print(branch)\n",
    "    print(sub)}\n",
    "name=readline(\"enter the name \")\n",
    "uid=readline(\"enter the uid \")\n",
    "sub=readline(\"enter the subject \")\n",
    "branch=readline(\"enter the branch \")\n",
    "    if(sub==\"\")\n",
    "    {\n",
    "    a(name,uid,branch)\n",
    "}else{\n",
    "        a(name,uid,branch,sub)\n",
    "    }\n",
    "\n"
   ]
  },
  {
   "cell_type": "code",
   "execution_count": 1,
   "id": "e7035aa4",
   "metadata": {},
   "outputs": [],
   "source": [
    "\n",
    "library('stringr')"
   ]
  },
  {
   "cell_type": "code",
   "execution_count": 3,
   "id": "61fa8584",
   "metadata": {},
   "outputs": [
    {
     "name": "stdout",
     "output_type": "stream",
     "text": [
      "Enter the number:9876543212\n"
     ]
    },
    {
     "data": {
      "text/html": [
       "'Number valid'"
      ],
      "text/latex": [
       "'Number valid'"
      ],
      "text/markdown": [
       "'Number valid'"
      ],
      "text/plain": [
       "[1] \"Number valid\""
      ]
     },
     "metadata": {},
     "output_type": "display_data"
    }
   ],
   "source": [
    "num=as.numeric(readline(\"Enter the number:\"))\n",
    "a=\"[7-9]{1}[0-9]{9}\"\n",
    "if(grepl(a,num))\n",
    "    {\n",
    "        paste(\"Number valid\")\n",
    "    }else{\n",
    "        paste(\"Number invalid\")\n",
    "    }"
   ]
  },
  {
   "cell_type": "code",
   "execution_count": 13,
   "id": "af1ce064",
   "metadata": {
    "scrolled": true
   },
   "outputs": [
    {
     "name": "stdout",
     "output_type": "stream",
     "text": [
      "[1] \"1.to get models 1          2.to get color 2           3.to get RTO cost 3          4.to get location 4\"\n",
      "case no:3\n",
      "[1] 20000\n"
     ]
    }
   ],
   "source": [
    "print(\"1.to get models 1          2.to get color 2           3.to get RTO cost 3          4.to get location 4\")\n",
    "case=as.integer(readline(\"case no:\"))\n",
    "model=function(mod){\n",
    "    mod=c('xuv','bmwD20','dexter')\n",
    "    print(mod)}\n",
    "color=function(col){col=c('blue','red','white')\n",
    "    print(col)}\n",
    "cost=function(cos){\n",
    "    cos=20000\n",
    "    print(cos)}\n",
    "location=function(loc){\n",
    "    loc=\"porur\"\n",
    "    print(loc)\n",
    "}\n",
    "switch(case,model(mod),color(col),cost(cos),location(loc))"
   ]
  },
  {
   "cell_type": "code",
   "execution_count": null,
   "id": "6e0eec16",
   "metadata": {},
   "outputs": [],
   "source": [
    "case=readline(\"Enter the operation to perform: \")\n",
    "switch(case,Models=c(\"R15\",\"MT15\"),Color=c(\"R15-Black,Blue\",\"MT15-Blue,White\"),Price=c(\"R15-2.10l\",\"MT15-1.9l\"),Showroom=c(\"Ashok Nagar\",\"Adayar\"))"
   ]
  },
  {
   "cell_type": "code",
   "execution_count": 36,
   "id": "87754d0d",
   "metadata": {},
   "outputs": [
    {
     "name": "stdout",
     "output_type": "stream",
     "text": [
      "[1] \"com\"\n",
      "[1] \"org\"\n",
      "[1] \"net\"\n",
      "[1] \"in\"\n"
     ]
    }
   ],
   "source": [
    "a=c('www.zframz.com','www.wikipedia.org','www.asp.net','www.abcd.in')\n",
    "domain=\"\\\\w+\"\n",
    "b=str_extract_all(a,domain)\n",
    "for(i in b){\n",
    "    print(i[3])\n",
    "}"
   ]
  },
  {
   "cell_type": "code",
   "execution_count": 39,
   "id": "7ffd8543",
   "metadata": {},
   "outputs": [
    {
     "data": {
      "text/html": [
       "<ol>\n",
       "\t<li>'com'</li>\n",
       "\t<li>'org'</li>\n",
       "\t<li>'net'</li>\n",
       "\t<li>'in'</li>\n",
       "</ol>\n"
      ],
      "text/latex": [
       "\\begin{enumerate}\n",
       "\\item 'com'\n",
       "\\item 'org'\n",
       "\\item 'net'\n",
       "\\item 'in'\n",
       "\\end{enumerate}\n"
      ],
      "text/markdown": [
       "1. 'com'\n",
       "2. 'org'\n",
       "3. 'net'\n",
       "4. 'in'\n",
       "\n",
       "\n"
      ],
      "text/plain": [
       "[[1]]\n",
       "[1] \"com\"\n",
       "\n",
       "[[2]]\n",
       "[1] \"org\"\n",
       "\n",
       "[[3]]\n",
       "[1] \"net\"\n",
       "\n",
       "[[4]]\n",
       "[1] \"in\"\n"
      ]
     },
     "metadata": {},
     "output_type": "display_data"
    }
   ],
   "source": [
    "a=\"[a-z]+$\"   #$-end character\n",
    "d=c('www.zframz.com','www.wikipedia.org','www.asp.net','www.abcd.in')\n",
    "b=str_extract_all(a,string=d)\n",
    "b"
   ]
  },
  {
   "cell_type": "code",
   "execution_count": null,
   "id": "16185b4f",
   "metadata": {},
   "outputs": [],
   "source": []
  }
 ],
 "metadata": {
  "kernelspec": {
   "display_name": "R",
   "language": "R",
   "name": "ir"
  },
  "language_info": {
   "codemirror_mode": "r",
   "file_extension": ".r",
   "mimetype": "text/x-r-source",
   "name": "R",
   "pygments_lexer": "r",
   "version": "4.1.3"
  }
 },
 "nbformat": 4,
 "nbformat_minor": 5
}
