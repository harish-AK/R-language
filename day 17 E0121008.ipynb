{
 "cells": [
  {
   "cell_type": "code",
   "execution_count": 1,
   "id": "11ad87fd",
   "metadata": {},
   "outputs": [],
   "source": [
    "s1=c(2,3,7,2,6)\n",
    "s2=c(10,8,7,5,10)\n",
    "s3=c(10,13,14,13,15)\n",
    "combine=data.frame(cbind(s1,s2,s3))"
   ]
  },
  {
   "cell_type": "code",
   "execution_count": 2,
   "id": "eef010ef",
   "metadata": {},
   "outputs": [
    {
     "data": {
      "text/html": [
       "<table class=\"dataframe\">\n",
       "<caption>A data.frame: 5 × 3</caption>\n",
       "<thead>\n",
       "\t<tr><th scope=col>s1</th><th scope=col>s2</th><th scope=col>s3</th></tr>\n",
       "\t<tr><th scope=col>&lt;dbl&gt;</th><th scope=col>&lt;dbl&gt;</th><th scope=col>&lt;dbl&gt;</th></tr>\n",
       "</thead>\n",
       "<tbody>\n",
       "\t<tr><td>2</td><td>10</td><td>10</td></tr>\n",
       "\t<tr><td>3</td><td> 8</td><td>13</td></tr>\n",
       "\t<tr><td>7</td><td> 7</td><td>14</td></tr>\n",
       "\t<tr><td>2</td><td> 5</td><td>13</td></tr>\n",
       "\t<tr><td>6</td><td>10</td><td>15</td></tr>\n",
       "</tbody>\n",
       "</table>\n"
      ],
      "text/latex": [
       "A data.frame: 5 × 3\n",
       "\\begin{tabular}{lll}\n",
       " s1 & s2 & s3\\\\\n",
       " <dbl> & <dbl> & <dbl>\\\\\n",
       "\\hline\n",
       "\t 2 & 10 & 10\\\\\n",
       "\t 3 &  8 & 13\\\\\n",
       "\t 7 &  7 & 14\\\\\n",
       "\t 2 &  5 & 13\\\\\n",
       "\t 6 & 10 & 15\\\\\n",
       "\\end{tabular}\n"
      ],
      "text/markdown": [
       "\n",
       "A data.frame: 5 × 3\n",
       "\n",
       "| s1 &lt;dbl&gt; | s2 &lt;dbl&gt; | s3 &lt;dbl&gt; |\n",
       "|---|---|---|\n",
       "| 2 | 10 | 10 |\n",
       "| 3 |  8 | 13 |\n",
       "| 7 |  7 | 14 |\n",
       "| 2 |  5 | 13 |\n",
       "| 6 | 10 | 15 |\n",
       "\n"
      ],
      "text/plain": [
       "  s1 s2 s3\n",
       "1 2  10 10\n",
       "2 3   8 13\n",
       "3 7   7 14\n",
       "4 2   5 13\n",
       "5 6  10 15"
      ]
     },
     "metadata": {},
     "output_type": "display_data"
    }
   ],
   "source": [
    "combine"
   ]
  },
  {
   "cell_type": "code",
   "execution_count": 3,
   "id": "11b091eb",
   "metadata": {},
   "outputs": [],
   "source": [
    "stack_group=stack(combine)"
   ]
  },
  {
   "cell_type": "code",
   "execution_count": 4,
   "id": "201c3af0",
   "metadata": {},
   "outputs": [
    {
     "data": {
      "text/html": [
       "<table class=\"dataframe\">\n",
       "<caption>A data.frame: 15 × 2</caption>\n",
       "<thead>\n",
       "\t<tr><th scope=col>values</th><th scope=col>ind</th></tr>\n",
       "\t<tr><th scope=col>&lt;dbl&gt;</th><th scope=col>&lt;fct&gt;</th></tr>\n",
       "</thead>\n",
       "<tbody>\n",
       "\t<tr><td> 2</td><td>s1</td></tr>\n",
       "\t<tr><td> 3</td><td>s1</td></tr>\n",
       "\t<tr><td> 7</td><td>s1</td></tr>\n",
       "\t<tr><td> 2</td><td>s1</td></tr>\n",
       "\t<tr><td> 6</td><td>s1</td></tr>\n",
       "\t<tr><td>10</td><td>s2</td></tr>\n",
       "\t<tr><td> 8</td><td>s2</td></tr>\n",
       "\t<tr><td> 7</td><td>s2</td></tr>\n",
       "\t<tr><td> 5</td><td>s2</td></tr>\n",
       "\t<tr><td>10</td><td>s2</td></tr>\n",
       "\t<tr><td>10</td><td>s3</td></tr>\n",
       "\t<tr><td>13</td><td>s3</td></tr>\n",
       "\t<tr><td>14</td><td>s3</td></tr>\n",
       "\t<tr><td>13</td><td>s3</td></tr>\n",
       "\t<tr><td>15</td><td>s3</td></tr>\n",
       "</tbody>\n",
       "</table>\n"
      ],
      "text/latex": [
       "A data.frame: 15 × 2\n",
       "\\begin{tabular}{ll}\n",
       " values & ind\\\\\n",
       " <dbl> & <fct>\\\\\n",
       "\\hline\n",
       "\t  2 & s1\\\\\n",
       "\t  3 & s1\\\\\n",
       "\t  7 & s1\\\\\n",
       "\t  2 & s1\\\\\n",
       "\t  6 & s1\\\\\n",
       "\t 10 & s2\\\\\n",
       "\t  8 & s2\\\\\n",
       "\t  7 & s2\\\\\n",
       "\t  5 & s2\\\\\n",
       "\t 10 & s2\\\\\n",
       "\t 10 & s3\\\\\n",
       "\t 13 & s3\\\\\n",
       "\t 14 & s3\\\\\n",
       "\t 13 & s3\\\\\n",
       "\t 15 & s3\\\\\n",
       "\\end{tabular}\n"
      ],
      "text/markdown": [
       "\n",
       "A data.frame: 15 × 2\n",
       "\n",
       "| values &lt;dbl&gt; | ind &lt;fct&gt; |\n",
       "|---|---|\n",
       "|  2 | s1 |\n",
       "|  3 | s1 |\n",
       "|  7 | s1 |\n",
       "|  2 | s1 |\n",
       "|  6 | s1 |\n",
       "| 10 | s2 |\n",
       "|  8 | s2 |\n",
       "|  7 | s2 |\n",
       "|  5 | s2 |\n",
       "| 10 | s2 |\n",
       "| 10 | s3 |\n",
       "| 13 | s3 |\n",
       "| 14 | s3 |\n",
       "| 13 | s3 |\n",
       "| 15 | s3 |\n",
       "\n"
      ],
      "text/plain": [
       "   values ind\n",
       "1   2     s1 \n",
       "2   3     s1 \n",
       "3   7     s1 \n",
       "4   2     s1 \n",
       "5   6     s1 \n",
       "6  10     s2 \n",
       "7   8     s2 \n",
       "8   7     s2 \n",
       "9   5     s2 \n",
       "10 10     s2 \n",
       "11 10     s3 \n",
       "12 13     s3 \n",
       "13 14     s3 \n",
       "14 13     s3 \n",
       "15 15     s3 "
      ]
     },
     "metadata": {},
     "output_type": "display_data"
    }
   ],
   "source": [
    "stack_group"
   ]
  },
  {
   "cell_type": "code",
   "execution_count": 7,
   "id": "92a30a47",
   "metadata": {},
   "outputs": [
    {
     "data": {
      "text/plain": [
       "            Df Sum Sq Mean Sq F value   Pr(>F)    \n",
       "ind          2  203.3   101.7   22.59 8.54e-05 ***\n",
       "Residuals   12   54.0     4.5                     \n",
       "---\n",
       "Signif. codes:  0 '***' 0.001 '**' 0.01 '*' 0.05 '.' 0.1 ' ' 1"
      ]
     },
     "metadata": {},
     "output_type": "display_data"
    }
   ],
   "source": [
    "a=aov(values~ind,data=stack_group)\n",
    "summary(a)"
   ]
  },
  {
   "cell_type": "code",
   "execution_count": 8,
   "id": "37470609",
   "metadata": {},
   "outputs": [
    {
     "data": {
      "text/plain": [
       "Call:\n",
       "   aov(formula = values ~ ind, data = stack_group)\n",
       "\n",
       "Terms:\n",
       "                     ind Residuals\n",
       "Sum of Squares  203.3333   54.0000\n",
       "Deg. of Freedom        2        12\n",
       "\n",
       "Residual standard error: 2.12132\n",
       "Estimated effects may be unbalanced"
      ]
     },
     "metadata": {},
     "output_type": "display_data"
    }
   ],
   "source": [
    "a"
   ]
  },
  {
   "cell_type": "code",
   "execution_count": 9,
   "id": "912dd15b",
   "metadata": {},
   "outputs": [
    {
     "data": {
      "text/html": [
       "<table class=\"dataframe\">\n",
       "<caption>A Time Series: 1 × 12</caption>\n",
       "<thead>\n",
       "\t<tr><th></th><th scope=col>Jan</th><th scope=col>Feb</th><th scope=col>Mar</th><th scope=col>Apr</th><th scope=col>May</th><th scope=col>Jun</th><th scope=col>Jul</th><th scope=col>Aug</th><th scope=col>Sep</th><th scope=col>Oct</th><th scope=col>Nov</th><th scope=col>Dec</th></tr>\n",
       "</thead>\n",
       "<tbody>\n",
       "\t<tr><th scope=row>2021</th><td> 799.0</td><td>1174.8</td><td> 865.1</td><td>1334.6</td><td> 635.4</td><td> 918.5</td><td> 685.5</td><td> 998.6</td><td> 784.2</td><td> 985.0</td><td> 882.8</td><td>1071.0</td></tr>\n",
       "</tbody>\n",
       "</table>\n"
      ],
      "text/latex": [
       "A Time Series: 1 × 12\n",
       "\\begin{tabular}{r|llllllllllll}\n",
       "  & Jan & Feb & Mar & Apr & May & Jun & Jul & Aug & Sep & Oct & Nov & Dec\\\\\n",
       "\\hline\n",
       "\t2021 &  799.0 & 1174.8 &  865.1 & 1334.6 &  635.4 &  918.5 &  685.5 &  998.6 &  784.2 &  985.0 &  882.8 & 1071.0\\\\\n",
       "\\end{tabular}\n"
      ],
      "text/markdown": [
       "\n",
       "A Time Series: 1 × 12\n",
       "\n",
       "| <!--/--> | Jan | Feb | Mar | Apr | May | Jun | Jul | Aug | Sep | Oct | Nov | Dec |\n",
       "|---|---|---|---|---|---|---|---|---|---|---|---|---|\n",
       "| 2021 |  799.0 | 1174.8 |  865.1 | 1334.6 |  635.4 |  918.5 |  685.5 |  998.6 |  784.2 |  985.0 |  882.8 | 1071.0 |\n",
       "\n"
      ],
      "text/plain": [
       "     Jan    Feb    Mar    Apr    May    Jun    Jul    Aug    Sep    Oct   \n",
       "2021  799.0 1174.8  865.1 1334.6  635.4  918.5  685.5  998.6  784.2  985.0\n",
       "     Nov    Dec   \n",
       "2021  882.8 1071.0"
      ]
     },
     "metadata": {},
     "output_type": "display_data"
    },
    {
     "data": {
      "image/png": "[encoded data removed]",
      "text/plain": [
       "plot without title"
      ]
     },
     "metadata": {
      "image/png": {
       "height": 420,
       "width": 420
      }
     },
     "output_type": "display_data"
    }
   ],
   "source": [
    "# time series\n",
    "t=c(799,1174.8,865.1,1334.6,635.4,918.5,685.5,998.6,784.2,985,882.8,1071)\n",
    "time=ts(t,start=c(2021,1),frequency=12)\n",
    "time\n",
    "plot(time)"
   ]
  },
  {
   "cell_type": "code",
   "execution_count": 10,
   "id": "b1b16668",
   "metadata": {},
   "outputs": [
    {
     "name": "stderr",
     "output_type": "stream",
     "text": [
      "Warning message in matrix(c(superman, batman), nrow = 12):\n",
      "\"data length [16] is not a sub-multiple or multiple of the number of rows [12]\"\n"
     ]
    },
    {
     "data": {
      "text/html": [
       "<table class=\"dataframe\">\n",
       "<caption>A Time Series: 12 × 2</caption>\n",
       "<thead>\n",
       "\t<tr><th></th><th scope=col>Series 1</th><th scope=col>Series 2</th></tr>\n",
       "</thead>\n",
       "<tbody>\n",
       "\t<tr><th scope=row>2023.000</th><td> 799</td><td> 643</td></tr>\n",
       "\t<tr><th scope=row>2023.007</th><td>1222</td><td>  33</td></tr>\n",
       "\t<tr><th scope=row>2023.014</th><td> 122</td><td> 334</td></tr>\n",
       "\t<tr><th scope=row>2023.021</th><td>1212</td><td>  12</td></tr>\n",
       "\t<tr><th scope=row>2023.028</th><td>  33</td><td> 799</td></tr>\n",
       "\t<tr><th scope=row>2023.035</th><td> 444</td><td>1222</td></tr>\n",
       "\t<tr><th scope=row>2023.042</th><td> 565</td><td> 122</td></tr>\n",
       "\t<tr><th scope=row>2023.049</th><td> 700</td><td>1212</td></tr>\n",
       "\t<tr><th scope=row>2023.056</th><td> 343</td><td>  33</td></tr>\n",
       "\t<tr><th scope=row>2023.062</th><td> 345</td><td> 444</td></tr>\n",
       "\t<tr><th scope=row>2023.069</th><td> 666</td><td> 565</td></tr>\n",
       "\t<tr><th scope=row>2023.076</th><td>5555</td><td> 700</td></tr>\n",
       "</tbody>\n",
       "</table>\n"
      ],
      "text/latex": [
       "A Time Series: 12 × 2\n",
       "\\begin{tabular}{r|ll}\n",
       "  & Series 1 & Series 2\\\\\n",
       "\\hline\n",
       "\t2023.000 &  799 &  643\\\\\n",
       "\t2023.007 & 1222 &   33\\\\\n",
       "\t2023.014 &  122 &  334\\\\\n",
       "\t2023.021 & 1212 &   12\\\\\n",
       "\t2023.028 &   33 &  799\\\\\n",
       "\t2023.035 &  444 & 1222\\\\\n",
       "\t2023.042 &  565 &  122\\\\\n",
       "\t2023.049 &  700 & 1212\\\\\n",
       "\t2023.056 &  343 &   33\\\\\n",
       "\t2023.062 &  345 &  444\\\\\n",
       "\t2023.069 &  666 &  565\\\\\n",
       "\t2023.076 & 5555 &  700\\\\\n",
       "\\end{tabular}\n"
      ],
      "text/markdown": [
       "\n",
       "A Time Series: 12 × 2\n",
       "\n",
       "| <!--/--> | Series 1 | Series 2 |\n",
       "|---|---|---|\n",
       "| 2023.000 |  799 |  643 |\n",
       "| 2023.007 | 1222 |   33 |\n",
       "| 2023.014 |  122 |  334 |\n",
       "| 2023.021 | 1212 |   12 |\n",
       "| 2023.028 |   33 |  799 |\n",
       "| 2023.035 |  444 | 1222 |\n",
       "| 2023.042 |  565 |  122 |\n",
       "| 2023.049 |  700 | 1212 |\n",
       "| 2023.056 |  343 |   33 |\n",
       "| 2023.062 |  345 |  444 |\n",
       "| 2023.069 |  666 |  565 |\n",
       "| 2023.076 | 5555 |  700 |\n",
       "\n"
      ],
      "text/plain": [
       "         Series 1 Series 2\n",
       "2023.000  799      643    \n",
       "2023.007 1222       33    \n",
       "2023.014  122      334    \n",
       "2023.021 1212       12    \n",
       "2023.028   33      799    \n",
       "2023.035  444     1222    \n",
       "2023.042  565      122    \n",
       "2023.049  700     1212    \n",
       "2023.056  343       33    \n",
       "2023.062  345      444    \n",
       "2023.069  666      565    \n",
       "2023.076 5555      700    "
      ]
     },
     "metadata": {},
     "output_type": "display_data"
    },
    {
     "data": {
      "image/png": "[encoded data removed]",
      "text/plain": [
       "plot without title"
      ]
     },
     "metadata": {
      "image/png": {
       "height": 420,
       "width": 420
      }
     },
     "output_type": "display_data"
    }
   ],
   "source": [
    "superman=c(799,1222,122,1212,33,444,565,700)\n",
    "batman=c(343,345,666,5555,643,33,334,12)\n",
    "t=matrix(c(superman,batman),nrow=12)\n",
    "tt=ts(t,start=c(2023,1),frequency=24*6)\n",
    "tt\n",
    "plot(tt,main=\"DC BEGINS\")"
   ]
  },
  {
   "cell_type": "code",
   "execution_count": null,
   "id": "637175c1",
   "metadata": {},
   "outputs": [],
   "source": []
  }
 ],
 "metadata": {
  "kernelspec": {
   "display_name": "R",
   "language": "R",
   "name": "ir"
  },
  "language_info": {
   "codemirror_mode": "r",
   "file_extension": ".r",
   "mimetype": "text/x-r-source",
   "name": "R",
   "pygments_lexer": "r",
   "version": "4.1.3"
  }
 },
 "nbformat": 4,
 "nbformat_minor": 5
}
